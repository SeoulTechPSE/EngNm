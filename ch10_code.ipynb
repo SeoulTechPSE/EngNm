{
 "cells": [
  {
   "cell_type": "markdown",
   "metadata": {
    "slideshow": {
     "slide_type": "skip"
    }
   },
   "source": [
    " [![Open In Colab](https://colab.research.google.com/assets/colab-badge.svg)](https://colab.research.google.com/github/SeoulTechPSE/EngNm/blob/master/ch10_code.ipynb)"
   ]
  },
  {
   "cell_type": "markdown",
   "metadata": {
    "slideshow": {
     "slide_type": "slide"
    }
   },
   "source": [
    "# Chapter 10: Sparse matrices and graphs"
   ]
  },
  {
   "cell_type": "markdown",
   "metadata": {
    "slideshow": {
     "slide_type": "fragment"
    }
   },
   "source": [
    "Creator: Robert Johansson, Updator: Kee-Youn Yoo\n",
    "\n",
    "Updated source code listings for Numerical Python - A Practical Techniques Approach for Industry \n",
    "<p>(ISBN 978-1-484205-54-9)."
   ]
  },
  {
   "cell_type": "markdown",
   "metadata": {
    "slideshow": {
     "slide_type": "subslide"
    }
   },
   "source": [
    "For matrices that are dominated by zero elements, it is inefficient to store all the zeros in the computer's memory, and it is more suitable to store only the nonzero values with additional information about their locations. For non-sparse matrices, known as dense matrices, such a representation is less efficient than storing all values consecutively in the memory, but for large *sparse* matrices it can be vastly superior"
   ]
  },
  {
   "cell_type": "markdown",
   "metadata": {
    "slideshow": {
     "slide_type": "fragment"
    }
   },
   "source": [
    "There are several options for working with sparse matrices in Python. Here we mainly focus on the sparse\n",
    "matrix module in Scipy, [`scipy.sparse`](https://docs.scipy.org/doc/scipy/reference/sparse.html), which provides an easy-to-use interface for representing sparse matrices and carrying out linear algebra operations on such objects. Toward the end of the chapter, we also briefly explore representing and processing graphs, using the Scipy [`sparse.csgraph`](https://docs.scipy.org/doc/scipy/reference/sparse.csgraph.html) module and [the NetworkX library](https://networkx.github.io/). Graphs can be represented as adjacency matrices, which in many applications are very sparse. Graphs and sparse matrices are therefore closely connected topics"
   ]
  },
  {
   "cell_type": "markdown",
   "metadata": {
    "slideshow": {
     "slide_type": "slide"
    }
   },
   "source": [
    "## Importing modules"
   ]
  },
  {
   "cell_type": "code",
   "execution_count": null,
   "metadata": {
    "slideshow": {
     "slide_type": "fragment"
    }
   },
   "outputs": [],
   "source": [
    "import matplotlib.pyplot as plt\n",
    "import matplotlib as mpl\n",
    "\n",
    "import numpy as np\n",
    "import scipy.linalg as la\n",
    "\n",
    "import scipy.sparse as sp\n",
    "import scipy.sparse.linalg\n",
    "\n",
    "import networkx as nx"
   ]
  },
  {
   "cell_type": "markdown",
   "metadata": {
    "slideshow": {
     "slide_type": "slide"
    }
   },
   "source": [
    "## Sparse matrices in scipy"
   ]
  },
  {
   "cell_type": "markdown",
   "metadata": {
    "slideshow": {
     "slide_type": "fragment"
    }
   },
   "source": [
    "The basic idea of sparse matrix representation is to avoid storing the excessive amount of zeros in a\n",
    "sparse matrix. If we store only the nonzero elements, we clearly also need to store the row and column indices for each element. There are numerous approaches to organizing the storage of the nonzero elements and their corresponding row and column indices"
   ]
  },
  {
   "cell_type": "markdown",
   "metadata": {
    "slideshow": {
     "slide_type": "subslide"
    }
   },
   "source": [
    "The class [`sp.coo_matrix`](https://docs.scipy.org/doc/scipy/reference/generated/scipy.sparse.coo_matrix.html) is used to represent sparse matrices in the coordinate list format. This format is particularly easy to initialize. For instance, with the matrix,\n",
    "\n",
    "\\begin{bmatrix}\n",
    "0 & 1 & 0 & 0\\\\ \n",
    "0 & 0 & 0 & 2\\\\ \n",
    "0 & 0 & 3 & 0\\\\ \n",
    "4 & 0 & 0 & 0\n",
    "\\end{bmatrix}\n",
    "\n",
    "we can easily identify the nonzero values $[A_{01}=1,\\,A_{13}=2,\\,A_{22}=3,\\,A_{30}=4]$ and their corresponding rows $[0, 1, 2, 3]$ and columns $[1, 3, 2, 0]$ (note that here we have used Python’s zero-based indexing)"
   ]
  },
  {
   "cell_type": "code",
   "execution_count": null,
   "metadata": {
    "slideshow": {
     "slide_type": "fragment"
    }
   },
   "outputs": [],
   "source": [
    "values = [1, 2, 3, 4]\n",
    "\n",
    "rows = [0, 1, 2, 3]\n",
    "cols = [1, 3, 2, 0]\n",
    "\n",
    "A = sp.coo_matrix((values, (rows, cols)), shape=[4, 4]); A"
   ]
  },
  {
   "cell_type": "markdown",
   "metadata": {
    "slideshow": {
     "slide_type": "subslide"
    }
   },
   "source": [
    "The result is a data structure that represents the sparse matrix. All sparse matrix representations in\n",
    "Scipy's `sparse` module share several common attributes. Examples of such attributes are `shape`, `size`,`dtype`, and `ndim`, and common to all sparse matrix representations are the `nnz` (number of nonzero elements) and `data` (the nonzero values) attributes:"
   ]
  },
  {
   "cell_type": "code",
   "execution_count": null,
   "metadata": {
    "slideshow": {
     "slide_type": "fragment"
    }
   },
   "outputs": [],
   "source": [
    "A.shape, A.size, A.dtype, A.ndim"
   ]
  },
  {
   "cell_type": "code",
   "execution_count": null,
   "metadata": {
    "slideshow": {
     "slide_type": "fragment"
    }
   },
   "outputs": [],
   "source": [
    "A.nnz, A.data"
   ]
  },
  {
   "cell_type": "code",
   "execution_count": null,
   "metadata": {
    "slideshow": {
     "slide_type": "fragment"
    }
   },
   "outputs": [],
   "source": [
    "A.row, A.col"
   ]
  },
  {
   "cell_type": "markdown",
   "metadata": {
    "slideshow": {
     "slide_type": "subslide"
    }
   },
   "source": [
    "There are also a large number of methods available for operating on sparse matrix objects. Many of\n",
    "these methods are for applying mathematical functions on the matrix. For example, element-wise math\n",
    "methods like `sin`, `cos`, `arcsin`, etc., aggregation methods like `min`, `max`, `sum`, etc., mathematical array operators such as conjugate (`conj`) and transpose (`transpose`), etc., and `dot` for computing the dot product between sparse matrices or a sparse matrix and a dense vector"
   ]
  },
  {
   "cell_type": "markdown",
   "metadata": {
    "slideshow": {
     "slide_type": "subslide"
    }
   },
   "source": [
    "Another important family of methods is used to convert sparse matrices\n",
    "between different formats: For example `tocoo`, `tocsr`, `tolil`, etc. There are also the methods for converting a sparse matrix to Numpy `ndarray` and Numpy `matrix` objects (that is, dense matrix representations): `toarray` and `todense`, respectively"
   ]
  },
  {
   "cell_type": "code",
   "execution_count": null,
   "metadata": {
    "slideshow": {
     "slide_type": "fragment"
    }
   },
   "outputs": [],
   "source": [
    "A.tocsr()"
   ]
  },
  {
   "cell_type": "code",
   "execution_count": null,
   "metadata": {
    "slideshow": {
     "slide_type": "fragment"
    }
   },
   "outputs": [],
   "source": [
    "A.toarray()"
   ]
  },
  {
   "cell_type": "code",
   "execution_count": null,
   "metadata": {
    "slideshow": {
     "slide_type": "fragment"
    }
   },
   "outputs": [],
   "source": [
    "A.todense()"
   ]
  },
  {
   "cell_type": "markdown",
   "metadata": {
    "slideshow": {
     "slide_type": "subslide"
    }
   },
   "source": [
    "The obvious way to access elements in a matrix, which we have used in numerous different contexts so\n",
    "far, is using the indexing syntax, for example `A[1,2]`, as well as the slicing syntax, for example `A[1:3,2]`, and so on. We can often use this syntax with sparse matrices too, but not all representations support indexing and slicing, and if it is supported, it may not be an efficient operation"
   ]
  },
  {
   "cell_type": "code",
   "execution_count": null,
   "metadata": {
    "slideshow": {
     "slide_type": "fragment"
    }
   },
   "outputs": [],
   "source": [
    "A[0,1]"
   ]
  },
  {
   "cell_type": "code",
   "execution_count": null,
   "metadata": {
    "slideshow": {
     "slide_type": "fragment"
    }
   },
   "outputs": [],
   "source": [
    "A.tobsr()[0,1]"
   ]
  },
  {
   "cell_type": "code",
   "execution_count": null,
   "metadata": {
    "slideshow": {
     "slide_type": "subslide"
    }
   },
   "outputs": [],
   "source": [
    "A.tocsr()[0,1]"
   ]
  },
  {
   "cell_type": "code",
   "execution_count": null,
   "metadata": {
    "slideshow": {
     "slide_type": "fragment"
    }
   },
   "outputs": [],
   "source": [
    "A.tolil()[1:3,3]"
   ]
  },
  {
   "cell_type": "markdown",
   "metadata": {
    "slideshow": {
     "slide_type": "subslide"
    }
   },
   "source": [
    "When working with sparse matrices, it is common to face the situation that different tasks – such\n",
    "as construction, updating, and arithmetic operations – are most efficiently handled in different formats.\n",
    "Converting between different sparse formats is relatively efficient, so it is useful to switch between\n",
    "different formats in different parts of an application. Efficient use of sparse matrices therefore requires an understanding of how different formats are implemented and what they are suitable for "
   ]
  },
  {
   "cell_type": "markdown",
   "metadata": {
    "slideshow": {
     "slide_type": "fragment"
    }
   },
   "source": [
    "For computations, the most important sparse matrix representations in Scipy's `sparse` module are\n",
    "the **CSR (Compressed Sparse Row)** and **CSC (Compressed Sparse Column)** formats, because they are well suited for efficient matrix arithmetic and linear algebra applications. Other formats, like **COO**, **LIL** and **DOK** are mainly used for constructing and updating sparse matrices, and once a sparse matrix is ready to be used in computations, it is best to convert it to either CSR or CSC format, using the `tocsr` or `tocsc` methods, respectively"
   ]
  },
  {
   "cell_type": "markdown",
   "metadata": {
    "slideshow": {
     "slide_type": "subslide"
    }
   },
   "source": [
    "In the CSR format, the nonzero values (`data`) are stored along with an array that contains the column\n",
    "indices of each value (`indices`), and another array that stores the offsets of the column index array of each\n",
    "row with the total number of nonzero elements at the end(`indptr`). For instance, consider the matrix\n",
    "\n",
    "\\begin{bmatrix}\n",
    "1 & 3 & 0 & 0\\\\ \n",
    "0 & 5 & 7 & 0\\\\ \n",
    "0 & 0 & 9 & 11\\\\ \n",
    "13 & 0 & 15 & 17\n",
    "\\end{bmatrix}"
   ]
  },
  {
   "cell_type": "code",
   "execution_count": null,
   "metadata": {
    "slideshow": {
     "slide_type": "fragment"
    }
   },
   "outputs": [],
   "source": [
    "A = np.array([[1, 3, 0, 0], [0, 5, 7, 0], [0, 0, 9, 11], [13, 0, 15, 17]]); A"
   ]
  },
  {
   "cell_type": "code",
   "execution_count": null,
   "metadata": {
    "slideshow": {
     "slide_type": "subslide"
    }
   },
   "outputs": [],
   "source": [
    "A = sp.csr_matrix(A)"
   ]
  },
  {
   "cell_type": "code",
   "execution_count": null,
   "metadata": {
    "slideshow": {
     "slide_type": "fragment"
    }
   },
   "outputs": [],
   "source": [
    "A.data"
   ]
  },
  {
   "cell_type": "code",
   "execution_count": null,
   "metadata": {
    "slideshow": {
     "slide_type": "fragment"
    }
   },
   "outputs": [],
   "source": [
    "A.indices"
   ]
  },
  {
   "cell_type": "code",
   "execution_count": null,
   "metadata": {
    "slideshow": {
     "slide_type": "fragment"
    }
   },
   "outputs": [],
   "source": [
    "A.indptr"
   ]
  },
  {
   "cell_type": "markdown",
   "metadata": {
    "slideshow": {
     "slide_type": "subslide"
    }
   },
   "source": [
    "For example, the elements in the third row, with index `i = 2`, starts at\n",
    "`indptr[2] = 4` and ends at `indptr[3] -1 = 5`, which gives the element values `data[4] = 9` and `data[5] = 11` and column indices `indices[4] = 2` and `indices[5] = 3`. Thus, `A[2,2] = 9` and `A[2,3] = 11`:"
   ]
  },
  {
   "cell_type": "code",
   "execution_count": null,
   "metadata": {
    "slideshow": {
     "slide_type": "fragment"
    }
   },
   "outputs": [],
   "source": [
    "i = 2\n",
    "A.indptr[i], A.indptr[i +1] -1"
   ]
  },
  {
   "cell_type": "code",
   "execution_count": null,
   "metadata": {
    "slideshow": {
     "slide_type": "fragment"
    }
   },
   "outputs": [],
   "source": [
    "A.indices[A.indptr[i]:A.indptr[i +1]]"
   ]
  },
  {
   "cell_type": "code",
   "execution_count": null,
   "metadata": {
    "slideshow": {
     "slide_type": "fragment"
    }
   },
   "outputs": [],
   "source": [
    "A.data[A.indptr[i]:A.indptr[i +1]]"
   ]
  },
  {
   "cell_type": "code",
   "execution_count": null,
   "metadata": {
    "slideshow": {
     "slide_type": "fragment"
    }
   },
   "outputs": [],
   "source": [
    "A[2, 2], A[2, 3] # check"
   ]
  },
  {
   "cell_type": "markdown",
   "metadata": {
    "slideshow": {
     "slide_type": "subslide"
    }
   },
   "source": [
    "### Functions for creating sparse matrices"
   ]
  },
  {
   "cell_type": "markdown",
   "metadata": {
    "slideshow": {
     "slide_type": "fragment"
    }
   },
   "source": [
    "As we have seen examples earlier in this chapter, one way of constructing sparse matrices is to prepare the data structures for a specific sparse matrix format, and pass these to the constructor of the corresponding sparse matrix class. While this method is sometimes suitable, it is often more convenient to compose sparse matrices from predefined template matrices"
   ]
  },
  {
   "cell_type": "markdown",
   "metadata": {
    "slideshow": {
     "slide_type": "fragment"
    }
   },
   "source": [
    "To create a sparse matrix of\n",
    "size 10 x 10 with a main diagonal and an upper and lower diagonal, we can use three calls to [`sp.eye`](https://docs.scipy.org/doc/scipy/reference/generated/scipy.sparse.eye.html), using the `k` argument to specify the offset from the main diagonal:"
   ]
  },
  {
   "cell_type": "code",
   "execution_count": null,
   "metadata": {
    "slideshow": {
     "slide_type": "fragment"
    }
   },
   "outputs": [],
   "source": [
    "N = 10\n",
    "A = sp.eye(N, k=1) -2 *sp.eye(N) +sp.eye(N, k=-1); A"
   ]
  },
  {
   "cell_type": "markdown",
   "metadata": {
    "slideshow": {
     "slide_type": "subslide"
    }
   },
   "source": [
    "By default, the resulting object is sparse matrix in the CSR format, but using the `format` argument, we\n",
    "can specify any other sparse matrix format. All functions for creating sparse matrices in [`sp.sparse`](https://docs.scipy.org/doc/scipy/reference/sparse.html) accept this argument. For example, in the previous example, we could have produced the same matrix using [`sp.diags`](https://docs.scipy.org/doc/scipy/reference/generated/scipy.sparse.spdiags.html), by specifying the pattern `[1, -2, 1]`, and the corresponding offsets from the main diagonal `[1, 0, -1]`. If we additionally want the resulting sparse\n",
    "matrix in CSC format, we can set `format='csc'`: "
   ]
  },
  {
   "cell_type": "code",
   "execution_count": null,
   "metadata": {
    "slideshow": {
     "slide_type": "fragment"
    }
   },
   "outputs": [],
   "source": [
    "A = sp.diags([1, -2, 1], [1, 0, -1], shape=[N, N], format='csc'); A"
   ]
  },
  {
   "cell_type": "code",
   "execution_count": null,
   "metadata": {
    "slideshow": {
     "slide_type": "fragment"
    }
   },
   "outputs": [],
   "source": [
    "fig, ax = plt.subplots()\n",
    "ax.spy(A);"
   ]
  },
  {
   "cell_type": "markdown",
   "metadata": {
    "slideshow": {
     "slide_type": "subslide"
    }
   },
   "source": [
    "For example, to create a sparse matrix for the tensor product between $A$ and the matrix\n",
    "\n",
    "$$\\scriptsize\n",
    "\\begin{bmatrix}\n",
    "0 & 1 & 0\\\\ \n",
    "1 & 0 & 1\\\\ \n",
    "0 & 1 & 0\n",
    "\\end{bmatrix}$$\n",
    "\n",
    "we can use [`sp.kron`](https://docs.scipy.org/doc/scipy/reference/generated/scipy.sparse.kron.html)`(A, B)`:"
   ]
  },
  {
   "cell_type": "code",
   "execution_count": null,
   "metadata": {
    "slideshow": {
     "slide_type": "fragment"
    }
   },
   "outputs": [],
   "source": [
    "B = sp.diags([1, 1], [-1, 1], shape=[3, 3])\n",
    "C = sp.kron(A, B)\n",
    "\n",
    "fig, (ax_A, ax_B, ax_C) = plt.subplots(1, 3, figsize=(12, 4))\n",
    "ax_A.spy(A)\n",
    "ax_B.spy(B)\n",
    "ax_C.spy(C);"
   ]
  },
  {
   "cell_type": "markdown",
   "metadata": {
    "slideshow": {
     "slide_type": "subslide"
    }
   },
   "source": [
    "### Sparse linear algebra functions"
   ]
  },
  {
   "cell_type": "markdown",
   "metadata": {
    "slideshow": {
     "slide_type": "fragment"
    }
   },
   "source": [
    "The main application of sparse matrices is to perform linear algebra operations on large matrices that are intractable or inefficient to treat using dense matrix representations \n",
    "\n",
    "The Scipy `sparse` module contains a module `linalg` that implements many linear algebra routines. Not all linear algebra operations are suitable for sparse matrices, and in some cases the behavior of the sparse matrix version of operations needs to be modified compared to the dense counterparts\n",
    "\n",
    "Consequently, there are a number of differences between the sparse linear algebra module [`scipy.sparse.linalg`](https://docs.scipy.org/doc/scipy/reference/sparse.linalg.html) and the dense linear algebra module [`scipy.linalg`](https://docs.scipy.org/doc/scipy/reference/linalg.html).\n",
    "In general, for sparse matrix methods to be efficient, they must retain the sparsity of matrices involved in the computation\n",
    "\n",
    "An examples of operations where the sparsity usually is not retained is the matrix inverse, and\n",
    "it should therefore be avoided when possible"
   ]
  },
  {
   "cell_type": "markdown",
   "metadata": {
    "slideshow": {
     "slide_type": "subslide"
    }
   },
   "source": [
    "### Linear equation systems"
   ]
  },
  {
   "cell_type": "markdown",
   "metadata": {
    "slideshow": {
     "slide_type": "fragment"
    }
   },
   "source": [
    "The most important application of sparse matrices is arguably to solve linear equation system on the form\n",
    "$\\mathbf{A}\\mathbf{x} = \\mathbf{b}$, where $\\mathbf{A}$ is a sparse matrix and $\\mathbf{x}$ and $\\mathbf{b}$ are dense vectors. \n",
    "The Scipy `sparse.linalg` module has both direct and iterative solver for this type of problem ([`sp.linalg.spsolve`](https://docs.scipy.org/doc/scipy/reference/generated/scipy.sparse.linalg.spsolve.html)), and methods to factor a matrix $\\mathbf{A}$, using for example LU factorization ([`sp.linalg.splu`](https://docs.scipy.org/doc/scipy/reference/generated/scipy.sparse.linalg.splu.html)) and incomplete LU factorization ([`sp.linalg.spilu`](https://docs.scipy.org/doc/scipy/reference/generated/scipy.sparse.linalg.spilu.html))."
   ]
  },
  {
   "cell_type": "code",
   "execution_count": null,
   "metadata": {
    "slideshow": {
     "slide_type": "fragment"
    }
   },
   "outputs": [],
   "source": [
    "N = 10\n",
    "A = sp.diags([1, -2, 1], [1, 0, -1], shape=[N, N], format='csc')\n",
    "b = -np.ones(N)"
   ]
  },
  {
   "cell_type": "code",
   "execution_count": null,
   "metadata": {
    "slideshow": {
     "slide_type": "fragment"
    }
   },
   "outputs": [],
   "source": [
    "x = sp.linalg.spsolve(A, b); x"
   ]
  },
  {
   "cell_type": "markdown",
   "metadata": {
    "slideshow": {
     "slide_type": "subslide"
    }
   },
   "source": [
    "For comparison, we can also solve this problem using\n",
    "dense direct solver in Numpy [`np.linalg.solve`](https://numpy.org/doc/stable/reference/generated/numpy.linalg.solve.html) (or, similarly, using [`scipy.linalg.solve`](https://docs.scipy.org/doc/scipy/reference/generated/scipy.linalg.solve.html))"
   ]
  },
  {
   "cell_type": "code",
   "execution_count": null,
   "metadata": {
    "slideshow": {
     "slide_type": "fragment"
    }
   },
   "outputs": [],
   "source": [
    "np.linalg.solve(A.todense(), b)"
   ]
  },
  {
   "cell_type": "markdown",
   "metadata": {
    "slideshow": {
     "slide_type": "fragment"
    }
   },
   "source": [
    "As expected, the result agrees with what we obtained from the sparse solver. For small problems like this\n",
    "one there is not much to gain using sparse matrices, but for increasing system size the merits of using sparse\n",
    "matrices and sparse solvers become apparent. For this particular problem, the threshold system size beyond which sparse methods outperforms dense methods is approximately `N=100`"
   ]
  },
  {
   "cell_type": "markdown",
   "metadata": {
    "slideshow": {
     "slide_type": "subslide"
    }
   },
   "source": [
    "An alternative to the [`spsolve`](https://docs.scipy.org/doc/scipy/reference/generated/scipy.sparse.linalg.spsolve.html) interface is to explicitly compute the LU factorization using [`sp.sparse.splu`](https://docs.scipy.org/doc/scipy/reference/generated/scipy.sparse.linalg.splu.html) or [`sp.sparse.spilu`](https://docs.scipy.org/doc/scipy/reference/generated/scipy.sparse.linalg.spilu.html) (incomplete LU factorization). These functions return an object that contains the $\\mathbf{L}$ and $\\mathbf{U}$ factors, and that has a method `solve` that solves $\\mathbf{LUx} = \\mathbf{b}$ for a given vector $\\mathbf{b}$"
   ]
  },
  {
   "cell_type": "code",
   "execution_count": null,
   "metadata": {
    "slideshow": {
     "slide_type": "fragment"
    }
   },
   "outputs": [],
   "source": [
    "lu = sp.linalg.splu(A)"
   ]
  },
  {
   "cell_type": "code",
   "execution_count": null,
   "metadata": {
    "slideshow": {
     "slide_type": "fragment"
    }
   },
   "outputs": [],
   "source": [
    "lu.L"
   ]
  },
  {
   "cell_type": "code",
   "execution_count": null,
   "metadata": {
    "slideshow": {
     "slide_type": "fragment"
    }
   },
   "outputs": [],
   "source": [
    "lu.U"
   ]
  },
  {
   "cell_type": "code",
   "execution_count": null,
   "metadata": {
    "slideshow": {
     "slide_type": "fragment"
    }
   },
   "outputs": [],
   "source": [
    "x = lu.solve(b); x"
   ]
  },
  {
   "cell_type": "markdown",
   "metadata": {
    "slideshow": {
     "slide_type": "subslide"
    }
   },
   "source": [
    "An important consideration that arises with sparse matrices is that the LU factorization of $\\mathbf{A}$ may introduce new nonzero elements in $\\mathbf{L}$ and $\\mathbf{U}$ compared to the matrix $\\mathbf{A}$, and therefore make $\\mathbf{L}$ and $\\mathbf{U}$ less sparse. Elements that exist in $\\mathbf{L}$ or $\\mathbf{U}$, but not in $\\mathbf{A}$, are called fill-ins. \n",
    "\n",
    "If the amount of fill-ins is large, the\n",
    "advantage of using sparse matrices may be lost. While there is no complete solution to eliminate fill-ins, it is often possible to reduce fill-in by permuting the rows and columns in $\\mathbf{A}$, so that the LU factorization takes the form $\\mathbf{P_r AP_c} = \\mathbf{LU}$.\n",
    "\n",
    "The [`spsolve`](https://docs.scipy.org/doc/scipy/reference/generated/scipy.sparse.linalg.spsolve.html), [`splu`](https://docs.scipy.org/doc/scipy/reference/generated/scipy.sparse.linalg.splu.html) and [`spilu`](https://docs.scipy.org/doc/scipy/reference/generated/scipy.sparse.linalg.spilu.html) functions all take the argument `permc_spec`, which can take the values `NATURAL`, `MMD_ATA`, `MMD_AT_PLUT_A`, or `COLAMD`, which indicates different permutation methods that are built in these methods. The object returned by `splu` and `spilu` accounts for such permutations, and the permutation vectors are available via the `perm_c` and `perm_r` attributes."
   ]
  },
  {
   "cell_type": "code",
   "execution_count": null,
   "metadata": {
    "slideshow": {
     "slide_type": "fragment"
    }
   },
   "outputs": [],
   "source": [
    "lu.L *lu.U -A"
   ]
  },
  {
   "cell_type": "code",
   "execution_count": null,
   "metadata": {
    "slideshow": {
     "slide_type": "fragment"
    }
   },
   "outputs": [],
   "source": [
    "lu.perm_r, lu.perm_c"
   ]
  },
  {
   "cell_type": "code",
   "execution_count": null,
   "metadata": {
    "slideshow": {
     "slide_type": "subslide"
    }
   },
   "outputs": [],
   "source": [
    "def sp_permute(A, perm_r, perm_c):\n",
    "    \"\"\" permute rows and columns of A \"\"\"\n",
    "    M, N = A.shape\n",
    "    # row permumation matrix\n",
    "    Pr = sp.coo_matrix((np.ones(M), (perm_r, np.arange(N)))).tocsr()\n",
    "    # column permutation matrix\n",
    "    Pc = sp.coo_matrix((np.ones(M), (np.arange(M), perm_c))).tocsr()\n",
    "    return Pr.T *A *Pc.T"
   ]
  },
  {
   "cell_type": "code",
   "execution_count": null,
   "metadata": {
    "slideshow": {
     "slide_type": "fragment"
    }
   },
   "outputs": [],
   "source": [
    "sp_permute(lu.L *lu.U, lu.perm_r, lu.perm_c) -A"
   ]
  },
  {
   "cell_type": "code",
   "execution_count": null,
   "metadata": {
    "slideshow": {
     "slide_type": "fragment"
    }
   },
   "outputs": [],
   "source": [
    "fig, (ax1, ax2, ax3) = plt.subplots(1, 3, figsize=(12, 4))\n",
    "ax1.spy(lu.L)\n",
    "ax2.spy(lu.U)\n",
    "ax3.spy(A);"
   ]
  },
  {
   "cell_type": "markdown",
   "metadata": {
    "slideshow": {
     "slide_type": "subslide"
    }
   },
   "source": [
    "By default, the direct sparse linear solver in Scipy uses the [`SuperLU`](https://docs.scipy.org/doc/scipy/reference/generated/scipy.sparse.linalg.SuperLU.html) package. An alternative sparse matrix solver that also can be used in Scipy is the `UMFPACK` package, although this package is not bundled with Scipy and requires that the [`scikit-umfpack`](https://scikit-umfpack.github.io/scikit-umfpack/) Python library is installed. If `scikit-umfpack` is available and the `use_umfpack` argument to the `sp.linalg.spsolve` function is `True`, then the `UMFPACK` is used instead of `SuperLU`. \n",
    "\n",
    "Whether `SuperLU` or `UMFPACK` gives better performance varies from problem to problem, so it is worth having both installed and testing both for any given problem"
   ]
  },
  {
   "cell_type": "code",
   "execution_count": null,
   "metadata": {
    "slideshow": {
     "slide_type": "fragment"
    }
   },
   "outputs": [],
   "source": [
    "# use_umfpack=True is only effective if scikit-umfpack is installed\n",
    "x = sp.linalg.spsolve(A, b, use_umfpack=True); x"
   ]
  },
  {
   "cell_type": "markdown",
   "metadata": {
    "slideshow": {
     "slide_type": "subslide"
    }
   },
   "source": [
    "The `sp.spsolve` function is an interface to direct solvers, which internally performs matrix\n",
    "factorization. \n",
    "\n",
    "An alternative approach is to use iterative methods that originate in optimization. The Scipy [`sparse.linalg`](https://docs.scipy.org/doc/scipy/reference/sparse.linalg.html#module-scipy.sparse.linalg) module contains several functions for iterative solution of sparse linear problems: For example, [`bicg`](https://docs.scipy.org/doc/scipy/reference/generated/scipy.sparse.linalg.bicg.html) (biconjugate gradient method), [`bicgstab`](https://docs.scipy.org/doc/scipy/reference/generated/scipy.sparse.linalg.bicgstab.html) (biconjugate gradient stabilized method), [`cg`](https://docs.scipy.org/doc/scipy/reference/generated/scipy.sparse.linalg.cg.html)(conjugate gradient), [`gmres`](https://docs.scipy.org/doc/scipy/reference/generated/scipy.sparse.linalg.gmres.html) (generalized minimum residual), and [`lgmres`](https://docs.scipy.org/doc/scipy/reference/generated/scipy.sparse.linalg.lgmres.html) (loose generalized minimum residual method). \n",
    "\n",
    "All of these functions (and a few others) can be used to solve the problem $\\mathbf{Ax} = \\mathbf{b}$ by calling the function with $\\mathbf{A}$ and $\\mathbf{b}$ as arguments, and they all return a tuple `(x,info)` where `x` is the solution and `info` contains additional information about the solution process (`info=0` indicates success, and it is positive for convergence error, and negative for input error). For example:"
   ]
  },
  {
   "cell_type": "code",
   "execution_count": null,
   "metadata": {
    "slideshow": {
     "slide_type": "fragment"
    }
   },
   "outputs": [],
   "source": [
    "x, info = sp.linalg.bicgstab(A, b); x"
   ]
  },
  {
   "cell_type": "code",
   "execution_count": null,
   "metadata": {
    "slideshow": {
     "slide_type": "fragment"
    }
   },
   "outputs": [],
   "source": [
    "x, info = sp.linalg.cg(A, b); x"
   ]
  },
  {
   "cell_type": "code",
   "execution_count": null,
   "metadata": {
    "slideshow": {
     "slide_type": "fragment"
    }
   },
   "outputs": [],
   "source": [
    "x, info = sp.linalg.lgmres(A, b, atol=1e-5); x"
   ]
  },
  {
   "cell_type": "markdown",
   "metadata": {
    "slideshow": {
     "slide_type": "subslide"
    }
   },
   "source": [
    "Iterative solver may have an advantage over direct solvers for very large problems,\n",
    "where direct solvers may require excessive memory usage due to undesirable fill-ins. In contrast, iterative solvers only require to evaluate sparse matrix-vector multiplications, and therefore do not suffer from fill-in problems, but on the other hand, they might have slow convergence for many problems, especially if not properly preconditioned"
   ]
  },
  {
   "cell_type": "markdown",
   "metadata": {
    "slideshow": {
     "slide_type": "fragment"
    }
   },
   "source": [
    "#### A matrix permutation method: [reverse_cuthil_mckee](https://docs.scipy.org/doc/scipy/reference/generated/scipy.sparse.csgraph.reverse_cuthill_mckee.html)"
   ]
  },
  {
   "cell_type": "code",
   "execution_count": null,
   "metadata": {
    "slideshow": {
     "slide_type": "fragment"
    }
   },
   "outputs": [],
   "source": [
    "N = 25\n",
    "A = sp.diags([1, -2, 1], [8, 0, -8], shape=[N, N], format='csc')\n",
    "perm = sp.csgraph.reverse_cuthill_mckee(A); perm"
   ]
  },
  {
   "cell_type": "code",
   "execution_count": null,
   "metadata": {
    "slideshow": {
     "slide_type": "subslide"
    }
   },
   "outputs": [],
   "source": [
    "fig, (ax1, ax2) = plt.subplots(1, 2, figsize=(8, 4))\n",
    "ax1.spy(A)\n",
    "ax2.spy(sp_permute(A, perm, perm));"
   ]
  },
  {
   "cell_type": "markdown",
   "metadata": {
    "slideshow": {
     "slide_type": "subslide"
    }
   },
   "source": [
    "#### Performance comparison: Sparse/Dense"
   ]
  },
  {
   "cell_type": "code",
   "execution_count": null,
   "metadata": {
    "cell_style": "split",
    "slideshow": {
     "slide_type": "fragment"
    }
   },
   "outputs": [],
   "source": [
    "# compare performance of solving Ax=b vs system size N,\n",
    "# where A is the sparse matrix for the 1d poisson problem\n",
    "import time\n",
    "\n",
    "def setup(N):\n",
    "    A = sp.diags([1,-2,1], [1,0,-1], shape=[N, N], format='csr')\n",
    "    b = -np.ones(N)\n",
    "    return A, A.todense(), b\n",
    "\n",
    "reps = 10\n",
    "\n",
    "N_vec = np.arange(10, 2000, 10)\n",
    "t_sparse = np.empty(len(N_vec))\n",
    "t_dense = np.empty(len(N_vec))\n",
    "for idx, N in enumerate(N_vec):\n",
    "    A, A_dense, b = setup(N)\n",
    "    t = time.time()\n",
    "    for r in range(reps):\n",
    "        x = np.linalg.solve(A_dense, b)\n",
    "    t_dense[idx] = (time.time() -t)/reps\n",
    "\n",
    "    t = time.time()\n",
    "    for r in range(reps):\n",
    "        x = sp.linalg.spsolve(A, b, use_umfpack=True)\n",
    "    t_sparse[idx] = (time.time() -t)/reps"
   ]
  },
  {
   "cell_type": "code",
   "execution_count": null,
   "metadata": {
    "cell_style": "split",
    "slideshow": {
     "slide_type": "fragment"
    }
   },
   "outputs": [],
   "source": [
    "fig, ax = plt.subplots(figsize=(8, 4))\n",
    "\n",
    "ax.plot(N_vec, t_dense *1e3, '.-', label=\"dense\")\n",
    "ax.plot(N_vec, t_sparse *1e3, '.-', label=\"sparse\")\n",
    "ax.set_xlabel(r\"$N$\", fontsize=16)\n",
    "ax.set_ylabel(\"Elapsed Time, [ms]\", fontsize=16)\n",
    "ax.legend(loc=0)\n",
    "\n",
    "ax.set_xlim(0, 2000)\n",
    "ax.set_ylim(0, 400)\n",
    "\n",
    "fig.tight_layout()"
   ]
  },
  {
   "cell_type": "markdown",
   "metadata": {
    "slideshow": {
     "slide_type": "subslide"
    }
   },
   "source": [
    "### Eigenvalue problems"
   ]
  },
  {
   "cell_type": "markdown",
   "metadata": {
    "slideshow": {
     "slide_type": "fragment"
    }
   },
   "source": [
    "Sparse eigenvalue and [singular-value](https://en.wikipedia.org/wiki/Singular_value_decomposition) problems can be solved using the [`sp.linalg.eigs`](https://docs.scipy.org/doc/scipy/reference/generated/scipy.sparse.linalg.eigs.html) and [`sp.linalg.svds`](https://docs.scipy.org/doc/scipy/reference/generated/scipy.sparse.linalg.svds.html)\n",
    "functions, respectively. For real symmetric or complex [hermitian](https://en.wikipedia.org/wiki/Hermitian_matrix) matrices, the eigenvalues (which in this\n",
    "case are real) and eigenvectors can also be computed using [`sp.linalg.eigsh`](https://docs.scipy.org/doc/scipy/reference/generated/scipy.sparse.linalg.eigsh.html). These functions do not compute all eigenvalues or singular values, but rather compute a given number of eigenvalues and\n",
    "vectors (the default is six)."
   ]
  },
  {
   "cell_type": "markdown",
   "metadata": {
    "slideshow": {
     "slide_type": "fragment"
    }
   },
   "source": [
    "For example, to compute the largest four eigenvalues for the sparse matrix of the one-dimensional\n",
    "Poisson problem (of system size 10 x 10),"
   ]
  },
  {
   "cell_type": "code",
   "execution_count": null,
   "metadata": {
    "slideshow": {
     "slide_type": "fragment"
    }
   },
   "outputs": [],
   "source": [
    "N = 10\n",
    "A = sp.diags([1, -2, 1], [1, 0, -1], shape=[N, N], format='csc')\n",
    "evals, evecs = sp.linalg.eigs(A, k=4, which='LM')"
   ]
  },
  {
   "cell_type": "code",
   "execution_count": null,
   "metadata": {
    "slideshow": {
     "slide_type": "subslide"
    }
   },
   "outputs": [],
   "source": [
    "evals"
   ]
  },
  {
   "cell_type": "code",
   "execution_count": null,
   "metadata": {
    "slideshow": {
     "slide_type": "fragment"
    }
   },
   "outputs": [],
   "source": [
    "evecs"
   ]
  },
  {
   "cell_type": "code",
   "execution_count": null,
   "metadata": {
    "slideshow": {
     "slide_type": "fragment"
    }
   },
   "outputs": [],
   "source": [
    "np.allclose(A.dot(evecs[:, 0]), evals[0] *evecs[:, 0])"
   ]
  },
  {
   "cell_type": "markdown",
   "metadata": {
    "slideshow": {
     "slide_type": "subslide"
    }
   },
   "source": [
    "For this particular example, the sparse matrix $\\mathbf{A}$ is symmetric, so instead of `sp.linalg.eigs` we could use `sp.linalg.eigsh` instead, and in doing so we obtain an eigenvalue array with real-valued elements:"
   ]
  },
  {
   "cell_type": "code",
   "execution_count": null,
   "metadata": {
    "slideshow": {
     "slide_type": "fragment"
    }
   },
   "outputs": [],
   "source": [
    "evals, evecs = sp.linalg.eigsh(A, k=4, which='LM'); evals"
   ]
  },
  {
   "cell_type": "markdown",
   "metadata": {
    "slideshow": {
     "slide_type": "fragment"
    }
   },
   "source": [
    "By changing the argument `which='LM'` (for largest magnitude) to `which='SM'` (smallest magnitude), we\n",
    "obtain a different set of eigenvalues and vector (those with smallest magnitude)."
   ]
  },
  {
   "cell_type": "code",
   "execution_count": null,
   "metadata": {
    "slideshow": {
     "slide_type": "fragment"
    }
   },
   "outputs": [],
   "source": [
    "evals, evecs = sp.linalg.eigs(A, k=4, which='SM'); evals"
   ]
  },
  {
   "cell_type": "code",
   "execution_count": null,
   "metadata": {
    "slideshow": {
     "slide_type": "fragment"
    }
   },
   "outputs": [],
   "source": [
    "def sp_eigs_sorted(A, k=6, which='SR'):\n",
    "    \"\"\" compute and return eigenvalues sorted by real value \"\"\"\n",
    "    evals, evecs = sp.linalg.eigs(A, k=k, which=which)\n",
    "    idx = np.real(evals).argsort()\n",
    "    return evals[idx], evecs[idx]"
   ]
  },
  {
   "cell_type": "code",
   "execution_count": null,
   "metadata": {
    "slideshow": {
     "slide_type": "fragment"
    }
   },
   "outputs": [],
   "source": [
    "evals, evecs = sp_eigs_sorted(A, k=4, which='SM'); evals"
   ]
  },
  {
   "cell_type": "markdown",
   "metadata": {
    "slideshow": {
     "slide_type": "subslide"
    }
   },
   "source": [
    "As a less trivial example, consider the spectrum of lowest eigenvalues of the linear combination $(1 -x) M_1 +x M_2$ of random sparse matrices $M_1$ and $M_2$. We can use the [`sp.rand`](https://docs.scipy.org/doc/scipy/reference/generated/scipy.sparse.rand.html) function to generate two random sparse matrices, and by repeatedly using `sp_eigs_sorted` to find the smallest 25 eigenvalues of the $(1 -x) M_1 +x M_2$ matrix for different values of $x$,"
   ]
  },
  {
   "cell_type": "code",
   "execution_count": null,
   "metadata": {
    "slideshow": {
     "slide_type": "fragment"
    }
   },
   "outputs": [],
   "source": [
    "x_vec = np.linspace(0, 1, 50)\n",
    "\n",
    "N = 100\n",
    "# seed sp.rand with random_state to obtain a reproducible result\n",
    "M1 = sp.rand(N, N, density=0.2, random_state=112312321)\n",
    "M2 = sp.rand(N, N, density=0.2, random_state=984592134)"
   ]
  },
  {
   "cell_type": "code",
   "execution_count": null,
   "metadata": {
    "slideshow": {
     "slide_type": "fragment"
    }
   },
   "outputs": [],
   "source": [
    "evals = np.array([sp_eigs_sorted((1 -x) *M1 +x *M2, k=25)[0] for x in x_vec])"
   ]
  },
  {
   "cell_type": "code",
   "execution_count": null,
   "metadata": {
    "slideshow": {
     "slide_type": "subslide"
    }
   },
   "outputs": [],
   "source": [
    "fig, ax = plt.subplots(figsize=(8, 4))\n",
    "\n",
    "for idx in range(evals.shape[1]):\n",
    "    ax.plot(x_vec, np.real(evals[:,idx]), lw=0.5)\n",
    "\n",
    "ax.set_xlabel(r\"$x$\", fontsize=16)\n",
    "ax.set_ylabel(r\"eig. vals. of $(1-x)M_1+xM_2$\", fontsize=16)\n",
    "ax.set_xlim(0, 1)\n",
    "ax.set_ylim(-2.5, -0.5)\n",
    "ax.tick_params(which='both', direction='in')\n",
    "\n",
    "fig.tight_layout()"
   ]
  },
  {
   "cell_type": "markdown",
   "metadata": {
    "slideshow": {
     "slide_type": "subslide"
    }
   },
   "source": [
    "## Graphs and networks"
   ]
  },
  {
   "cell_type": "markdown",
   "metadata": {
    "slideshow": {
     "slide_type": "fragment"
    }
   },
   "source": [
    "Representing graphs as [adjacency matrices](https://en.wikipedia.org/wiki/Adjacency_matrix) is another important application of sparse matrices. In an\n",
    "adjacency matrix, an element describes which nodes in a graph are connected to each other. Consequently,\n",
    "if each node is only connected to a small set of other nodes, the adjacency matrix is sparse.\n",
    "The [`csgraph`](https://docs.scipy.org/doc/scipy/reference/sparse.csgraph.html) module in the Scipy `sparse` module provides functions for processing such graphs, including methods for traversing a graph using different methods (breadth-first and depth-first traversals, for example) and for computing shortest paths between nodes in a graph, and so on"
   ]
  },
  {
   "cell_type": "markdown",
   "metadata": {
    "slideshow": {
     "slide_type": "fragment"
    }
   },
   "source": [
    "For a more comprehensive framework for working with graphs, there is the [`NetworkX`](https://networkx.github.io/documentation/stable/) Python library.\n",
    "It provides utilities for creating and manipulating undirected and directed graphs, and also implements\n",
    "many graph algorithms, such as finding minimum paths between nodes in a graph. Here we assume that\n",
    "the `networkx` library is imported under the name `nx`. Using this library, we can, for example, create an undirected graph by initiating an object of the class `nx.Graph`. Any hashable Python object can be stored as nodes in a `Graph` object, which makes it very flexible data structure."
   ]
  },
  {
   "cell_type": "markdown",
   "metadata": {
    "slideshow": {
     "slide_type": "subslide"
    }
   },
   "source": [
    "For example, we can create a simple graph with node data that are integers using [`nx.Graph`](https://networkx.github.io/documentation/networkx-1.10/tutorial/tutorial.html)`()` and\n",
    "the `add_node` method, or `add_nodes_from` to add multiple nodes in one go. The `nodes` method returns a\n",
    "list of nodes:"
   ]
  },
  {
   "cell_type": "code",
   "execution_count": null,
   "metadata": {
    "slideshow": {
     "slide_type": "fragment"
    }
   },
   "outputs": [],
   "source": [
    "g = nx.Graph()\n",
    "g.add_node(1)\n",
    "g.nodes()"
   ]
  },
  {
   "cell_type": "code",
   "execution_count": null,
   "metadata": {
    "slideshow": {
     "slide_type": "fragment"
    }
   },
   "outputs": [],
   "source": [
    "g.add_nodes_from([3, 4, 5])\n",
    "g.nodes() "
   ]
  },
  {
   "cell_type": "markdown",
   "metadata": {
    "slideshow": {
     "slide_type": "subslide"
    }
   },
   "source": [
    "To connect nodes, we can add edges using `add_edge`. We pass the labels of the two nodes we want to\n",
    "connect as arguments. To add multiple edges, we can use `add_edges_from`, and pass to it a list of tuples of nodes to connect. The `edges` method returns a list of edges:"
   ]
  },
  {
   "cell_type": "code",
   "execution_count": null,
   "metadata": {
    "slideshow": {
     "slide_type": "fragment"
    }
   },
   "outputs": [],
   "source": [
    "g.add_edge(1, 2)\n",
    "g.edges()"
   ]
  },
  {
   "cell_type": "code",
   "execution_count": null,
   "metadata": {
    "slideshow": {
     "slide_type": "fragment"
    }
   },
   "outputs": [],
   "source": [
    "g.add_edges_from([(3, 4), (5, 6)])\n",
    "g.edges()"
   ]
  },
  {
   "cell_type": "markdown",
   "metadata": {
    "slideshow": {
     "slide_type": "subslide"
    }
   },
   "source": [
    "To represent edges between nodes that have weights associated with them (for example, a distance), we\n",
    "can use `add_weighted_edges_from`, to which we pass a list of tuples that also contains the weight factor for each edge, in addition to the two nodes. When calling the `edges` method, we can additionally give argument `data=True` to indicate that also the edge data should be included in the resulting list"
   ]
  },
  {
   "cell_type": "code",
   "execution_count": null,
   "metadata": {
    "slideshow": {
     "slide_type": "fragment"
    }
   },
   "outputs": [],
   "source": [
    "g.add_weighted_edges_from([(1, 3, 1.5), (3, 5, 2.5)])\n",
    "g.edges(data=True)"
   ]
  },
  {
   "cell_type": "markdown",
   "metadata": {
    "slideshow": {
     "slide_type": "subslide"
    }
   },
   "source": [
    "Note that if we add edges between nodes that do not yet exist in the graph, they are seamlessly added.\n",
    "For example, in the following code, we add a weighted edge between node 6 and 7. Node 7 does not previously exist in the graph, but when adding an edge to it, it is automatically created and added to the graph:"
   ]
  },
  {
   "cell_type": "code",
   "execution_count": null,
   "metadata": {
    "slideshow": {
     "slide_type": "fragment"
    }
   },
   "outputs": [],
   "source": [
    "g.add_weighted_edges_from([(6, 7, 1.5)])\n",
    "g.nodes()"
   ]
  },
  {
   "cell_type": "code",
   "execution_count": null,
   "metadata": {
    "slideshow": {
     "slide_type": "fragment"
    }
   },
   "outputs": [],
   "source": [
    "g.edges()"
   ]
  },
  {
   "cell_type": "markdown",
   "metadata": {
    "slideshow": {
     "slide_type": "subslide"
    }
   },
   "source": [
    "With these basic fundamentals in place, we are already prepared to look at a more complicated example\n",
    "of a graph. In the following we will build a graph from a dataset stored in a JSON file called\n",
    "`tokyo-metro.json`, which we load using the Python standard library module `json`:"
   ]
  },
  {
   "cell_type": "code",
   "execution_count": null,
   "metadata": {
    "slideshow": {
     "slide_type": "fragment"
    }
   },
   "outputs": [],
   "source": [
    "import json\n",
    "with open(\"./files/tokyo-metro.json\") as f:\n",
    "    data = json.load(f)"
   ]
  },
  {
   "cell_type": "markdown",
   "metadata": {
    "slideshow": {
     "slide_type": "fragment"
    }
   },
   "source": [
    "The result of loading the JSON file is a dictionary `data` that contains metro line descriptions. For each\n",
    "line, there is a list of travel times between stations (`travel_times`), a list of possible transfer points to other\n",
    "lines (`transfer`), as well as the line color:"
   ]
  },
  {
   "cell_type": "code",
   "execution_count": null,
   "metadata": {
    "slideshow": {
     "slide_type": "fragment"
    }
   },
   "outputs": [],
   "source": [
    "data.keys()"
   ]
  },
  {
   "cell_type": "code",
   "execution_count": null,
   "metadata": {
    "slideshow": {
     "slide_type": "subslide"
    }
   },
   "outputs": [],
   "source": [
    "data[\"C\"]"
   ]
  },
  {
   "cell_type": "markdown",
   "metadata": {
    "slideshow": {
     "slide_type": "subslide"
    }
   },
   "source": [
    "The format of the `transfers` list is `[['C3', 'F15'], ...]`, indicating that it is possible\n",
    "to transfer from C line to F line at station C3 to station F15. \n",
    "The format of the `travel_times` list is `[['C1', 'C2', 2], ['C2', 'C3', 2], ...]`, indicating that\n",
    "it takes two minutes to travel between the stations C1 and C2, and two minutes to travel between\n",
    "C2 and C3, etc. The `transfers` and `travel_times` are\n",
    "directly suitable for feeding to `add_weighed_edges_from` and `add_edges_from`, and we can therefore easily\n",
    "create a graph for representing the metro network by iterating over each metro line dictionary and call\n",
    "these methods:"
   ]
  },
  {
   "cell_type": "code",
   "execution_count": null,
   "metadata": {
    "slideshow": {
     "slide_type": "fragment"
    }
   },
   "outputs": [],
   "source": [
    "g = nx.Graph()\n",
    "\n",
    "for line in data.values():\n",
    "    g.add_edges_from(line[\"transfers\"])    \n",
    "    g.add_weighted_edges_from(line[\"travel_times\"])"
   ]
  },
  {
   "cell_type": "code",
   "execution_count": null,
   "metadata": {
    "scrolled": true,
    "slideshow": {
     "slide_type": "subslide"
    }
   },
   "outputs": [],
   "source": [
    "g.edges(data=True)"
   ]
  },
  {
   "cell_type": "markdown",
   "metadata": {
    "slideshow": {
     "slide_type": "subslide"
    }
   },
   "source": [
    "The line transfer edges do not have edge weights, so let's first mark all transfer edges by adding a new Boolean attribute `transfer` to each edge:"
   ]
  },
  {
   "cell_type": "code",
   "execution_count": null,
   "metadata": {
    "slideshow": {
     "slide_type": "fragment"
    }
   },
   "outputs": [],
   "source": [
    "for n1, n2 in g.edges():\n",
    "    g[n1][n2][\"transfer\"] = \"weight\" not in g[n1][n2]"
   ]
  },
  {
   "cell_type": "code",
   "execution_count": null,
   "metadata": {
    "scrolled": true,
    "slideshow": {
     "slide_type": "fragment"
    }
   },
   "outputs": [],
   "source": [
    "g.edges(data=True)"
   ]
  },
  {
   "cell_type": "code",
   "execution_count": null,
   "metadata": {
    "slideshow": {
     "slide_type": "subslide"
    }
   },
   "outputs": [],
   "source": [
    "g.number_of_nodes()"
   ]
  },
  {
   "cell_type": "code",
   "execution_count": null,
   "metadata": {
    "slideshow": {
     "slide_type": "fragment"
    }
   },
   "outputs": [],
   "source": [
    "list(g.nodes())[:5]"
   ]
  },
  {
   "cell_type": "code",
   "execution_count": null,
   "metadata": {
    "slideshow": {
     "slide_type": "fragment"
    }
   },
   "outputs": [],
   "source": [
    "g.number_of_edges()"
   ]
  },
  {
   "cell_type": "code",
   "execution_count": null,
   "metadata": {
    "slideshow": {
     "slide_type": "fragment"
    }
   },
   "outputs": [],
   "source": [
    "list(g.edges())[:5]"
   ]
  },
  {
   "cell_type": "markdown",
   "metadata": {
    "slideshow": {
     "slide_type": "subslide"
    }
   },
   "source": [
    "Next, for plotting purposes, we create two lists of edges containing transfer edges and on-train edges:"
   ]
  },
  {
   "cell_type": "code",
   "execution_count": null,
   "metadata": {
    "slideshow": {
     "slide_type": "fragment"
    }
   },
   "outputs": [],
   "source": [
    "on_foot = [edge for edge in g.edges() if g.get_edge_data(*edge)[\"transfer\"]]\n",
    "on_train = [edge for edge in g.edges() if not g.get_edge_data(*edge)[\"transfer\"]]"
   ]
  },
  {
   "cell_type": "markdown",
   "metadata": {
    "slideshow": {
     "slide_type": "fragment"
    }
   },
   "source": [
    "and we also create a list with colors corresponding to each node in the network:"
   ]
  },
  {
   "cell_type": "code",
   "execution_count": null,
   "metadata": {
    "slideshow": {
     "slide_type": "fragment"
    }
   },
   "outputs": [],
   "source": [
    "colors = [data[n[0].upper()][\"color\"] for n in g.nodes()]"
   ]
  },
  {
   "cell_type": "markdown",
   "metadata": {
    "slideshow": {
     "slide_type": "subslide"
    }
   },
   "source": [
    "To visualize the graph, we can use the Matplotlib-based drawing routines in the `networkx` library:\n",
    "We use `nx.draw_networkx` to draw each node, `nx.draw_networkx_labels` to draw the labels to the nodes, \n",
    "`nx.draw_networkx_edges` to draw the edges. We call `nx.draw_networkx_edges` twice, with the edge lists for transfers\n",
    "(`on_foot`) and on-train (`on_train`) connections, and color the links as blue and black, respectively, using the\n",
    "`edge_color` argument. The layout of the graph is determined by the `pos` argument to the drawing functions.\n",
    "Here we used the `graphviz_layout` to layout the nodes. All drawing functions also accept a Matplotlib\n",
    "axes instance via the `ax` argument."
   ]
  },
  {
   "cell_type": "code",
   "execution_count": null,
   "metadata": {
    "slideshow": {
     "slide_type": "fragment"
    }
   },
   "outputs": [],
   "source": [
    "# Please install graphviz and set 'path' environment for Windows 10 (See ./files/graphvis_installation.txt)\n",
    "\n",
    "from networkx.drawing.nx_agraph import graphviz_layout"
   ]
  },
  {
   "cell_type": "code",
   "execution_count": null,
   "metadata": {
    "slideshow": {
     "slide_type": "subslide"
    }
   },
   "outputs": [],
   "source": [
    "%matplotlib qt\n",
    "\n",
    "fig, ax = plt.subplots(1, 1, figsize=(18, 15))\n",
    "\n",
    "pos = graphviz_layout(g, prog=\"neato\")\n",
    "nx.draw_networkx(g, pos, ax=ax, node_size=450, node_color=colors)\n",
    "nx.draw_networkx_labels(g, pos=pos, ax=ax, font_size=1)\n",
    "nx.draw_networkx_edges(g, pos=pos, ax=ax, edgelist=on_train, width=2)\n",
    "nx.draw_networkx_edges(g, pos=pos, ax=ax, edgelist=on_foot, edge_color=\"red\", width=2)\n",
    "\n",
    "# removing the default axis on all sides:\n",
    "for side in ['bottom','right','top','left']:\n",
    "    ax.spines[side].set_visible(False)\n",
    "\n",
    "# removing the axis labels and ticks\n",
    "ax.set_xticks([])\n",
    "ax.set_yticks([])\n",
    "ax.xaxis.set_ticks_position('none')\n",
    "ax.yaxis.set_ticks_position('none')"
   ]
  },
  {
   "cell_type": "markdown",
   "metadata": {
    "collapsed": true,
    "slideshow": {
     "slide_type": "subslide"
    }
   },
   "source": [
    "Once the network has been constructed, we can use the many graph algorithms provided by the\n",
    "NetworkX library to analyze the network. For example, to compute the degree (that is, the number of\n",
    "connections to a node) of each node, we can use the `degree` method"
   ]
  },
  {
   "cell_type": "code",
   "execution_count": null,
   "metadata": {
    "slideshow": {
     "slide_type": "fragment"
    }
   },
   "outputs": [],
   "source": [
    "g.degree()"
   ]
  },
  {
   "cell_type": "markdown",
   "metadata": {
    "slideshow": {
     "slide_type": "subslide"
    }
   },
   "source": [
    "For this graph, the degree of a node can be interpreted as the number of connections to a station. We can\n",
    "easily search for the most highly connected station in the network by using the `degree` method, the `values` method of the resulting Python dictionary, and the `max` function to find the highest degree in the network"
   ]
  },
  {
   "cell_type": "code",
   "execution_count": null,
   "metadata": {
    "slideshow": {
     "slide_type": "fragment"
    }
   },
   "outputs": [],
   "source": [
    "g_degree = dict(g.degree())\n",
    "d_max = max(g_degree.values())\n",
    "[(n, d) for (n, d) in g_degree.items() if d == d_max]"
   ]
  },
  {
   "cell_type": "markdown",
   "metadata": {
    "slideshow": {
     "slide_type": "subslide"
    }
   },
   "source": [
    "We can also compute the closest path between two points in the network using `nx.shortest_path`. For example, the optimal\n",
    "traveling route (assuming no waiting time and instantaneous transfer) for traveling between `Y24` and `C19` is:"
   ]
  },
  {
   "cell_type": "code",
   "execution_count": null,
   "metadata": {
    "slideshow": {
     "slide_type": "fragment"
    }
   },
   "outputs": [],
   "source": [
    "p = nx.shortest_path(g, \"Y24\", \"C19\"); p"
   ]
  },
  {
   "cell_type": "markdown",
   "metadata": {
    "slideshow": {
     "slide_type": "subslide"
    }
   },
   "source": [
    "Given a path on this form, we can also directly evaluate the travel time by summing up the weight\n",
    "attributes of neighboring nodes in the path:"
   ]
  },
  {
   "cell_type": "code",
   "execution_count": null,
   "metadata": {
    "slideshow": {
     "slide_type": "fragment"
    }
   },
   "outputs": [],
   "source": [
    "np.sum([g[p[n]][p[n +1]][\"weight\"] for n in range(len(p) -1) if \"weight\" in g[p[n]][p[n +1]]])"
   ]
  },
  {
   "cell_type": "markdown",
   "metadata": {
    "slideshow": {
     "slide_type": "fragment"
    }
   },
   "source": [
    "The result suggests that it takes 35 minutes to travel from `Y24` to `C19`. Since the transfer nodes do not have a weight associated with them, the train transfers are effectively assumed to be instantaneous. \n",
    "\n",
    "It may be reasonable to assume that a train transfer takes about 5 minutes, and to take this into account in the shortest path and travel time computation, we can update the transfer nodes and add a weight of 5 to each of them. To do this we create a copy of the graph using the `copy` method, and iterate through the edges and update those with `transfer` attribute set to `True`:"
   ]
  },
  {
   "cell_type": "code",
   "execution_count": null,
   "metadata": {
    "slideshow": {
     "slide_type": "fragment"
    }
   },
   "outputs": [],
   "source": [
    "h = g.copy()\n",
    "for n1, n2 in h.edges():\n",
    "    if h[n1][n2][\"transfer\"]:\n",
    "        h[n1][n2][\"weight\"] = 5\n",
    "p = nx.shortest_path(h, \"Y24\", \"C19\")"
   ]
  },
  {
   "cell_type": "code",
   "execution_count": null,
   "metadata": {
    "slideshow": {
     "slide_type": "subslide"
    }
   },
   "outputs": [],
   "source": [
    "p"
   ]
  },
  {
   "cell_type": "code",
   "execution_count": null,
   "metadata": {
    "slideshow": {
     "slide_type": "fragment"
    }
   },
   "outputs": [],
   "source": [
    "np.sum([h[p[n]][p[n +1]][\"weight\"] for n in range(len(p) -1)])"
   ]
  },
  {
   "cell_type": "markdown",
   "metadata": {
    "slideshow": {
     "slide_type": "subslide"
    }
   },
   "source": [
    "With this method, we can of course compute the optimal path and travel time between arbitrary nodes\n",
    "in the network. As another example, we also compute the shortest path and traveling time between Z1 and\n",
    "H16 (32 minutes):"
   ]
  },
  {
   "cell_type": "code",
   "execution_count": null,
   "metadata": {
    "slideshow": {
     "slide_type": "fragment"
    }
   },
   "outputs": [],
   "source": [
    "p = nx.shortest_path(h, \"Z1\", \"H16\")\n",
    "np.sum([h[p[n]][p[n +1]][\"weight\"] for n in range(len(p) -1)])"
   ]
  },
  {
   "cell_type": "markdown",
   "metadata": {
    "slideshow": {
     "slide_type": "fragment"
    }
   },
   "source": [
    "The NetworkX representation of a graph can be converted to an adjacency matrix in the form of a Scipy\n",
    "sparse matrix using the `nx.to_scipy_sparse_matrix`, after which we can also analyze the graph with the\n",
    "routines in the `sp.csgraph` module"
   ]
  },
  {
   "cell_type": "code",
   "execution_count": null,
   "metadata": {
    "slideshow": {
     "slide_type": "fragment"
    }
   },
   "outputs": [],
   "source": [
    "A = nx.to_scipy_sparse_matrix(g); A"
   ]
  },
  {
   "cell_type": "markdown",
   "metadata": {
    "slideshow": {
     "slide_type": "subslide"
    }
   },
   "source": [
    "As an example of this, we convert the Tokyo Metro graph to an adjacency\n",
    "matrix and compute its reverse Cuthill-McKee ordering (using `sp.csgraph.reverse_cuthill_mckee`, which is a reordering that reduces the maximum distance of the matrix elements from the diagonal), and permute the matrix with this ordering"
   ]
  },
  {
   "cell_type": "code",
   "execution_count": null,
   "metadata": {
    "slideshow": {
     "slide_type": "fragment"
    }
   },
   "outputs": [],
   "source": [
    "perm = sp.csgraph.reverse_cuthill_mckee(A)\n",
    "\n",
    "\n",
    "%matplotlib inline\n",
    "fig, (ax1, ax2) = plt.subplots(1, 2, figsize=(8, 4))\n",
    "\n",
    "ax1.spy(A, markersize=2)\n",
    "ax2.spy(sp_permute(A, perm, perm), markersize=2)\n",
    "\n",
    "fig.tight_layout()"
   ]
  },
  {
   "cell_type": "markdown",
   "metadata": {
    "slideshow": {
     "slide_type": "subslide"
    }
   },
   "source": [
    "## Versions"
   ]
  },
  {
   "cell_type": "code",
   "execution_count": null,
   "metadata": {
    "slideshow": {
     "slide_type": "fragment"
    }
   },
   "outputs": [],
   "source": [
    "import pygraphviz\n",
    "print(\"numpy: \", np.__version__)\n",
    "print(\"scipy: \", scipy.__version__)\n",
    "print(\"matplotlib: \", mpl.__version__)\n",
    "print(\"networkx: \", nx.__version__)\n",
    "print(\"pygraphviz: \", pygraphviz.__version__)"
   ]
  }
 ],
 "metadata": {
  "celltoolbar": "Slideshow",
  "kernelspec": {
   "display_name": "Python 3",
   "language": "python",
   "name": "python3"
  },
  "language_info": {
   "codemirror_mode": {
    "name": "ipython",
    "version": 3
   },
   "file_extension": ".py",
   "mimetype": "text/x-python",
   "name": "python",
   "nbconvert_exporter": "python",
   "pygments_lexer": "ipython3",
   "version": "3.8.8"
  }
 },
 "nbformat": 4,
 "nbformat_minor": 2
}
