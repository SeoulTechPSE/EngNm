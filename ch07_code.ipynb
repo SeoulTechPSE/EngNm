{
 "cells": [
  {
   "cell_type": "markdown",
   "metadata": {
    "slideshow": {
     "slide_type": "skip"
    }
   },
   "source": [
    "[![Open In Colab](https://colab.research.google.com/assets/colab-badge.svg)](https://colab.research.google.com/github/SeoulTechPSE/EngNm/blob/master/ch07_code.ipynb)"
   ]
  },
  {
   "cell_type": "markdown",
   "metadata": {
    "slideshow": {
     "slide_type": "slide"
    }
   },
   "source": [
    "# Chapter 7: Interpolation"
   ]
  },
  {
   "cell_type": "markdown",
   "metadata": {
    "slideshow": {
     "slide_type": "fragment"
    }
   },
   "source": [
    "Creator: Robert Johansson, Updator: Kee-Youn Yoo\n",
    "\n",
    "Updated source code listings for Numerical Python - A Practical Techniques Approach for Industry (ISBN 978-1-484205-54-9)"
   ]
  },
  {
   "cell_type": "markdown",
   "metadata": {
    "slideshow": {
     "slide_type": "slide"
    }
   },
   "source": [
    "Interpolation is a mathematical method for constructing a function from a discrete set of data points. To perform interpolation in Python, $~$ we use the `polynomial` module from Numpy and the `interpolate` module from Scipy"
   ]
  },
  {
   "cell_type": "markdown",
   "metadata": {
    "slideshow": {
     "slide_type": "fragment"
    }
   },
   "source": [
    "## Importing modules"
   ]
  },
  {
   "cell_type": "code",
   "execution_count": null,
   "metadata": {
    "slideshow": {
     "slide_type": "fragment"
    }
   },
   "outputs": [],
   "source": [
    "%matplotlib qt\n",
    "import matplotlib as mpl\n",
    "mpl.rcParams[\"font.family\"] = \"serif\"\n",
    "mpl.rcParams[\"font.size\"] = \"12\"\n",
    "import matplotlib.pyplot as plt"
   ]
  },
  {
   "cell_type": "code",
   "execution_count": null,
   "metadata": {
    "slideshow": {
     "slide_type": "fragment"
    }
   },
   "outputs": [],
   "source": [
    "import numpy as np\n",
    "from numpy import polynomial as P\n",
    "from scipy import interpolate\n",
    "from scipy import linalg"
   ]
  },
  {
   "cell_type": "markdown",
   "metadata": {
    "slideshow": {
     "slide_type": "slide"
    }
   },
   "source": [
    "## Interpolation"
   ]
  },
  {
   "cell_type": "markdown",
   "metadata": {
    "slideshow": {
     "slide_type": "fragment"
    }
   },
   "source": [
    "* One-dimensional interpolation can be formulated as follows: \n",
    "\n",
    "  For a given set of $n$ data point $\\{(x_i,  y_i)\\}_{i=1}^n$, find a function $f(x)$ such that $f(x_i) =  y_i$ for $i \\in [1,n]$. The function $f(x)$ is known as the interpolant, and it is not unique\n",
    "\n",
    "* In fact, there are an infinite number of functions that satisfy the interpolation criteria. Typically we can write the interpolant as a linear combination of some basis functions $\\phi_i(x)$, such that \n",
    "  \n",
    "  >$\\displaystyle f(x) = \\sum_{j=1}^n c_j \\phi_j(x)$,\n",
    "\n",
    "  where $c_j$ are unknown coefficients"
   ]
  },
  {
   "cell_type": "markdown",
   "metadata": {
    "slideshow": {
     "slide_type": "subslide"
    }
   },
   "source": [
    "* Substituting the given data points into this linear combination results in a linear\n",
    "equation system for the unknown coefficients: $~$$\\sum_{j=1}^n c_j \\phi_j(x_i) = y_i$\n",
    "\n",
    "  >$\\scriptsize\n",
    "  \\begin{pmatrix}\n",
    "    \\phi_1(x_1) & \\phi_2(x_1) & \\cdots & \\phi_n(x_1)\\\\ \n",
    "    \\phi_1(x_2) & \\phi_2(x_2) & \\cdots & \\phi_n(x_2)\\\\ \n",
    "    \\vdots & \\vdots & \\ddots  & \\vdots\\\\ \n",
    "    \\phi_1(x_n) & \\phi_2(x_n) & \\cdots & \\phi_n(x_n)\n",
    "  \\end{pmatrix}\n",
    "  \\begin{pmatrix}\n",
    "    c_1\\\\ \n",
    "    c_2\\\\ \n",
    "    \\vdots\\\\ \n",
    "    c_n\n",
    "  \\end{pmatrix} =\n",
    "  \\begin{pmatrix}\n",
    "    y_1\\\\ \n",
    "    y_2\\\\ \n",
    "    \\vdots\\\\ \n",
    "    y_n\n",
    "  \\end{pmatrix}\n",
    "  $\n",
    "\n",
    "  or in a more compact implicit matrix form as $\\Phi(\\mathbf{x}) \\mathbf{c} = \\mathbf{y}$, $~$where the elements of the matrix $\\Phi(\\mathbf{x})$ are $\\{\\Phi(\\mathbf{x})\\}_{ij} =\\phi_j(x_i)$. "
   ]
  },
  {
   "cell_type": "markdown",
   "metadata": {
    "slideshow": {
     "slide_type": "subslide"
    }
   },
   "source": [
    "* Common choices of basis functions for interpolation are various types of polynomials, for example, the power basis $\\phi_j(x_i) = x_i^{j-1}$, or orthogonal polynomials such as Legendre polynomials $\\phi_j(x_i) = P_{j-1} (x_i)$, Chebyshev polynomials $\\phi_j(x_i) = T_{j-1}(x_i)$, or piecewise polynomials \n",
    "\n",
    "* Note that in general $f(x)$ is not unique, but for $n$ data points there is a unique interpolating polynomial of order $n -1$, regardless of which polynomial basis we use. The structure of the $\\Phi(\\mathbf{x})$ matrix is different for different polynomial bases, and its condition number and the computational cost of solving the interpolation problem varies correspondingly"
   ]
  },
  {
   "cell_type": "markdown",
   "metadata": {
    "slideshow": {
     "slide_type": "slide"
    }
   },
   "source": [
    "## Polynomials"
   ]
  },
  {
   "cell_type": "markdown",
   "metadata": {
    "slideshow": {
     "slide_type": "fragment"
    }
   },
   "source": [
    "The Numpy library contains the submodule `polynomial` (here imported as `P`), which provides functions\n",
    "and classes for working with polynomials. In particular, it provides implementations of many standard\n",
    "orthogonal polynomials"
   ]
  },
  {
   "cell_type": "markdown",
   "metadata": {
    "slideshow": {
     "slide_type": "fragment"
    }
   },
   "source": [
    "For example, we can create a representation of the polynomial $1+ 2x + 3x^2$ by passing the list `[1, 2, 3]` to the `Polynomial` class:"
   ]
  },
  {
   "cell_type": "code",
   "execution_count": null,
   "metadata": {
    "slideshow": {
     "slide_type": "fragment"
    }
   },
   "outputs": [],
   "source": [
    "p1 = P.Polynomial([1,2,3]); p1"
   ]
  },
  {
   "cell_type": "markdown",
   "metadata": {
    "slideshow": {
     "slide_type": "subslide"
    }
   },
   "source": [
    "In the examples above, the first of the lists is the coefficient array and the second\n",
    "and third lists are the `domain` and `window` attributes"
   ]
  },
  {
   "cell_type": "code",
   "execution_count": null,
   "metadata": {
    "slideshow": {
     "slide_type": "fragment"
    }
   },
   "outputs": [],
   "source": [
    "p1.coef, p1.domain, p1.window"
   ]
  },
  {
   "cell_type": "markdown",
   "metadata": {
    "slideshow": {
     "slide_type": "fragment"
    }
   },
   "source": [
    "Alternatively, we can also initialize a polynomial by specifying its roots using the class method\n",
    "`P.Polynomial.fromroots`. The polynomial with roots at $x =-1$ and $x =1$, for example, can be created using:"
   ]
  },
  {
   "cell_type": "code",
   "execution_count": null,
   "metadata": {
    "slideshow": {
     "slide_type": "fragment"
    }
   },
   "outputs": [],
   "source": [
    "p2 = P.Polynomial.fromroots([-1, 1]); p2"
   ]
  },
  {
   "cell_type": "markdown",
   "metadata": {
    "slideshow": {
     "slide_type": "skip"
    }
   },
   "source": [
    "---"
   ]
  },
  {
   "cell_type": "markdown",
   "metadata": {
    "slideshow": {
     "slide_type": "subslide"
    }
   },
   "source": [
    "The roots of a polynomial can be computed using the `roots` method"
   ]
  },
  {
   "cell_type": "code",
   "execution_count": null,
   "metadata": {
    "slideshow": {
     "slide_type": "fragment"
    }
   },
   "outputs": [],
   "source": [
    "p1.roots()"
   ]
  },
  {
   "cell_type": "code",
   "execution_count": null,
   "metadata": {
    "slideshow": {
     "slide_type": "fragment"
    }
   },
   "outputs": [],
   "source": [
    "p2.roots()"
   ]
  },
  {
   "cell_type": "markdown",
   "metadata": {
    "slideshow": {
     "slide_type": "fragment"
    }
   },
   "source": [
    "To evaluate the polynomial `p1` at the points $x =[1.5,2.5,3.5]$, $~$we simply call the `p1`\n",
    "class instance with a list of `x` values as this argument:"
   ]
  },
  {
   "cell_type": "code",
   "execution_count": null,
   "metadata": {
    "slideshow": {
     "slide_type": "fragment"
    }
   },
   "outputs": [],
   "source": [
    "p1(np.array([1.5, 2.5, 3.5]))"
   ]
  },
  {
   "cell_type": "markdown",
   "metadata": {
    "slideshow": {
     "slide_type": "subslide"
    }
   },
   "source": [
    "Consider addition, subtraction, multiplication, and division of the polynomial $ p_1(x) = (x - 3)(x - 2)(x -1)$ with the polynomial $p_2(x) = (x - 2)$"
   ]
  },
  {
   "cell_type": "code",
   "execution_count": null,
   "metadata": {
    "slideshow": {
     "slide_type": "fragment"
    }
   },
   "outputs": [],
   "source": [
    "p1 = P.Polynomial.fromroots([1, 2, 3])\n",
    "p2 = P.Polynomial.fromroots([2])"
   ]
  },
  {
   "cell_type": "code",
   "execution_count": null,
   "metadata": {
    "slideshow": {
     "slide_type": "fragment"
    }
   },
   "outputs": [],
   "source": [
    "p3 = p1 + p2; p3"
   ]
  },
  {
   "cell_type": "code",
   "execution_count": null,
   "metadata": {
    "slideshow": {
     "slide_type": "fragment"
    }
   },
   "outputs": [],
   "source": [
    "p4 = p1 -p2; p4"
   ]
  },
  {
   "cell_type": "code",
   "execution_count": null,
   "metadata": {
    "slideshow": {
     "slide_type": "fragment"
    }
   },
   "outputs": [],
   "source": [
    "p5 = p1 * p2; p5"
   ]
  },
  {
   "cell_type": "code",
   "execution_count": null,
   "metadata": {
    "slideshow": {
     "slide_type": "fragment"
    }
   },
   "outputs": [],
   "source": [
    "p6 = p1 // p2; p6"
   ]
  },
  {
   "cell_type": "code",
   "execution_count": null,
   "metadata": {
    "slideshow": {
     "slide_type": "fragment"
    }
   },
   "outputs": [],
   "source": [
    "p6.roots()"
   ]
  },
  {
   "cell_type": "markdown",
   "metadata": {
    "slideshow": {
     "slide_type": "subslide"
    }
   },
   "source": [
    "In addition to the `Polynomial` class for polynomials in the standard power basis, the polynomial\n",
    "module also has classes for representing polynomials in Chebyshev, Legendre, Laguerre and Hermite bases,\n",
    "with the names `Chebyshev`, `Legendre`, `Laguerre`, `Hermite` (Physicists') and `HermiteE` (Probabilists'),\n",
    "respectively"
   ]
  },
  {
   "cell_type": "markdown",
   "metadata": {
    "slideshow": {
     "slide_type": "fragment"
    }
   },
   "source": [
    "For example, the Chebyshev polynomial with coefficient list `[1, 2, 3]`, that is, the polynomial\n",
    "\n",
    ">$T_0(x)+ 2T_1(x)+ 3T_2(x)$, \n",
    "\n",
    "where $T_i(x)$ is the Chebyshev polynomial of order $i$, can be created using:"
   ]
  },
  {
   "cell_type": "code",
   "execution_count": null,
   "metadata": {
    "slideshow": {
     "slide_type": "fragment"
    }
   },
   "outputs": [],
   "source": [
    "c1 = P.Chebyshev([1, 2, 3]); c1"
   ]
  },
  {
   "cell_type": "code",
   "execution_count": null,
   "metadata": {
    "slideshow": {
     "slide_type": "fragment"
    }
   },
   "outputs": [],
   "source": [
    "c1.roots()"
   ]
  },
  {
   "cell_type": "markdown",
   "metadata": {
    "slideshow": {
     "slide_type": "skip"
    }
   },
   "source": [
    "---"
   ]
  },
  {
   "cell_type": "code",
   "execution_count": null,
   "metadata": {
    "slideshow": {
     "slide_type": "subslide"
    }
   },
   "outputs": [],
   "source": [
    "c1 = P.Chebyshev.fromroots([-1, 1]); c1"
   ]
  },
  {
   "cell_type": "code",
   "execution_count": null,
   "metadata": {
    "slideshow": {
     "slide_type": "fragment"
    }
   },
   "outputs": [],
   "source": [
    "l1 = P.Legendre.fromroots([-1, 1]); l1"
   ]
  },
  {
   "cell_type": "code",
   "execution_count": null,
   "metadata": {
    "slideshow": {
     "slide_type": "fragment"
    }
   },
   "outputs": [],
   "source": [
    "c1(np.array([-0.5, 0, 1]))"
   ]
  },
  {
   "cell_type": "code",
   "execution_count": null,
   "metadata": {
    "slideshow": {
     "slide_type": "fragment"
    }
   },
   "outputs": [],
   "source": [
    "l1(np.array([-0.5, 0, 1]))"
   ]
  },
  {
   "cell_type": "markdown",
   "metadata": {
    "slideshow": {
     "slide_type": "slide"
    }
   },
   "source": [
    "## Polynomial interpolation"
   ]
  },
  {
   "cell_type": "markdown",
   "metadata": {
    "slideshow": {
     "slide_type": "fragment"
    }
   },
   "source": [
    "To solve the interpolation problem, $~$ we need to first evaluate the matrix $\\Phi(\\mathbf{x})$ for a given basis, and then solve the resulting linear equation system $\\Phi(\\mathbf{x}) \\mathbf{c}=\\mathbf{y}$. $~$Each of the polynomial classes in `polynomial` provides a function for computing the (generalized) Vandermonde matrix for the corresponding basis"
   ]
  },
  {
   "cell_type": "markdown",
   "metadata": {
    "slideshow": {
     "slide_type": "fragment"
    }
   },
   "source": [
    "For example, consider the data points $(1, 1)$, $\\text{ }(2, 3)$, $\\text{ }(3, 5)$, $~$and $~$$(4, 4)$."
   ]
  },
  {
   "cell_type": "code",
   "execution_count": null,
   "metadata": {
    "slideshow": {
     "slide_type": "fragment"
    }
   },
   "outputs": [],
   "source": [
    "x = np.array([1, 2, 3, 4])\n",
    "y = np.array([1, 3, 5, 4])"
   ]
  },
  {
   "cell_type": "markdown",
   "metadata": {
    "slideshow": {
     "slide_type": "fragment"
    }
   },
   "source": [
    "To interpolate a polynomial through these points, $~$we need to use a polynomial of third degree (number\n",
    "of data points minus one)."
   ]
  },
  {
   "cell_type": "markdown",
   "metadata": {
    "slideshow": {
     "slide_type": "subslide"
    }
   },
   "source": [
    " For interpolation in the power basis, $~$we seek the coefficients $c_i$'s such that \n",
    " \n",
    " >$f(x) = \\sum_{i=1}^4 c_i x^{i-1} = c_1 x^0 +c_2 x^1 +c_3 x^2 +c_4 x^3$, \n",
    " \n",
    " and to find these coefficients, $~$ we evaluate the Vandermonde matrix and solve the interpolation equation system:"
   ]
  },
  {
   "cell_type": "code",
   "execution_count": null,
   "metadata": {
    "slideshow": {
     "slide_type": "fragment"
    }
   },
   "outputs": [],
   "source": [
    "deg = len(x) -1\n",
    "A = P.polynomial.polyvander(x, deg)\n",
    "c = linalg.solve(A, y); c"
   ]
  },
  {
   "cell_type": "markdown",
   "metadata": {
    "slideshow": {
     "slide_type": "fragment"
    }
   },
   "source": [
    "The interpolation polynomial is thus $f(x) = 2 - 3.5x + 3x^2 - 0.5x^3$"
   ]
  },
  {
   "cell_type": "code",
   "execution_count": null,
   "metadata": {
    "slideshow": {
     "slide_type": "fragment"
    }
   },
   "outputs": [],
   "source": [
    "f1 = P.Polynomial(c)"
   ]
  },
  {
   "cell_type": "code",
   "execution_count": null,
   "metadata": {
    "slideshow": {
     "slide_type": "fragment"
    }
   },
   "outputs": [],
   "source": [
    "f1(2.5)"
   ]
  },
  {
   "cell_type": "markdown",
   "metadata": {
    "slideshow": {
     "slide_type": "skip"
    }
   },
   "source": [
    "---"
   ]
  },
  {
   "cell_type": "markdown",
   "metadata": {
    "slideshow": {
     "slide_type": "subslide"
    }
   },
   "source": [
    "To perform this polynomial interpolation in another polynomial basis, all that we need to change is\n",
    "the name of the function that was used to generate the Vandermonde matrix `A` in the previous example"
   ]
  },
  {
   "cell_type": "code",
   "execution_count": null,
   "metadata": {
    "slideshow": {
     "slide_type": "fragment"
    }
   },
   "outputs": [],
   "source": [
    "A = P.chebyshev.chebvander(x, deg)\n",
    "c = linalg.solve(A, y); c"
   ]
  },
  {
   "cell_type": "markdown",
   "metadata": {
    "slideshow": {
     "slide_type": "fragment"
    }
   },
   "source": [
    "The interpolation polynomial in the Chebyshev basis is \n",
    "\n",
    ">$f(x) = 3.5T_0(x) - 3.875T_1(x) + 1.5T_2(x) - 0.125T_3(x)$"
   ]
  },
  {
   "cell_type": "code",
   "execution_count": null,
   "metadata": {
    "slideshow": {
     "slide_type": "fragment"
    }
   },
   "outputs": [],
   "source": [
    "f2 = P.Chebyshev(c)"
   ]
  },
  {
   "cell_type": "code",
   "execution_count": null,
   "metadata": {
    "slideshow": {
     "slide_type": "fragment"
    }
   },
   "outputs": [],
   "source": [
    "f2(2.5)"
   ]
  },
  {
   "cell_type": "code",
   "execution_count": null,
   "metadata": {
    "slideshow": {
     "slide_type": "subslide"
    }
   },
   "outputs": [],
   "source": [
    "xx = np.linspace(x.min(), x.max(), 100)\n",
    "\n",
    "fig, ax = plt.subplots(1, 1, figsize=(8, 4))\n",
    "\n",
    "ax.plot(xx, f1(xx), 'b', lw=2, label='Power basis interp.')\n",
    "ax.plot(xx, f2(xx), 'r--', lw=2, label='Chebyshev basis interp.')\n",
    "ax.scatter(x, y, label='data points')\n",
    "\n",
    "ax.legend(loc=4)\n",
    "ax.tick_params(which='both', direction='in')\n",
    "ax.set_xlim(0.5, 4.5)\n",
    "ax.set_ylim(0, 6)\n",
    "ax.set_xticks(x)\n",
    "ax.set_ylabel(r\"$y$\", fontsize=18)\n",
    "ax.set_xlabel(r\"$x$\", fontsize=18);\n",
    "\n",
    "#fig.tight_layout()"
   ]
  },
  {
   "cell_type": "code",
   "execution_count": null,
   "metadata": {
    "slideshow": {
     "slide_type": "subslide"
    }
   },
   "outputs": [],
   "source": [
    "f1b = P.Polynomial.fit(x, y, deg); f1b"
   ]
  },
  {
   "cell_type": "code",
   "execution_count": null,
   "metadata": {
    "slideshow": {
     "slide_type": "fragment"
    }
   },
   "outputs": [],
   "source": [
    "f2b = P.Chebyshev.fit(x, y, deg); f2b"
   ]
  },
  {
   "cell_type": "markdown",
   "metadata": {
    "slideshow": {
     "slide_type": "fragment"
    }
   },
   "source": [
    "Mapping the interpolation data into the range that is most\n",
    "suitable for a specific basis can significantly improve the numerical stability of the interpolation. $~$For\n",
    "example, using the Chebyshev basis with $x$ values that are scaled such that $x \\in [-1,1]$, rather than the original $x$ values in the previous example, reduces the condition number from almost $4660$ to about $1.85$:"
   ]
  },
  {
   "cell_type": "code",
   "execution_count": null,
   "metadata": {
    "slideshow": {
     "slide_type": "fragment"
    }
   },
   "outputs": [],
   "source": [
    "np.linalg.cond(P.chebyshev.chebvander(x, deg))"
   ]
  },
  {
   "cell_type": "code",
   "execution_count": null,
   "metadata": {
    "slideshow": {
     "slide_type": "fragment"
    }
   },
   "outputs": [],
   "source": [
    "np.linalg.cond(P.chebyshev.chebvander((2*x -5)/3.0, deg))"
   ]
  },
  {
   "cell_type": "markdown",
   "metadata": {
    "slideshow": {
     "slide_type": "subslide"
    }
   },
   "source": [
    "Note that with `fit` method, $~$the `domain` attribute of the resulting instances are automatically set to the\n",
    "appropriate `x` values of the data points (in this example, the input range is `[1, 4]`), $~$and the coefficients are adjusted accordingly. To illustrate the problem, the values of the Chebyshev polynomials up to degree 5 are plotted below"
   ]
  },
  {
   "cell_type": "code",
   "execution_count": null,
   "metadata": {
    "slideshow": {
     "slide_type": "fragment"
    }
   },
   "outputs": [],
   "source": [
    "x = np.linspace(-1, 1, 100)\n",
    "\n",
    "fig = plt.figure(figsize=(10, 6))\n",
    "for i in range(6): \n",
    "    ax = plt.plot(x,P.Chebyshev.basis(i)(x), lw=2, label=\"$T_%d$\" % i)\n",
    "plt.legend(bbox_to_anchor=(1.01, 1.0), loc=2)\n",
    "plt.xlim(-1, 1)\n",
    "plt.ylim(-1, 1);"
   ]
  },
  {
   "cell_type": "markdown",
   "metadata": {
    "slideshow": {
     "slide_type": "fragment"
    }
   },
   "source": [
    "In the range $-1 \\le x \\le 1$ they are nice, equiripple functions. The same plots over the range $-2 <= x <= 2$ look very different:"
   ]
  },
  {
   "cell_type": "code",
   "execution_count": null,
   "metadata": {
    "slideshow": {
     "slide_type": "fragment"
    }
   },
   "outputs": [],
   "source": [
    "x = np.linspace(-2, 2, 100)\n",
    "\n",
    "fig = plt.figure(figsize=(10, 6))\n",
    "for i in range(6): \n",
    "    ax = plt.plot(x, P.Chebyshev.basis(i)(x), lw=2, label=\"$T_%d$\" % i)\n",
    "plt.legend(bbox_to_anchor=(1.01, 1.0), loc=2)\n",
    "plt.xlim(-2, 2)\n",
    "plt.ylim(-400, 400);"
   ]
  },
  {
   "cell_type": "markdown",
   "metadata": {
    "slideshow": {
     "slide_type": "skip"
    }
   },
   "source": [
    "---"
   ]
  },
  {
   "cell_type": "markdown",
   "metadata": {
    "slideshow": {
     "slide_type": "subslide"
    }
   },
   "source": [
    "* High-order polynomial interpolation can have undesirable behavior between the interpolation points. Although the interpolation is exact at the given data points, a high-order polynomial can vary wildly between the specified points\n",
    "\n",
    "* This is famously illustrated by polynomial interpolation of Runge's function $f(x) = 1/(1+ 25x^2)$ using evenly spaced sample points in the interval $[-1,1]$. The result is an interpolant that nearly diverges between the data points near the end of the interval"
   ]
  },
  {
   "cell_type": "code",
   "execution_count": null,
   "metadata": {
    "slideshow": {
     "slide_type": "fragment"
    }
   },
   "outputs": [],
   "source": [
    "def runge(x):\n",
    "    return 1/(1 + 25*x**2)\n",
    "\n",
    "def runge_interpolate(n):\n",
    "    x = np.linspace(-1, 1, n +1)\n",
    "    p = P.Polynomial.fit(x, runge(x), deg=n)\n",
    "    return x, p"
   ]
  },
  {
   "cell_type": "code",
   "execution_count": null,
   "metadata": {
    "slideshow": {
     "slide_type": "subslide"
    }
   },
   "outputs": [],
   "source": [
    "xx = np.linspace(-1, 1, 250)\n",
    "\n",
    "fig, ax = plt.subplots(1, 1, figsize=(10, 5))\n",
    "\n",
    "ax.plot(xx, runge(xx), 'k', lw=2, label=\"Runge's function\")\n",
    "\n",
    "# 13th order interpolation of the Runge function\n",
    "n = 13\n",
    "x, p = runge_interpolate(n)\n",
    "ax.plot(x, runge(x), 'ro')\n",
    "ax.plot(xx, p(xx), 'r', label='interp. order %d' % n)\n",
    "\n",
    "# 14th order interpolation of the Runge function\n",
    "n = 14\n",
    "x, p = runge_interpolate(n)\n",
    "ax.plot(x, runge(x), 'go')\n",
    "ax.plot(xx, p(xx), 'g', label='interp. order %d' % n)\n",
    "\n",
    "ax.legend(loc=8)\n",
    "ax.set_xlim(-1.1, 1.1)\n",
    "ax.set_ylim(-1, 2)\n",
    "ax.set_xticks([-1, -0.5, 0, 0.5, 1])\n",
    "ax.set_xlabel(r\"$x$\", fontsize=18)\n",
    "ax.set_ylabel(r\"$y$\", fontsize=18)\n",
    "\n",
    "ax.tick_params(which='both', direction='in')"
   ]
  },
  {
   "cell_type": "markdown",
   "metadata": {
    "slideshow": {
     "slide_type": "subslide"
    }
   },
   "source": [
    "## Spline interpolation"
   ]
  },
  {
   "cell_type": "markdown",
   "metadata": {
    "slideshow": {
     "slide_type": "fragment"
    }
   },
   "source": [
    "For a set of $n$ data points $\\{x_i, y_i\\}$, $~$there are $n -1$ subintervals $[x_i,\\; x_{i+1}]$ in the full range of the data $[x_0,\\; x_n]$. To interpolate the $n$ data points using piecewise polynomials of degree\n",
    "$k$ on each of the subintervals, $~$we must determine $(k +1)(n -1)$ unknown parameters. \n",
    "The values at the knots give $2(n -1)$ equations. Additional equations can be obtained\n",
    "by requiring also that derivatives and higher-order derivatives are continuous at the knots"
   ]
  },
  {
   "cell_type": "markdown",
   "metadata": {
    "slideshow": {
     "slide_type": "fragment"
    }
   },
   "source": [
    "A spline is a special type of piecewise polynomial interpolant: a piecewise polynomial of degree $k$ is a\n",
    "spline if it is continuously differentiable $k -1$ times. The most popular choice is the third-order spline, $k = 3$,\n",
    "which requires $4(n -1)$ parameters. For this case, the continuity of two derivatives at the $n -2$ knots gives\n",
    "$2(n - 2)$ additional equations, bringing the total number of equations to $2(n -1)+ 2(n - 2) = 4(n -1)- 2$.\n",
    "There are therefore two remaining undetermined parameters, which must be determined by other means.\n",
    "A common approach is to additionally require that the second order derivatives at the end points are zero\n",
    "(resulting in the natural spline). This gives two more equations, which closes the equation system."
   ]
  },
  {
   "cell_type": "code",
   "execution_count": null,
   "metadata": {
    "slideshow": {
     "slide_type": "subslide"
    }
   },
   "outputs": [],
   "source": [
    "x = np.linspace(-1, 1, 11)\n",
    "y = runge(x)\n",
    "\n",
    "f_i = interpolate.interp1d(x, y, kind=3)\n",
    "\n",
    "xx = np.linspace(-1, 1, 100)\n",
    "\n",
    "fig, ax = plt.subplots(figsize=(8, 4))\n",
    "\n",
    "ax.plot(x, y, 'ro', label='sample points')\n",
    "ax.plot(xx, runge(xx), 'k', lw=1, label=\"Runge's function\")\n",
    "ax.plot(xx, f_i(xx), 'r--', lw=2, label='spline order 3')\n",
    "ax.legend()\n",
    "\n",
    "ax.set_xlim(-1, 1)\n",
    "ax.set_ylim(0, 1.2)\n",
    "ax.set_xticks([-1, -0.5, 0, 0.5, 1])\n",
    "ax.set_xlabel(r\"$x$\", fontsize=18)\n",
    "ax.set_ylabel(r\"$y$\", fontsize=18)\n",
    "\n",
    "ax.tick_params(which='both', direction='in')"
   ]
  },
  {
   "cell_type": "markdown",
   "metadata": {
    "slideshow": {
     "slide_type": "subslide"
    }
   },
   "source": [
    "To illustrate the effect of the order of a spline interpolation, consider the problem of interpolating the\n",
    "data $(0,3)$, $\\text{ }(1, 4)$, $\\text{ }(2, 3.5)$, $\\text{ }(4, 2)$, $\\text{ }(5, 1.5)$, $\\text{ }(6, 1.25)$, $\\text{ }$and $\\text{ }(7, 0.7)$ with splines of increasing order"
   ]
  },
  {
   "cell_type": "code",
   "execution_count": null,
   "metadata": {
    "slideshow": {
     "slide_type": "fragment"
    }
   },
   "outputs": [],
   "source": [
    "x = np.array([0, 1, 2, 3, 4, 5, 6, 7])\n",
    "y = np.array([3, 4, 3.5, 2, 1, 1.5, 1.25, 0.9])\n",
    "\n",
    "xx = np.linspace(x.min(), x.max(), 100)\n",
    "\n",
    "fig, ax = plt.subplots(figsize=(8, 4))\n",
    "\n",
    "ax.scatter(x, y)\n",
    "\n",
    "for n in [1, 2, 3, 7]:\n",
    "    f = interpolate.interp1d(x, y, kind=n)\n",
    "    ax.plot(xx, f(xx), label='order %d' % n)\n",
    "    \n",
    "ax.legend()\n",
    "ax.set_xlabel(r\"$x$\", fontsize=18)\n",
    "ax.set_ylabel(r\"$y$\", fontsize=18)\n",
    "\n",
    "ax.tick_params(which='both', direction='in')"
   ]
  },
  {
   "cell_type": "markdown",
   "metadata": {
    "slideshow": {
     "slide_type": "subslide"
    }
   },
   "source": [
    "## Multivariate interpolation"
   ]
  },
  {
   "cell_type": "code",
   "execution_count": null,
   "metadata": {
    "slideshow": {
     "slide_type": "fragment"
    }
   },
   "outputs": [],
   "source": [
    "def f(x, y):\n",
    "    return np.exp(-(x + 0.5)**2 - 2*(y + 0.5)**2) - np.exp(-(x - 0.5)**2 - 2*(y - 0.5)**2)\n",
    "\n",
    "x = y = np.linspace(-2, 2, 10)\n",
    "X, Y = np.meshgrid(x, y)\n",
    "\n",
    "# simulate noisy data at fixed grid points X, Y\n",
    "Z = f(X, Y) + 0.05*np.random.randn(*X.shape)\n",
    "\n",
    "f_i = interpolate.interp2d(x, y, Z, kind='cubic')\n",
    "\n",
    "xx = yy = np.linspace(x.min(), x.max(), 100)\n",
    "XX, YY = np.meshgrid(xx, yy)\n",
    "\n",
    "ZZi = f_i(xx, yy)"
   ]
  },
  {
   "cell_type": "code",
   "execution_count": null,
   "metadata": {
    "slideshow": {
     "slide_type": "subslide"
    }
   },
   "outputs": [],
   "source": [
    "fig, axes = plt.subplots(1, 2, figsize=(15, 6))\n",
    "\n",
    "c = axes[0].contourf(XX, YY, f(XX, YY), 15, cmap=plt.cm.RdBu)\n",
    "axes[0].set_xlabel(r\"$x$\", fontsize=20)\n",
    "axes[0].set_ylabel(r\"$y$\", fontsize=20)\n",
    "axes[0].set_title(\"exact/high sampling\")\n",
    "cb = fig.colorbar(c, ax=axes[0])\n",
    "cb.set_label(r\"$z$\", fontsize=20)\n",
    "\n",
    "c = axes[1].contourf(XX, YY, ZZi, 15, cmap=plt.cm.RdBu)\n",
    "axes[1].set_ylim(-2.1, 2.1)\n",
    "axes[1].set_xlim(-2.1, 2.1)\n",
    "axes[1].set_xlabel(r\"$x$\", fontsize=20)\n",
    "axes[1].set_ylabel(r\"$y$\", fontsize=20)\n",
    "axes[1].scatter(X, Y, marker='x', color='k')\n",
    "axes[1].set_title(\"interpolation of noisy data/low sampling\")\n",
    "cb = fig.colorbar(c, ax=axes[1])\n",
    "cb.set_label(r\"$z$\", fontsize=20)"
   ]
  },
  {
   "cell_type": "markdown",
   "metadata": {
    "slideshow": {
     "slide_type": "subslide"
    }
   },
   "source": [
    "For higher-dimensional problems, there is a function `interpolate.interpnd`, which is a\n",
    "generalization to $n$-dimensional problems"
   ]
  },
  {
   "cell_type": "markdown",
   "metadata": {
    "slideshow": {
     "slide_type": "fragment"
    }
   },
   "source": [
    "Another typical situation that requires multivariate interpolation occurs when sampled data is given\n",
    "on an irregular coordinate grid. To be able to easily plot and analyze such data with existing tools, it may be desirable to interpolate it onto a regular coordinate grid. In Scipy, we can use the `interpolate.griddata` for exactly this task"
   ]
  },
  {
   "cell_type": "code",
   "execution_count": null,
   "metadata": {
    "slideshow": {
     "slide_type": "fragment"
    }
   },
   "outputs": [],
   "source": [
    "def f(x, y):\n",
    "    return np.exp(-x**2 - y**2) * np.cos(4*x) * np.sin(6*y)\n",
    "\n",
    "x = y = np.linspace(-1, 1, 100)\n",
    "X, Y = np.meshgrid(x, y)\n",
    "Z = f(X, Y)\n",
    "\n",
    "np.random.seed(115925231)\n",
    "N = 500\n",
    "xdata = np.random.uniform(-1, 1, N)\n",
    "ydata = np.random.uniform(-1, 1, N)\n",
    "zdata = f(xdata, ydata)"
   ]
  },
  {
   "cell_type": "code",
   "execution_count": null,
   "metadata": {
    "slideshow": {
     "slide_type": "subslide"
    }
   },
   "outputs": [],
   "source": [
    "fig, ax = plt.subplots(figsize=(8, 6))\n",
    "\n",
    "c = ax.contourf(X, Y, Z, 15, cmap=plt.cm.RdBu);\n",
    "ax.scatter(xdata, ydata, marker='.')\n",
    "ax.set_ylim(-1,1)\n",
    "ax.set_xlim(-1,1)\n",
    "ax.set_xlabel(r\"$x$\", fontsize=20)\n",
    "ax.set_ylabel(r\"$y$\", fontsize=20)\n",
    "\n",
    "cb = fig.colorbar(c, ax=ax)\n",
    "cb.set_label(r\"$z$\", fontsize=20)"
   ]
  },
  {
   "cell_type": "code",
   "execution_count": null,
   "metadata": {
    "slideshow": {
     "slide_type": "subslide"
    }
   },
   "outputs": [],
   "source": [
    "def z_interpolate(xdata, ydata, zdata):\n",
    "    Zi_0 = interpolate.griddata((xdata, ydata), zdata, (X, Y), method='nearest')\n",
    "    Zi_1 = interpolate.griddata((xdata, ydata), zdata, (X, Y), method='linear')\n",
    "    Zi_3 = interpolate.griddata((xdata, ydata), zdata, (X, Y), method='cubic')\n",
    "    return Zi_0, Zi_1, Zi_3\n",
    "\n",
    "fig, axes = plt.subplots(3, 3, figsize=(10, 10), sharex=True, sharey=True)\n",
    "\n",
    "n_vec = [50, 150, 500]\n",
    "\n",
    "for idx, n in enumerate(n_vec):\n",
    "    Zi_0, Zi_1, Zi_3 = z_interpolate(xdata[:n], ydata[:n], zdata[:n])\n",
    "    axes[idx, 0].contourf(X, Y, Zi_0, 15, cmap=plt.cm.RdBu)\n",
    "    axes[idx, 0].set_ylabel(\"%d data points\\ny\" % n, fontsize=14)\n",
    "    axes[idx, 0].set_title(\"nearest\", fontsize=14)\n",
    "    axes[idx, 1].contourf(X, Y, Zi_1, 15, cmap=plt.cm.RdBu)\n",
    "    axes[idx, 1].set_title(\"linear\", fontsize=14)\n",
    "    axes[idx, 2].contourf(X, Y, Zi_3, 15, cmap=plt.cm.RdBu)\n",
    "    axes[idx, 2].set_title(\"cubic\", fontsize=14)\n",
    "\n",
    "for m in range(len(n_vec)):\n",
    "    axes[idx, m].set_xlabel(\"x\", fontsize=14)"
   ]
  },
  {
   "cell_type": "markdown",
   "metadata": {
    "slideshow": {
     "slide_type": "subslide"
    }
   },
   "source": [
    "## Versions"
   ]
  },
  {
   "cell_type": "code",
   "execution_count": null,
   "metadata": {
    "slideshow": {
     "slide_type": "fragment"
    }
   },
   "outputs": [],
   "source": [
    "from scipy import __version__\n",
    "print(\"numpy: \", np.__version__)\n",
    "print(\"scipy: \", __version__)\n",
    "print(\"matplotlib: \", mpl.__version__)"
   ]
  }
 ],
 "metadata": {
  "celltoolbar": "Slideshow",
  "kernelspec": {
   "display_name": "Python 3",
   "language": "python",
   "name": "python3"
  },
  "language_info": {
   "codemirror_mode": {
    "name": "ipython",
    "version": 3
   },
   "file_extension": ".py",
   "mimetype": "text/x-python",
   "name": "python",
   "nbconvert_exporter": "python",
   "pygments_lexer": "ipython3",
   "version": "3.8.8"
  }
 },
 "nbformat": 4,
 "nbformat_minor": 4
}
