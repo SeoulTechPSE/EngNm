{
 "cells": [
  {
   "cell_type": "markdown",
   "id": "coated-macro",
   "metadata": {},
   "source": [
    "## Magic keyword: %matplotlib notebook"
   ]
  },
  {
   "cell_type": "code",
   "execution_count": null,
   "id": "medium-recruitment",
   "metadata": {
    "scrolled": true
   },
   "outputs": [],
   "source": [
    "%pylab"
   ]
  },
  {
   "cell_type": "code",
   "execution_count": null,
   "id": "velvet-deposit",
   "metadata": {},
   "outputs": [],
   "source": [
    "%matplotlib notebook"
   ]
  },
  {
   "cell_type": "code",
   "execution_count": null,
   "id": "narrow-coordination",
   "metadata": {},
   "outputs": [],
   "source": [
    "x = np.linspace(1, 10, 1000)\n",
    "y1 = np.sin(x**2)\n",
    "y2 = np.sin(x**2) * np.exp(-0.1*x)"
   ]
  },
  {
   "cell_type": "code",
   "execution_count": null,
   "id": "personal-breakdown",
   "metadata": {},
   "outputs": [],
   "source": [
    "plt.plot(x,y1);"
   ]
  },
  {
   "cell_type": "code",
   "execution_count": null,
   "id": "mexican-error",
   "metadata": {},
   "outputs": [],
   "source": [
    "plt.plot(x,y2);"
   ]
  },
  {
   "cell_type": "code",
   "execution_count": null,
   "id": "medium-agenda",
   "metadata": {},
   "outputs": [],
   "source": [
    "plt.close()"
   ]
  },
  {
   "cell_type": "code",
   "execution_count": null,
   "id": "improved-magnitude",
   "metadata": {},
   "outputs": [],
   "source": [
    "plt.plot(x,y1);"
   ]
  },
  {
   "cell_type": "code",
   "execution_count": null,
   "id": "overhead-fisher",
   "metadata": {},
   "outputs": [],
   "source": [
    "plt.plot(x,y2);"
   ]
  },
  {
   "cell_type": "code",
   "execution_count": null,
   "id": "strange-earthquake",
   "metadata": {},
   "outputs": [],
   "source": [
    "plt.close()"
   ]
  },
  {
   "cell_type": "code",
   "execution_count": null,
   "id": "theoretical-private",
   "metadata": {},
   "outputs": [],
   "source": [
    "%matplotlib inline"
   ]
  },
  {
   "cell_type": "code",
   "execution_count": null,
   "id": "pending-grant",
   "metadata": {},
   "outputs": [],
   "source": [
    "plt.plot(x,y1)\n",
    "plt.plot(x,y2)\n",
    "plt.show()"
   ]
  }
 ],
 "metadata": {
  "kernelspec": {
   "display_name": "Python 3",
   "language": "python",
   "name": "python3"
  },
  "language_info": {
   "codemirror_mode": {
    "name": "ipython",
    "version": 3
   },
   "file_extension": ".py",
   "mimetype": "text/x-python",
   "name": "python",
   "nbconvert_exporter": "python",
   "pygments_lexer": "ipython3",
   "version": "3.8.8"
  }
 },
 "nbformat": 4,
 "nbformat_minor": 5
}
