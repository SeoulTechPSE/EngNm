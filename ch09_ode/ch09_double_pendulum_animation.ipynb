{
 "cells": [
  {
   "cell_type": "markdown",
   "metadata": {},
   "source": [
    "[![Open In Colab](https://colab.research.google.com/assets/colab-badge.svg)](https://colab.research.google.com/github/SeoulTechPSE/EngNm/blob/master/ch09_animation/ch09_double_pendulum_animation.ipynb)"
   ]
  },
  {
   "cell_type": "markdown",
   "metadata": {},
   "source": [
    "## Double Pendulum"
   ]
  },
  {
   "cell_type": "markdown",
   "metadata": {},
   "source": [
    "Consider the rather complicated system of two coupled second-order and nonlinear ODEs for a double\n",
    "pendulum\n",
    "\n",
    "$~$\n",
    "\n",
    "<center><img src=\"../figs/dimg270.gif\" width=\"200\"></center> \n",
    "\n",
    "$$\n",
    "(m_1+m_2) l_1\\ddot{\\theta_1} + m_2l_2\\ddot{\\theta_2}\\cos(\\theta_1-\\theta_2)\n",
    "+ m_2l_2\\left(\\dot{\\theta_2}\\right)^2\\sin(\\theta_1-\\theta_2)+g(m_1+m_2)\\sin(\\theta_1) = 0\n",
    "$$\n",
    "\n",
    "$$\n",
    "m_2l_2\\ddot{\\theta_2} + m_2l_1\\ddot{\\theta_1}\\cos(\\theta_1-\\theta_2) - m_2l_1 \\left(\\dot{\\theta_1}\\right)^2 \\sin(\\theta_1-\\theta_2)\n",
    "+m_2g\\sin(\\theta_2) = 0\n",
    "$$"
   ]
  },
  {
   "cell_type": "markdown",
   "metadata": {},
   "source": [
    "1. We first have to write the system of two second-order ODEs as a system of four first-order ODEs on standard form. To this end, we need to introduce new functions $\\text{ }y_1(t) = \\theta_1(t)$, $\\text{ }y_2(t) = \\dot{\\theta_1}(t)$, $\\text{ }y_3(t) = \\theta_2(t)$, $\\text{ }y_4(t) = \\dot{\\theta_2}(t)$, $\\text{ }$and rewrite the ODEs in terms of these functions."
   ]
  },
  {
   "cell_type": "markdown",
   "metadata": {},
   "source": [
    "2. At this point, we have four coupled first-order ODEs for the functions $y_1$ to $y_4$. It only remains to solve for the derivatives of these functions to obtain the ODEs in standard form"
   ]
  },
  {
   "cell_type": "markdown",
   "metadata": {},
   "source": [
    "3. When visualizing this solution, it is more intuitive to animate the positions of the pendulums in the $x–y$ plane rather than their angular deflections"
   ]
  },
  {
   "cell_type": "markdown",
   "metadata": {},
   "source": [
    "**Construct the animation showing the complex oscillation of a double pendulum**"
   ]
  }
 ],
 "metadata": {
  "kernelspec": {
   "display_name": "Python 3",
   "language": "python",
   "name": "python3"
  },
  "language_info": {
   "codemirror_mode": {
    "name": "ipython",
    "version": 3
   },
   "file_extension": ".py",
   "mimetype": "text/x-python",
   "name": "python",
   "nbconvert_exporter": "python",
   "pygments_lexer": "ipython3",
   "version": "3.7.5"
  }
 },
 "nbformat": 4,
 "nbformat_minor": 4
}
