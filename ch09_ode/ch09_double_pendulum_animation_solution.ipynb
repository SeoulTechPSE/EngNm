{
 "cells": [
  {
   "cell_type": "markdown",
   "metadata": {
    "colab_type": "text",
    "id": "NbqvCOAW9xRB"
   },
   "source": [
    "[![Open In Colab](https://colab.research.google.com/assets/colab-badge.svg)](https://colab.research.google.com/github/SeoulTechPSE/EngNm/blob/master/ch09_animation/ch09_double_pendulum_animation_solution.ipynb)"
   ]
  },
  {
   "cell_type": "code",
   "execution_count": null,
   "metadata": {},
   "outputs": [],
   "source": [
    "# Rendering sympy equations requires MathJax to be available within each cell output. \n",
    "# The following is a function that will make this happen for Colab.\n",
    "\n",
    "if 'google.colab' in str(get_ipython()):\n",
    "    \n",
    "    from sympy import init_printing\n",
    "    from sympy.printing import latex\n",
    "\n",
    "    def colab_LaTeX_printer(exp, **options):  \n",
    "        from google.colab.output._publish import javascript \n",
    "\n",
    "        url_ = \"https://colab.research.google.com/static/mathjax/MathJax.js?\"\n",
    "        cfg_ = \"config=TeX-MML-AM_HTMLorMML\" # \"config=default\"\n",
    "\n",
    "        javascript(url=url_+cfg_)\n",
    "\n",
    "        return latex(exp, **options)\n",
    "\n",
    "    init_printing(use_latex=\"mathjax\", latex_printer=colab_LaTeX_printer) "
   ]
  },
  {
   "cell_type": "markdown",
   "metadata": {
    "colab_type": "text",
    "id": "UGq-Wk3A9xRD"
   },
   "source": [
    "## Double Pendulum"
   ]
  },
  {
   "cell_type": "markdown",
   "metadata": {
    "colab_type": "text",
    "id": "WqPRY0cr9xRE"
   },
   "source": [
    "Consider the rather complicated system of two coupled second-order and nonlinear ODEs for a double\n",
    "pendulum\n",
    "\n",
    "$~$\n",
    "\n",
    "<center><img src=\"../figs/dimg270.gif\" width=\"200\"></center> \n",
    "\n",
    "$$\n",
    "(m_1+m_2) l_1\\ddot{\\theta_1} + m_2l_2\\ddot{\\theta_2}\\cos(\\theta_1-\\theta_2)\n",
    "+ m_2l_2\\left(\\dot{\\theta_2}\\right)^2\\sin(\\theta_1-\\theta_2)+g(m_1+m_2)\\sin(\\theta_1) = 0\n",
    "$$\n",
    "\n",
    "$$\n",
    "m_2l_2\\ddot{\\theta_2} + m_2l_1\\ddot{\\theta_1}\\cos(\\theta_1-\\theta_2) - m_2l_1 \\left(\\dot{\\theta_1}\\right)^2 \\sin(\\theta_1-\\theta_2)\n",
    "+m_2g\\sin(\\theta_2) = 0\n",
    "$$"
   ]
  },
  {
   "cell_type": "code",
   "execution_count": null,
   "metadata": {
    "colab": {},
    "colab_type": "code",
    "id": "ozJWNRTr9xRF"
   },
   "outputs": [],
   "source": [
    "import matplotlib.pyplot as plt\n",
    "import matplotlib as mpl\n",
    "\n",
    "import numpy as np\n",
    "from scipy import integrate\n",
    "import sympy\n",
    "sympy.init_printing()"
   ]
  },
  {
   "cell_type": "markdown",
   "metadata": {
    "colab_type": "text",
    "id": "-98xWCO59xRO"
   },
   "source": [
    "1. We first have to write the system of two second-order ODEs as a system of four first-order ODEs on standard form. To this end, we need to introduce new functions $\\text{ }y_1(t) = \\theta_1(t)$, $\\text{ }y_2(t) = \\dot{\\theta_1}(t)$, $\\text{ }y_3(t) = \\theta_2(t)$, $\\text{ }y_4(t) = \\dot{\\theta_2}(t)$, $\\text{ }$and rewrite the ODEs in terms of these functions."
   ]
  },
  {
   "cell_type": "code",
   "execution_count": null,
   "metadata": {
    "colab": {},
    "colab_type": "code",
    "id": "mgdJvQ-q9xRP"
   },
   "outputs": [],
   "source": [
    "t, g, m1, l1, m2, l2 = sympy.symbols(\"t, g, m_1, l_1, m_2, l_2\")\n",
    "theta1, theta2 = sympy.symbols(\"theta_1, theta_2\", cls=sympy.Function)\n",
    "\n",
    "ode1 = sympy.Eq((m1 +m2) *l1 *theta1(t).diff(t, t) +\n",
    "                m2 *l2 *theta2(t).diff(t, t) *sympy.cos(theta1(t) -theta2(t)) +\n",
    "                m2 *l2 *theta2(t).diff(t)**2 *sympy.sin(theta1(t) -theta2(t)) + \n",
    "                g *(m1 +m2) *sympy.sin(theta1(t)), 0)\n",
    "\n",
    "ode2 = sympy.Eq(m2 *l2 *theta2(t).diff(t, t) +\n",
    "                m2 *l1 *theta1(t).diff(t, t) *sympy.cos(theta1(t) -theta2(t)) -\n",
    "                m2 *l1 *theta1(t).diff(t)**2 *sympy.sin(theta1(t) -theta2(t)) +\n",
    "                m2 *g *sympy.sin(theta2(t)), 0)"
   ]
  },
  {
   "cell_type": "code",
   "execution_count": null,
   "metadata": {
    "colab": {},
    "colab_type": "code",
    "id": "WFYOnahj9xRa"
   },
   "outputs": [],
   "source": [
    "y1, y2, y3, y4 = sympy.symbols(\"y_1, y_2, y_3, y_4\", cls=sympy.Function)\n",
    "\n",
    "varchange = {theta1(t).diff(t, t): y2(t).diff(t), \n",
    "             theta1(t): y1(t),\n",
    "             theta2(t).diff(t, t): y4(t).diff(t), \n",
    "             theta2(t): y3(t)}\n",
    "\n",
    "ode1_vc = ode1.subs(varchange)\n",
    "ode2_vc = ode2.subs(varchange)\n",
    "ode3 = y1(t).diff(t) - y2(t)\n",
    "ode4 = y3(t).diff(t) - y4(t)"
   ]
  },
  {
   "cell_type": "markdown",
   "metadata": {
    "colab_type": "text",
    "id": "og9DIPTn9xRf"
   },
   "source": [
    "2. At this point, we have four coupled first-order ODEs for the functions $y_1$ to $y_4$. It only remains to solve for the derivatives of these functions to obtain the ODEs in standard form"
   ]
  },
  {
   "cell_type": "code",
   "execution_count": null,
   "metadata": {
    "colab": {},
    "colab_type": "code",
    "id": "BTk8V0UL9xRf"
   },
   "outputs": [],
   "source": [
    "y = sympy.Matrix([y1(t), y2(t), y3(t), y4(t)])\n",
    "vcsol = sympy.solve((ode1_vc, ode2_vc, ode3, ode4), y.diff(t), dict=True)\n",
    "\n",
    "f = y.diff(t).subs(vcsol[0]); f"
   ]
  },
  {
   "cell_type": "code",
   "execution_count": null,
   "metadata": {
    "colab": {},
    "colab_type": "code",
    "id": "4FSAszog9xRq"
   },
   "outputs": [],
   "source": [
    "jac = sympy.Matrix([[fj.diff(yi) for yi in y] for fj in f]); jac"
   ]
  },
  {
   "cell_type": "code",
   "execution_count": null,
   "metadata": {
    "colab": {},
    "colab_type": "code",
    "id": "Mpbubi5R9xRz"
   },
   "outputs": [],
   "source": [
    "params = {m1: 5.0, l1: 2.0, m2: 1.0, l2: 1.0, g: 9.8}\n",
    "\n",
    "f_np = sympy.lambdify((t, y), f.subs(params), 'numpy')\n",
    "jac_np = sympy.lambdify((t, y), jac.subs(params), 'numpy')"
   ]
  },
  {
   "cell_type": "code",
   "execution_count": null,
   "metadata": {
    "colab": {},
    "colab_type": "code",
    "id": "1ML1-p-59xR2"
   },
   "outputs": [],
   "source": [
    "y0 = [2.0, 0.0, 0.0, 0.0]\n",
    "\n",
    "t = np.linspace(0, 20, 1000)\n",
    "r = integrate.ode(f_np, jac_np).set_initial_value(y0, t[0])"
   ]
  },
  {
   "cell_type": "code",
   "execution_count": null,
   "metadata": {
    "colab": {},
    "colab_type": "code",
    "id": "qcM5BzYM9xR9"
   },
   "outputs": [],
   "source": [
    "dt = t[1] -t[0]\n",
    "y = np.zeros((len(t), len(y0)))\n",
    "idx = 0\n",
    "while r.successful() and r.t < t[-1]:\n",
    "    y[idx, :] = r.y\n",
    "    r.integrate(r.t +dt)\n",
    "    idx += 1"
   ]
  },
  {
   "cell_type": "markdown",
   "metadata": {
    "colab_type": "text",
    "id": "uOcyIE3m9xSE"
   },
   "source": [
    "3. When visualizing this solution, it is more intuitive to animate the positions of the pendulums in the $x–y$ plane rather than their angular deflections"
   ]
  },
  {
   "cell_type": "code",
   "execution_count": null,
   "metadata": {
    "colab": {},
    "colab_type": "code",
    "id": "O-QxAceW9xSG"
   },
   "outputs": [],
   "source": [
    "theta1_np, theta2_np = y[:, 0], y[:, 2]\n",
    "\n",
    "x1 =  params[l1] *np.sin(theta1_np)\n",
    "y1 = -params[l1] *np.cos(theta1_np)\n",
    "x2 = x1 +params[l2] *np.sin(theta2_np)\n",
    "y2 = y1 -params[l2] *np.cos(theta2_np)"
   ]
  },
  {
   "cell_type": "code",
   "execution_count": null,
   "metadata": {
    "colab": {},
    "colab_type": "code",
    "id": "m4oV6Xbx9xSM",
    "outputId": "3447c7e3-ea2e-4b5c-bedf-f2c469f9a93a"
   },
   "outputs": [],
   "source": [
    "fig, ax = plt.subplots(figsize=(5, 5))\n",
    "\n",
    "ax.plot(x1, y1, 'r')\n",
    "ax.plot(x2, y2, 'b', lw=0.5)\n",
    "ax.set_xlabel('$x$', fontsize=14)\n",
    "ax.set_ylabel('$y$', fontsize=14)\n",
    "ax.set_xticks([-4,-2, 0, 2, 4])\n",
    "ax.set_yticks([-4,-2, 0, 2, 4])\n",
    "ax.set_xlim(-4, 4)\n",
    "ax.set_ylim(-4, 4)\n",
    "ax.tick_params(which='both', direction='in')\n",
    "\n",
    "fig.tight_layout()"
   ]
  },
  {
   "cell_type": "markdown",
   "metadata": {
    "colab_type": "text",
    "id": "K0FGxRAW9xSQ"
   },
   "source": [
    "**Construct the animation showing the complex oscillation of a double pendulum**"
   ]
  },
  {
   "cell_type": "code",
   "execution_count": null,
   "metadata": {},
   "outputs": [],
   "source": [
    "from matplotlib import animation, rc\n",
    "from IPython.display import HTML\n",
    "rc('animation', html='jshtml')\n",
    "\n",
    "fig, ax = plt.subplots(figsize=(5, 5))\n",
    "\n",
    "ax.set_xlabel('$x$', fontsize=14)\n",
    "ax.set_ylabel('$y$', fontsize=14)\n",
    "ax.set_xticks([-4,-2, 0, 2, 4])\n",
    "ax.set_yticks([-4,-2, 0, 2, 4])\n",
    "ax.set_xlim(-4, 4)\n",
    "ax.set_ylim(-4, 4)\n",
    "ax.tick_params(which='both', direction='in')\n",
    "\n",
    "plt.close()"
   ]
  },
  {
   "cell_type": "code",
   "execution_count": null,
   "metadata": {
    "colab": {},
    "colab_type": "code",
    "id": "HfXzV3999xSQ",
    "outputId": "705cef84-dc91-4212-b939-c8e9814eafd2"
   },
   "outputs": [],
   "source": [
    "line1, = ax.plot([], [], 'o-', color='r', lw=2)\n",
    "line2, = ax.plot([], [], 'o-', color='b', lw=2)\n",
    "\n",
    "time_template = 'time = %.1fs'\n",
    "time_text = ax.text(0.05, 0.9, '', transform=ax.transAxes)\n",
    "\n",
    "def init():\n",
    "    line1.set_data([], [])\n",
    "    line2.set_data([], [])    \n",
    "    time_text.set_text('')\n",
    "    \n",
    "    return line1, line2, time_text\n",
    "\n",
    "\n",
    "def animate(i):\n",
    "    t_x1 = [0, x1[i]]\n",
    "    t_y1 = [0, y1[i]]\n",
    "    t_x2 = [x1[i], x2[i]]\n",
    "    t_y2 = [y1[i], y2[i]]    \n",
    "\n",
    "    line1.set_data(t_x1, t_y1)\n",
    "    line2.set_data(t_x2, t_y2)    \n",
    "    time_text.set_text(time_template % (i*dt))\n",
    "    \n",
    "    return line1, line2, time_text\n",
    "\n",
    "\n",
    "ani = animation.FuncAnimation(fig, animate, range(1, len(y)),\n",
    "                              interval=dt*1000, blit=True, init_func=init)\n",
    "ani"
   ]
  }
 ],
 "metadata": {
  "colab": {
   "name": "double_pendulum_animation_18101623 이도미.ipynb",
   "provenance": []
  },
  "kernelspec": {
   "display_name": "Python 3",
   "language": "python",
   "name": "python3"
  },
  "language_info": {
   "codemirror_mode": {
    "name": "ipython",
    "version": 3
   },
   "file_extension": ".py",
   "mimetype": "text/x-python",
   "name": "python",
   "nbconvert_exporter": "python",
   "pygments_lexer": "ipython3",
   "version": "3.8.5"
  }
 },
 "nbformat": 4,
 "nbformat_minor": 1
}
