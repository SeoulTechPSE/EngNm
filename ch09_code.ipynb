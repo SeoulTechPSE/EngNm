{
 "cells": [
  {
   "cell_type": "markdown",
   "metadata": {
    "slideshow": {
     "slide_type": "skip"
    }
   },
   "source": [
    "[![Open In Colab](https://colab.research.google.com/assets/colab-badge.svg)](https://colab.research.google.com/github/SeoulTechPSE/EngNm/blob/master/ch09_code.ipynb)"
   ]
  },
  {
   "cell_type": "code",
   "execution_count": null,
   "metadata": {
    "slideshow": {
     "slide_type": "skip"
    }
   },
   "outputs": [],
   "source": [
    "# Rendering sympy equations requires MathJax to be available within each cell output. \n",
    "# The following is a function that will make this happen for Colab.\n",
    "\n",
    "if 'google.colab' in str(get_ipython()):\n",
    "    \n",
    "    from sympy import init_printing\n",
    "    from sympy.printing import latex\n",
    "\n",
    "    def colab_LaTeX_printer(exp, **options):  \n",
    "        from google.colab.output._publish import javascript \n",
    "\n",
    "        url_ = \"https://colab.research.google.com/static/mathjax/MathJax.js?\"\n",
    "        cfg_ = \"config=TeX-MML-AM_HTMLorMML\" # \"config=default\"\n",
    "\n",
    "        javascript(url=url_+cfg_)\n",
    "\n",
    "        return latex(exp, **options)\n",
    "\n",
    "    init_printing(use_latex=\"mathjax\", latex_printer=colab_LaTeX_printer) "
   ]
  },
  {
   "cell_type": "markdown",
   "metadata": {
    "slideshow": {
     "slide_type": "slide"
    }
   },
   "source": [
    "# Chapter 9: Ordinary differential equations"
   ]
  },
  {
   "cell_type": "markdown",
   "metadata": {
    "slideshow": {
     "slide_type": "fragment"
    }
   },
   "source": [
    "$~$\n",
    "\n",
    "Creator: Robert Johansson, Updator: Kee-Youn Yoo\n",
    "\n",
    "Updated source code listings for Numerical Python - A Practical Techniques Approach for Industry<p> (ISBN 978-1-484205-54-9)."
   ]
  },
  {
   "cell_type": "markdown",
   "metadata": {
    "slideshow": {
     "slide_type": "fragment"
    }
   },
   "source": [
    "In this chapter, $~$we will explore both symbolic and numerical approaches to solving ODE problems.\n",
    "For symbolic methods, $~$we use the sympy module, and for numerical integration of ODEs, we use functions\n",
    "from the `integrate` module in scipy"
   ]
  },
  {
   "cell_type": "markdown",
   "metadata": {
    "slideshow": {
     "slide_type": "slide"
    }
   },
   "source": [
    "## Importing modules"
   ]
  },
  {
   "cell_type": "code",
   "execution_count": 2,
   "metadata": {
    "slideshow": {
     "slide_type": "fragment"
    }
   },
   "outputs": [],
   "source": [
    "%matplotlib qt\n",
    "import matplotlib.pyplot as plt\n",
    "import matplotlib as mpl\n",
    "\n",
    "import numpy as np\n",
    "from scipy import integrate\n",
    "import sympy\n",
    "sympy.init_printing()\n"
   ]
  },
  {
   "cell_type": "markdown",
   "metadata": {
    "slideshow": {
     "slide_type": "slide"
    }
   },
   "source": [
    "## Ordinary differential equations"
   ]
  },
  {
   "cell_type": "markdown",
   "metadata": {
    "slideshow": {
     "slide_type": "fragment"
    }
   },
   "source": [
    "The simplest form of an ordinary differential equation is\n",
    "\n",
    "$$ \\frac{dy(x)}{dx} = f(x,y(x))$$\n",
    "\n",
    "where $y(x)$ is the unknown function and $f(x, y (x))$ is known. $~$Only the first derivative occurs in the equation, and it is therefore an example of a first-order ODE"
   ]
  },
  {
   "cell_type": "markdown",
   "metadata": {
    "slideshow": {
     "slide_type": "fragment"
    }
   },
   "source": [
    "More generally, $~$we can write an $n$-th order ODE in *explicit form* as\n",
    "\n",
    "$$ \\frac{d^ny}{dx^n} = f\\left(x,y,\\frac{dy}{dx},\\cdots,\\frac{d^{n-1}y}{dx^{n-1}}\\right)$$"
   ]
  },
  {
   "cell_type": "markdown",
   "metadata": {
    "slideshow": {
     "slide_type": "subslide"
    }
   },
   "source": [
    "or in *implicit form* as\n",
    "\n",
    "$$ F\\left(x,y,\\frac{dy}{dx},\\cdots,\\frac{d^{n}y}{dx^{n}}\\right)=0$$\n",
    "\n",
    "where $f$ and $F$ are known functions. The general solution of an $n$-th order ODE have $n$ free parameters\n",
    "that we need to specify, for example, as initial conditions for the unknown function and $n -1$ of its derivatives\n",
    "\n",
    "$$y(0)=y_0, y'(0)=y_1, \\cdots, y^{n-1}(0)=y_{n-1}$$"
   ]
  },
  {
   "cell_type": "markdown",
   "metadata": {
    "slideshow": {
     "slide_type": "subslide"
    }
   },
   "source": [
    "An ODE can always be rewritten as a system of first-order ODEs. Specifically, the $n$-th order ODE on the\n",
    "explicit form can be written in the standard form by introducing $n$ new functions\n",
    "\n",
    "$$y_1 = y,\\, y_2=\\frac{dy}{dx},\\, \\cdots,\\, y_n = \\frac{dy^{n-1}}{dx^{n-1}}.$$\n",
    "\n",
    "This gives the following system of first-order ODEs:\n",
    "\n",
    "$$\\frac{d}{dx}\n",
    "\\begin{bmatrix}\n",
    "y_1\\\\ \n",
    "\\vdots\\\\ \n",
    "y_{n-1}\\\\ \n",
    "y_n\n",
    "\\end{bmatrix}\n",
    "=\n",
    "\\begin{bmatrix}\n",
    "y_2\\\\ \n",
    "\\vdots\\\\ \n",
    "y_n\\\\ \n",
    "f(x,y_1,\\cdots, y_n)\n",
    "\\end{bmatrix}\n",
    ",$$"
   ]
  },
  {
   "cell_type": "markdown",
   "metadata": {
    "slideshow": {
     "slide_type": "subslide"
    }
   },
   "source": [
    "which also can be written in a more compact vector form:\n",
    "\n",
    "$$\\scriptsize\\frac{d\\mathbf{y}}{dx} = \\mathbf{f}(x,\\mathbf{y}(x)).$$\n",
    "\n",
    "This canonical form is particularly useful for numerical solutions of ODEs, and it is common that numerical methods for solving\n",
    "ODEs take the function $\\mathbf{f} = (f_1, f_2,\\cdots,f_n)$"
   ]
  },
  {
   "cell_type": "markdown",
   "metadata": {
    "slideshow": {
     "slide_type": "fragment"
    }
   },
   "source": [
    "If the functions $f_1, f_2, \\cdots, f_n$ are all linear, then the corresponding system of ODEs can be written on the simple form\n",
    "\n",
    "$$ \\frac{d\\mathbf{y}}{dx} = \\mathbf{A}(\\mathbf{x})\\mathbf{y}(\\mathbf{x}) +\\mathbf{r}(\\mathbf{x}),$$\n",
    "\n",
    "where $\\mathbf{A}(\\mathbf{x})$ is an $n\\times n$ matrix, and $\\mathbf{r}(\\mathbf{x})$ is an $n$-vector, that only depends on $\\mathbf{x}$. In this form, the $\\mathbf{r}(\\mathbf{x})$ is known as the source term, and the linear system is known as homogeneous if $\\mathbf{r}(\\mathbf{x})=\\mathbf{0}$, and nonhomogeneous otherwise"
   ]
  },
  {
   "cell_type": "markdown",
   "metadata": {
    "slideshow": {
     "slide_type": "subslide"
    }
   },
   "source": [
    "For certain properties and forms of the function $\\mathbf{f}(\\mathbf{x}, \\mathbf{y}(\\mathbf{x}))$, there may be known solutions and special methods for solving the corresponding ODE problem, but there is no general method for an arbitrary $\\mathbf{f}(\\mathbf{x}, \\mathbf{y}(\\mathbf{x}))$, other than approximate numerical methods\n",
    "\n",
    "In addition to the properties of $\\mathbf{f}(\\mathbf{x}, \\mathbf{y}(\\mathbf{x}))$, the boundary conditions for an ODE also influence the solvability of the ODE problem, as well as which numerical approaches are available. There are two main types of boundary conditions for ODE problems: initial value conditions\n",
    "and boundary value conditions"
   ]
  },
  {
   "cell_type": "markdown",
   "metadata": {
    "slideshow": {
     "slide_type": "slide"
    }
   },
   "source": [
    "## Symbolic solution to ODEs"
   ]
  },
  {
   "cell_type": "markdown",
   "metadata": {
    "slideshow": {
     "slide_type": "fragment"
    }
   },
   "source": [
    "Sympy provides a generic ODE solver `sympy.dsolve`, which is able to find analytical solutions to many\n",
    "elementary ODEs. The `sympy.dsolve` function attempts to automatically classify a given ODE, and it may\n",
    "attempt a variety of techniques to find its solution\n",
    "\n",
    "While `dsolve` can be used to solve many simple ODEs symbolically, as we will see in the following, it is worth keeping in mind that most ODEs cannot be solved analytically. Typical examples of ODEs where one can hope to find a symbolic solution are ODEs of first or second-order, or linear systems of first-order ODEs with only a few unknown functions"
   ]
  },
  {
   "cell_type": "markdown",
   "metadata": {
    "slideshow": {
     "slide_type": "subslide"
    }
   },
   "source": [
    "The first example is the simple first-order ODE for Newton's cooling law, \n",
    "\n",
    "$$\\displaystyle\\frac{dT(t)}{dt} = -k(T(t) -T_a)$$\n",
    "\n",
    "$\\text{ }$with the initial value $\\text{ }T(0) = T_0$"
   ]
  },
  {
   "cell_type": "code",
   "execution_count": 3,
   "metadata": {
    "slideshow": {
     "slide_type": "fragment"
    }
   },
   "outputs": [
    {
     "data": {
      "image/png": "[encoded data removed]",
      "text/latex": [
       "$\\displaystyle k \\left(- T_{a} + T{\\left(t \\right)}\\right) + \\frac{d}{d t} T{\\left(t \\right)} = 0$"
      ],
      "text/plain": [
       "                 d           \n",
       "k⋅(-Tₐ + T(t)) + ──(T(t)) = 0\n",
       "                 dt          "
      ]
     },
     "execution_count": 3,
     "metadata": {},
     "output_type": "execute_result"
    }
   ],
   "source": [
    "t, k, T0, Ta = sympy.symbols(\"t, k, T_0, T_a\")\n",
    "T = sympy.Function(\"T\")\n",
    "\n",
    "ode = T(t).diff(t) +k *(T(t) - Ta)\n",
    "sympy.Eq(ode, 0) # display the equation including the equality sign and a right-hand side that is zero.\n"
   ]
  },
  {
   "cell_type": "code",
   "execution_count": 4,
   "metadata": {
    "slideshow": {
     "slide_type": "fragment"
    }
   },
   "outputs": [
    {
     "data": {
      "image/png": "[encoded data removed]",
      "text/latex": [
       "$\\displaystyle T{\\left(t \\right)} = C_{1} e^{- k t} + T_{a}$"
      ],
      "text/plain": [
       "           -k⋅t     \n",
       "T(t) = C₁⋅ℯ     + Tₐ"
      ]
     },
     "execution_count": 4,
     "metadata": {},
     "output_type": "execute_result"
    }
   ],
   "source": [
    "ode_sol = sympy.dsolve(ode); ode_sol\n"
   ]
  },
  {
   "cell_type": "markdown",
   "metadata": {
    "slideshow": {
     "slide_type": "subslide"
    }
   },
   "source": [
    "The return value from `sympy.dsolve` is an instance of `sympy.Eq`, $\\text{ }$which is a symbolic\n",
    "representation of an equality"
   ]
  },
  {
   "cell_type": "code",
   "execution_count": 5,
   "metadata": {
    "slideshow": {
     "slide_type": "fragment"
    }
   },
   "outputs": [
    {
     "data": {
      "image/png": "[encoded data removed]",
      "text/latex": [
       "$\\displaystyle \\left( T{\\left(t \\right)}, \\  C_{1} e^{- k t} + T_{a}\\right)$"
      ],
      "text/plain": [
       "⎛          -k⋅t     ⎞\n",
       "⎝T(t), C₁⋅ℯ     + Tₐ⎠"
      ]
     },
     "execution_count": 5,
     "metadata": {},
     "output_type": "execute_result"
    }
   ],
   "source": [
    "ode_sol.lhs, ode_sol.rhs\n"
   ]
  },
  {
   "cell_type": "markdown",
   "metadata": {
    "slideshow": {
     "slide_type": "fragment"
    }
   },
   "source": [
    "Once the general solution has been found, $~$we need to use the initial conditions to find the values of the\n",
    "yet-to-be-determined integration constants. We first\n",
    "create a dictionary that describes the initial condition, `ics = {T(0): T0}`, which we can use with sympy's\n",
    "`subs` method to apply the initial condition to the solution of the ODE. This results in an equation for the\n",
    "unknown integration constant $C_1$:"
   ]
  },
  {
   "cell_type": "code",
   "execution_count": 6,
   "metadata": {
    "slideshow": {
     "slide_type": "fragment"
    }
   },
   "outputs": [
    {
     "data": {
      "image/png": "[encoded data removed]",
      "text/latex": [
       "$\\displaystyle T_{0} = C_{1} + T_{a}$"
      ],
      "text/plain": [
       "T₀ = C₁ + Tₐ"
      ]
     },
     "execution_count": 6,
     "metadata": {},
     "output_type": "execute_result"
    }
   ],
   "source": [
    "ics = {T(0): T0}\n",
    "C_eq = sympy.Eq(ode_sol.lhs.subs(t, 0).subs(ics), ode_sol.rhs.subs(t, 0)); C_eq\n"
   ]
  },
  {
   "cell_type": "markdown",
   "metadata": {
    "slideshow": {
     "slide_type": "subslide"
    }
   },
   "source": [
    "In the present example, the equation for $C_1$ is trivial to solve, but for the sake of generality, here we\n",
    "solve it using `sympy.solve`. The result is a list of solutions:"
   ]
  },
  {
   "cell_type": "code",
   "execution_count": 7,
   "metadata": {
    "slideshow": {
     "slide_type": "fragment"
    }
   },
   "outputs": [
    {
     "data": {
      "image/png": "[encoded data removed]",
      "text/latex": [
       "$\\displaystyle \\left[ \\left\\{ C_{1} : T_{0} - T_{a}\\right\\}\\right]$"
      ],
      "text/plain": [
       "[{C₁: T₀ - Tₐ}]"
      ]
     },
     "execution_count": 7,
     "metadata": {},
     "output_type": "execute_result"
    }
   ],
   "source": [
    "C_sol = sympy.solve(C_eq); C_sol\n"
   ]
  },
  {
   "cell_type": "code",
   "execution_count": 8,
   "metadata": {
    "slideshow": {
     "slide_type": "fragment"
    }
   },
   "outputs": [
    {
     "data": {
      "image/png": "[encoded data removed]",
      "text/latex": [
       "$\\displaystyle T{\\left(t \\right)} = T_{a} + \\left(T_{0} - T_{a}\\right) e^{- k t}$"
      ],
      "text/plain": [
       "                       -k⋅t\n",
       "T(t) = Tₐ + (T₀ - Tₐ)⋅ℯ    "
      ]
     },
     "execution_count": 8,
     "metadata": {},
     "output_type": "execute_result"
    }
   ],
   "source": [
    "ode_sol.subs(C_sol[0])\n"
   ]
  },
  {
   "cell_type": "markdown",
   "metadata": {
    "slideshow": {
     "slide_type": "subslide"
    }
   },
   "source": [
    "Applying the initial conditions and solving for the undetermined integration constants can be slightly tedious, and it worth while to collect these steps in a reusable function. The following function `apply_ics` is a basic\n",
    "implementation that generalizes these steps to a differential equation of arbitrary order"
   ]
  },
  {
   "cell_type": "code",
   "execution_count": 9,
   "metadata": {
    "slideshow": {
     "slide_type": "fragment"
    }
   },
   "outputs": [],
   "source": [
    "def apply_ics(sol, ics, x, known_params):\n",
    "    \"\"\"\n",
    "    Apply the initial conditions (ics), given as a dictionary on\n",
    "    the form ics = {y(0): y0: y(x).diff(x).subs(x, 0): y1, ...}\n",
    "    to the solution of the ODE with indepdendent variable x.\n",
    "    The undetermined integration constants C1, C2, ... are extracted\n",
    "    from the free symbols of the ODE solution, excluding symbols in\n",
    "    the known_params list.\n",
    "    \"\"\"\n",
    "    free_params = sol.free_symbols - set(known_params)\n",
    "    eqs = [(sol.lhs.diff(x, n) - sol.rhs.diff(x, n)).subs(x, 0).subs(ics)\n",
    "           for n in range(len(ics))]\n",
    "    sol_params = sympy.solve(eqs, free_params)\n",
    "    \n",
    "    return sol.subs(sol_params)\n"
   ]
  },
  {
   "cell_type": "code",
   "execution_count": 10,
   "metadata": {
    "slideshow": {
     "slide_type": "fragment"
    }
   },
   "outputs": [
    {
     "data": {
      "image/png": "[encoded data removed]",
      "text/latex": [
       "$\\displaystyle T{\\left(t \\right)} = T_{a} + \\left(T_{0} - T_{a}\\right) e^{- k t}$"
      ],
      "text/plain": [
       "                       -k⋅t\n",
       "T(t) = Tₐ + (T₀ - Tₐ)⋅ℯ    "
      ]
     },
     "execution_count": 10,
     "metadata": {},
     "output_type": "execute_result"
    }
   ],
   "source": [
    "T_sol = apply_ics(ode_sol, ics, t, [k, Ta]); T_sol\n"
   ]
  },
  {
   "cell_type": "code",
   "execution_count": 11,
   "metadata": {
    "slideshow": {
     "slide_type": "subslide"
    }
   },
   "outputs": [],
   "source": [
    "x = np.linspace(0, 4, 100)\n",
    "y = sympy.lambdify((t, k), T_sol.rhs.subs({T0: 5, Ta: 1}), 'numpy')\n",
    "\n",
    "fig, ax = plt.subplots(figsize=(8, 4))\n",
    "\n",
    "for k in [1, 2, 3]:\n",
    "    ax.plot(x, y(x, k), label=r\"$k=%d$\" % k)\n",
    "\n",
    "ax.set_title(r\"$%s$\" % sympy.latex(T_sol), fontsize=16)\n",
    "ax.set_xlabel(r\"$x$\", fontsize=16)\n",
    "ax.set_ylabel(r\"$y$\", fontsize=16)\n",
    "ax.legend()\n",
    "ax.set_xlim(0, 4)\n",
    "ax.set_ylim(1, 5)\n",
    "ax.tick_params(which='both', direction='in')\n"
   ]
  },
  {
   "cell_type": "markdown",
   "metadata": {
    "slideshow": {
     "slide_type": "subslide"
    }
   },
   "source": [
    "As an example of a slightly\n",
    "more complicated problem, consider the ODE for a damped harmonic oscillator, which is a second-order\n",
    "ODE on the form\n",
    "\n",
    "$$ \\frac{d^2x(t)}{dt^2} +2\\gamma \\omega_0 \\frac{dx(t)}{dt} +\\omega_0^2 x(t) = 0$$\n",
    "\n",
    "where $x(t)$ is the position of the oscillator at time $t$, $\\text{ }\\omega_0$ is\n",
    "the frequency for the undamped case, and $\\text{ }\\gamma$ is the damping ratio"
   ]
  },
  {
   "cell_type": "code",
   "execution_count": 12,
   "metadata": {
    "slideshow": {
     "slide_type": "fragment"
    }
   },
   "outputs": [
    {
     "data": {
      "image/png": "[encoded data removed]",
      "text/latex": [
       "$\\displaystyle 2 \\gamma \\omega_{0} \\frac{d}{d t} x{\\left(t \\right)} + \\omega_{0}^{2} x{\\left(t \\right)} + \\frac{d^{2}}{d t^{2}} x{\\left(t \\right)} = 0$"
      ],
      "text/plain": [
       "                               2          \n",
       "       d            2         d           \n",
       "2⋅γ⋅ω₀⋅──(x(t)) + ω₀ ⋅x(t) + ───(x(t)) = 0\n",
       "       dt                      2          \n",
       "                             dt           "
      ]
     },
     "execution_count": 12,
     "metadata": {},
     "output_type": "execute_result"
    }
   ],
   "source": [
    "t, omega0, gamma = sympy.symbols(\"t, omega_0, gamma\", positive=True)\n",
    "x = sympy.Function(\"x\")\n",
    "\n",
    "ode = x(t).diff(t, 2) +2 *gamma* omega0 *x(t).diff(t) +omega0**2 *x(t)\n",
    "sympy.Eq(ode, 0)\n"
   ]
  },
  {
   "cell_type": "code",
   "execution_count": 13,
   "metadata": {
    "slideshow": {
     "slide_type": "fragment"
    }
   },
   "outputs": [
    {
     "data": {
      "image/png": "[encoded data removed]",
      "text/latex": [
       "$\\displaystyle x{\\left(t \\right)} = C_{1} e^{\\omega_{0} t \\left(- \\gamma - \\sqrt{\\gamma - 1} \\sqrt{\\gamma + 1}\\right)} + C_{2} e^{\\omega_{0} t \\left(- \\gamma + \\sqrt{\\gamma - 1} \\sqrt{\\gamma + 1}\\right)}$"
      ],
      "text/plain": [
       "                ⎛       _______   _______⎞            ⎛       _______   ______\n",
       "           ω₀⋅t⋅⎝-γ - ╲╱ γ - 1 ⋅╲╱ γ + 1 ⎠       ω₀⋅t⋅⎝-γ + ╲╱ γ - 1 ⋅╲╱ γ + 1\n",
       "x(t) = C₁⋅ℯ                                + C₂⋅ℯ                             \n",
       "\n",
       "_⎞\n",
       " ⎠\n",
       "  "
      ]
     },
     "execution_count": 13,
     "metadata": {},
     "output_type": "execute_result"
    }
   ],
   "source": [
    "ode_sol = sympy.dsolve(ode); ode_sol\n"
   ]
  },
  {
   "cell_type": "markdown",
   "metadata": {
    "slideshow": {
     "slide_type": "subslide"
    }
   },
   "source": [
    "Since this is a second-order ODE, there are two undetermined integration constants in the general\n",
    "solution. We need to specify initial conditions for both the position $x(0)$ and the velocity\n",
    "$\\displaystyle \\frac{dx(t)}{dt}$ to single out a particular solution to the ODE"
   ]
  },
  {
   "cell_type": "code",
   "execution_count": 14,
   "metadata": {
    "slideshow": {
     "slide_type": "fragment"
    }
   },
   "outputs": [
    {
     "data": {
      "image/png": "[encoded data removed]",
      "text/latex": [
       "$\\displaystyle x{\\left(t \\right)} = \\left(- \\frac{\\gamma}{2 \\sqrt{\\gamma^{2} - 1}} + \\frac{1}{2}\\right) e^{\\omega_{0} t \\left(- \\gamma - \\sqrt{\\gamma - 1} \\sqrt{\\gamma + 1}\\right)} + \\left(\\frac{\\gamma}{2 \\sqrt{\\gamma^{2} - 1}} + \\frac{1}{2}\\right) e^{\\omega_{0} t \\left(- \\gamma + \\sqrt{\\gamma - 1} \\sqrt{\\gamma + 1}\\right)}$"
      ],
      "text/plain": [
       "                                   ⎛       _______   _______⎞                 \n",
       "       ⎛        γ         1⎞  ω₀⋅t⋅⎝-γ - ╲╱ γ - 1 ⋅╲╱ γ + 1 ⎠   ⎛      γ      \n",
       "x(t) = ⎜- ───────────── + ─⎟⋅ℯ                                + ⎜─────────────\n",
       "       ⎜       ________   2⎟                                    ⎜     ________\n",
       "       ⎜      ╱  2         ⎟                                    ⎜    ╱  2     \n",
       "       ⎝  2⋅╲╱  γ  - 1     ⎠                                    ⎝2⋅╲╱  γ  - 1 \n",
       "\n",
       "            ⎛       _______   _______⎞\n",
       "   1⎞  ω₀⋅t⋅⎝-γ + ╲╱ γ - 1 ⋅╲╱ γ + 1 ⎠\n",
       " + ─⎟⋅ℯ                               \n",
       "   2⎟                                 \n",
       "    ⎟                                 \n",
       "    ⎠                                 "
      ]
     },
     "execution_count": 14,
     "metadata": {},
     "output_type": "execute_result"
    }
   ],
   "source": [
    "ics = {x(0): 1, x(t).diff(t).subs(t, 0): 0}\n",
    "x_sol = apply_ics(ode_sol, ics, t, [omega0, gamma]); x_sol\n"
   ]
  },
  {
   "cell_type": "markdown",
   "metadata": {
    "slideshow": {
     "slide_type": "fragment"
    }
   },
   "source": [
    "This is the solution for the dynamics of the oscillator for arbitrary values of $t$, $\\omega_0$ and $\\gamma$. However, substituting $\\gamma = 1$, which corresponds to critical damping, directly into this expression results in *a division by zero* error, and for this particular choice of $\\gamma$ we need to be careful and compute the limit where $\\gamma \\rightarrow 1$"
   ]
  },
  {
   "cell_type": "code",
   "execution_count": 15,
   "metadata": {
    "slideshow": {
     "slide_type": "fragment"
    }
   },
   "outputs": [
    {
     "data": {
      "image/png": "[encoded data removed]",
      "text/latex": [
       "$\\displaystyle \\left(\\omega_{0} t + 1\\right) e^{- \\omega_{0} t}$"
      ],
      "text/plain": [
       "            -ω₀⋅t\n",
       "(ω₀⋅t + 1)⋅ℯ     "
      ]
     },
     "execution_count": 15,
     "metadata": {},
     "output_type": "execute_result"
    }
   ],
   "source": [
    "x_critical = sympy.limit(x_sol.rhs, gamma, 1); x_critical\n"
   ]
  },
  {
   "cell_type": "markdown",
   "metadata": {
    "slideshow": {
     "slide_type": "subslide"
    }
   },
   "source": [
    "Finally, $\\text{ }$we plot the solutions for $\\omega_0 = 2\\pi$ and a sequence of different values of the damping ratio $\\gamma$ :"
   ]
  },
  {
   "cell_type": "code",
   "execution_count": 16,
   "metadata": {
    "slideshow": {
     "slide_type": "fragment"
    }
   },
   "outputs": [],
   "source": [
    "fig, ax = plt.subplots(figsize=(8, 4))\n",
    "\n",
    "tt = np.linspace(0, 3, 250)\n",
    "for g in [0.1, 0.5, 1, 2.0, 5.0]:\n",
    "    if g == 1:\n",
    "        x_t = sympy.lambdify(t, x_critical.subs({omega0: 2.0 *sympy.pi}), 'numpy')\n",
    "    else:\n",
    "        x_t = sympy.lambdify(t, x_sol.rhs.subs({omega0: 2.0 *sympy.pi, gamma: g}), 'numpy')\n",
    "    ax.plot(tt, x_t(tt).real, label=r\"$\\gamma = %.1f$\" % g)\n",
    "\n",
    "ax.set_xlabel(r\"$t$\", fontsize=16)\n",
    "ax.set_ylabel(r\"$x(t)$\", fontsize=16)\n",
    "ax.legend()\n",
    "ax.set_xlim(0, 3)\n",
    "ax.set_ylim(-1, 1,5)\n",
    "ax.tick_params(which='both', direction='in')\n"
   ]
  },
  {
   "cell_type": "markdown",
   "metadata": {
    "slideshow": {
     "slide_type": "subslide"
    }
   },
   "source": [
    "Even many first-order ODEs cannot be solved exactly in terms of\n",
    "elementary functions. \n",
    "\n",
    "For example, consider $\\displaystyle\\frac{dy}{dx} = x +y^2$, which is an example of an ODE that does\n",
    "not have any closed-form solution"
   ]
  },
  {
   "cell_type": "code",
   "execution_count": 17,
   "metadata": {
    "slideshow": {
     "slide_type": "fragment"
    }
   },
   "outputs": [
    {
     "data": {
      "image/png": "[encoded data removed]",
      "text/latex": [
       "$\\displaystyle \\frac{d}{d x} y{\\left(x \\right)} = x + y^{2}{\\left(x \\right)}$"
      ],
      "text/plain": [
       "d               2   \n",
       "──(y(x)) = x + y (x)\n",
       "dx                  "
      ]
     },
     "execution_count": 17,
     "metadata": {},
     "output_type": "execute_result"
    }
   ],
   "source": [
    "x = sympy.symbols(\"x\")\n",
    "y = sympy.Function(\"y\")\n",
    "f = y(x)**2 +x\n",
    "sympy.Eq(y(x).diff(x), f)\n"
   ]
  },
  {
   "cell_type": "code",
   "execution_count": 18,
   "metadata": {
    "slideshow": {
     "slide_type": "fragment"
    }
   },
   "outputs": [
    {
     "data": {
      "image/png": "[encoded data removed]",
      "text/latex": [
       "$\\displaystyle y{\\left(x \\right)} = \\frac{x^{2} \\left(2 C_{1}^{3} + 1\\right)}{2} + \\frac{x^{5} \\left(10 C_{1}^{3} \\left(6 C_{1}^{3} + 1\\right) + 20 C_{1}^{3} + 3\\right)}{60} + C_{1} + \\frac{C_{1} x^{3} \\left(3 C_{1}^{3} + 1\\right)}{3} + C_{1}^{2} x + \\frac{C_{1}^{2} x^{4} \\left(12 C_{1}^{3} + 5\\right)}{12} + O\\left(x^{6}\\right)$"
      ],
      "text/plain": [
       "        2 ⎛    3    ⎞    5 ⎛     3 ⎛    3    ⎞        3    ⎞            3 ⎛   \n",
       "       x ⋅⎝2⋅C₁  + 1⎠   x ⋅⎝10⋅C₁ ⋅⎝6⋅C₁  + 1⎠ + 20⋅C₁  + 3⎠        C₁⋅x ⋅⎝3⋅C\n",
       "y(x) = ────────────── + ──────────────────────────────────── + C₁ + ──────────\n",
       "             2                           60                                 3 \n",
       "\n",
       " 3    ⎞             2  4 ⎛     3    ⎞        \n",
       "₁  + 1⎠     2     C₁ ⋅x ⋅⎝12⋅C₁  + 5⎠    ⎛ 6⎞\n",
       "─────── + C₁ ⋅x + ─────────────────── + O⎝x ⎠\n",
       "                           12                "
      ]
     },
     "execution_count": 18,
     "metadata": {},
     "output_type": "execute_result"
    }
   ],
   "source": [
    "sympy.dsolve(y(x).diff(x) -f)\n"
   ]
  },
  {
   "cell_type": "code",
   "execution_count": 19,
   "metadata": {
    "slideshow": {
     "slide_type": "fragment"
    }
   },
   "outputs": [
    {
     "data": {
      "image/png": "[encoded data removed]",
      "text/latex": [
       "$\\displaystyle y{\\left(x \\right)} = \\frac{x^{2}}{2} + \\frac{x^{5}}{20} + O\\left(x^{6}\\right)$"
      ],
      "text/plain": [
       "        2    5        \n",
       "       x    x     ⎛ 6⎞\n",
       "y(x) = ── + ── + O⎝x ⎠\n",
       "       2    20        "
      ]
     },
     "execution_count": 19,
     "metadata": {},
     "output_type": "execute_result"
    }
   ],
   "source": [
    "ics = {y(0): 0}\n",
    "ode_sol = sympy.dsolve(y(x).diff(x) -f, ics=ics); ode_sol\n"
   ]
  },
  {
   "cell_type": "markdown",
   "metadata": {
    "slideshow": {
     "slide_type": "subslide"
    }
   },
   "source": [
    "For many other types of equations, sympy outright fails to produce any solution at all. For example,\n",
    "if we attempt to solve the second-order $\\displaystyle\\frac{d^2y}{dx^2} =x +y^2$"
   ]
  },
  {
   "cell_type": "code",
   "execution_count": 20,
   "metadata": {
    "slideshow": {
     "slide_type": "fragment"
    }
   },
   "outputs": [
    {
     "data": {
      "image/png": "[encoded data removed]",
      "text/latex": [
       "$\\displaystyle \\frac{d^{2}}{d x^{2}} y{\\left(x \\right)} = x + y^{2}{\\left(x \\right)}$"
      ],
      "text/plain": [
       "  2                  \n",
       " d               2   \n",
       "───(y(x)) = x + y (x)\n",
       "  2                  \n",
       "dx                   "
      ]
     },
     "execution_count": 20,
     "metadata": {},
     "output_type": "execute_result"
    }
   ],
   "source": [
    "sympy.Eq(y(x).diff(x, 2), f)\n"
   ]
  },
  {
   "cell_type": "code",
   "execution_count": 21,
   "metadata": {
    "slideshow": {
     "slide_type": "fragment"
    }
   },
   "outputs": [
    {
     "ename": "NotImplementedError",
     "evalue": "solve: Cannot solve -x - y(x)**2 + Derivative(y(x), (x, 2))",
     "output_type": "error",
     "traceback": [
      "\u001b[1;31m---------------------------------------------------------------------------\u001b[0m",
      "\u001b[1;31mNotImplementedError\u001b[0m                       Traceback (most recent call last)",
      "\u001b[1;32m<ipython-input-21-300535bb40a5>\u001b[0m in \u001b[0;36m<module>\u001b[1;34m\u001b[0m\n\u001b[1;32m----> 1\u001b[1;33m \u001b[0msympy\u001b[0m\u001b[1;33m.\u001b[0m\u001b[0mdsolve\u001b[0m\u001b[1;33m(\u001b[0m\u001b[0my\u001b[0m\u001b[1;33m(\u001b[0m\u001b[0mx\u001b[0m\u001b[1;33m)\u001b[0m\u001b[1;33m.\u001b[0m\u001b[0mdiff\u001b[0m\u001b[1;33m(\u001b[0m\u001b[0mx\u001b[0m\u001b[1;33m,\u001b[0m \u001b[1;36m2\u001b[0m\u001b[1;33m)\u001b[0m \u001b[1;33m-\u001b[0m\u001b[0mf\u001b[0m\u001b[1;33m)\u001b[0m\u001b[1;33m\u001b[0m\u001b[1;33m\u001b[0m\u001b[0m\n\u001b[0m",
      "\u001b[1;32m~\\anaconda3\\lib\\site-packages\\sympy\\solvers\\ode\\ode.py\u001b[0m in \u001b[0;36mdsolve\u001b[1;34m(eq, func, hint, simplify, ics, xi, eta, x0, n, **kwargs)\u001b[0m\n\u001b[0;32m    616\u001b[0m \u001b[1;33m\u001b[0m\u001b[0m\n\u001b[0;32m    617\u001b[0m         \u001b[1;31m# See the docstring of _desolve for more details.\u001b[0m\u001b[1;33m\u001b[0m\u001b[1;33m\u001b[0m\u001b[1;33m\u001b[0m\u001b[0m\n\u001b[1;32m--> 618\u001b[1;33m         hints = _desolve(eq, func=func,\n\u001b[0m\u001b[0;32m    619\u001b[0m             \u001b[0mhint\u001b[0m\u001b[1;33m=\u001b[0m\u001b[0mhint\u001b[0m\u001b[1;33m,\u001b[0m \u001b[0msimplify\u001b[0m\u001b[1;33m=\u001b[0m\u001b[1;32mTrue\u001b[0m\u001b[1;33m,\u001b[0m \u001b[0mxi\u001b[0m\u001b[1;33m=\u001b[0m\u001b[0mxi\u001b[0m\u001b[1;33m,\u001b[0m \u001b[0meta\u001b[0m\u001b[1;33m=\u001b[0m\u001b[0meta\u001b[0m\u001b[1;33m,\u001b[0m \u001b[0mtype\u001b[0m\u001b[1;33m=\u001b[0m\u001b[1;34m'ode'\u001b[0m\u001b[1;33m,\u001b[0m \u001b[0mics\u001b[0m\u001b[1;33m=\u001b[0m\u001b[0mics\u001b[0m\u001b[1;33m,\u001b[0m\u001b[1;33m\u001b[0m\u001b[1;33m\u001b[0m\u001b[0m\n\u001b[0;32m    620\u001b[0m             x0=x0, n=n, **kwargs)\n",
      "\u001b[1;32m~\\anaconda3\\lib\\site-packages\\sympy\\solvers\\deutils.py\u001b[0m in \u001b[0;36m_desolve\u001b[1;34m(eq, func, hint, ics, simplify, **kwargs)\u001b[0m\n\u001b[0;32m    242\u001b[0m                 str(eq) + \" is not a solvable differential equation in \" + str(func))\n\u001b[0;32m    243\u001b[0m         \u001b[1;32melse\u001b[0m\u001b[1;33m:\u001b[0m\u001b[1;33m\u001b[0m\u001b[1;33m\u001b[0m\u001b[0m\n\u001b[1;32m--> 244\u001b[1;33m             \u001b[1;32mraise\u001b[0m \u001b[0mNotImplementedError\u001b[0m\u001b[1;33m(\u001b[0m\u001b[0mdummy\u001b[0m \u001b[1;33m+\u001b[0m \u001b[1;34m\"solve\"\u001b[0m \u001b[1;33m+\u001b[0m \u001b[1;34m\": Cannot solve \"\u001b[0m \u001b[1;33m+\u001b[0m \u001b[0mstr\u001b[0m\u001b[1;33m(\u001b[0m\u001b[0meq\u001b[0m\u001b[1;33m)\u001b[0m\u001b[1;33m)\u001b[0m\u001b[1;33m\u001b[0m\u001b[1;33m\u001b[0m\u001b[0m\n\u001b[0m\u001b[0;32m    245\u001b[0m     \u001b[1;32mif\u001b[0m \u001b[0mhint\u001b[0m \u001b[1;33m==\u001b[0m \u001b[1;34m'default'\u001b[0m\u001b[1;33m:\u001b[0m\u001b[1;33m\u001b[0m\u001b[1;33m\u001b[0m\u001b[0m\n\u001b[0;32m    246\u001b[0m         return _desolve(eq, func, ics=ics, hint=hints['default'], simplify=simplify,\n",
      "\u001b[1;31mNotImplementedError\u001b[0m: solve: Cannot solve -x - y(x)**2 + Derivative(y(x), (x, 2))"
     ]
    }
   ],
   "source": [
    "sympy.dsolve(y(x).diff(x, 2) -f)\n"
   ]
  },
  {
   "cell_type": "markdown",
   "metadata": {
    "slideshow": {
     "slide_type": "subslide"
    }
   },
   "source": [
    "### Direction fields"
   ]
  },
  {
   "cell_type": "markdown",
   "metadata": {
    "slideshow": {
     "slide_type": "fragment"
    }
   },
   "source": [
    "A direction field graph is a simple but useful technique to visualize possible solutions to arbitrary first-order\n",
    "ODEs. It is made up of short lines that show the slope of the unknown function on a grid in the $x$–$y$ plane.\n",
    "This graph can be easily produced because the slope of $y(x)$ at arbitrary points of the $x$–$y$ plane is given by the definition of the ODE:\n",
    "\n",
    "> $\\displaystyle\\frac{dy}{dx}=f(x,y(x))$ \n",
    "\n",
    "The reason why the direction field graph is useful is that smooth and continuous curves that tangent the slope lines (at every point) in the direction field graph are possible solutions to the ODE"
   ]
  },
  {
   "cell_type": "code",
   "execution_count": 22,
   "metadata": {
    "slideshow": {
     "slide_type": "subslide"
    }
   },
   "outputs": [],
   "source": [
    "def plot_direction_field(x, y_x, f_xy, x_lim=(-5, 5), y_lim=(-5, 5), ax=None):\n",
    "    \n",
    "    f_np = sympy.lambdify((x, y_x), f_xy, 'numpy')\n",
    "    \n",
    "    x_vec = np.linspace(x_lim[0], x_lim[1], 20)\n",
    "    y_vec = np.linspace(y_lim[0], y_lim[1], 20)\n",
    "    \n",
    "    if ax is None:\n",
    "        _, ax = plt.subplots(figsize=(4, 4))\n",
    "\n",
    "    dx = x_vec[1] -x_vec[0]\n",
    "    dy = y_vec[1] -y_vec[0]\n",
    "\n",
    "    for m, xx in enumerate(x_vec):\n",
    "        for n, yy in enumerate(y_vec):\n",
    "            Dy = f_np(xx, yy) *dx\n",
    "            Dx = 0.8 *dx**2 /np.sqrt(dx**2 +Dy**2)\n",
    "            Dy = 0.8 *Dy *dx /np.sqrt(dx**2 +Dy**2)\n",
    "            ax.plot([xx -Dx/2, xx +Dx/2], [yy -Dy/2, yy +Dy/2], 'b', lw=0.5)  \n",
    " \n",
    "    ax.set_xlim(x_lim[0], x_lim[1])\n",
    "    ax.set_ylim(y_lim[0], y_lim[1])\n",
    "    ax.tick_params(which='both', direction='in')\n",
    "    ax.set_title(r\"$%s$\" % (sympy.latex(sympy.Eq(y(x).diff(x), f_xy))), fontsize=16)\n",
    "    \n",
    "    return ax\n"
   ]
  },
  {
   "cell_type": "markdown",
   "metadata": {
    "slideshow": {
     "slide_type": "fragment"
    }
   },
   "source": [
    "With this function, we can produce the direction field graphs for the ODEs. The direction lines in the graphs suggest how the curves that are solutions to the corresponding ODE behave, and direction field graphs are therefore a useful tool for visualizing solutions to ODEs that cannot be solved analytically"
   ]
  },
  {
   "cell_type": "code",
   "execution_count": 23,
   "metadata": {
    "slideshow": {
     "slide_type": "subslide"
    }
   },
   "outputs": [],
   "source": [
    "fig, axes = plt.subplots(1, 2, figsize=(8, 4))\n",
    "\n",
    "# left panel\n",
    "plot_direction_field(x, y(x), f, ax=axes[0])\n",
    "x_vec = np.linspace(-3, 3, 100)\n",
    "axes[0].plot(x_vec, sympy.lambdify(x, ode_sol.rhs.removeO())(x_vec), 'b', lw=2)\n",
    "\n",
    "# right panel\n",
    "plot_direction_field(x, y(x), f, ax=axes[1])\n",
    "x_vec = np.linspace(-1, 1, 100)\n",
    "axes[1].plot(x_vec, sympy.lambdify(x, ode_sol.rhs.removeO())(x_vec), 'b', lw=2)\n",
    "\n",
    "# iteratively resolve the ODE with updated initial conditions\n",
    "ode_sol_p = ode_sol_m = ode_sol\n",
    "dx = 0.125\n",
    "\n",
    "# positive x\n",
    "for x0 in np.arange(1, 2., dx):\n",
    "    x_vec = np.linspace(x0, x0 +dx, 100)\n",
    "    ics = {y(x0): ode_sol_p.rhs.removeO().subs(x, x0)}\n",
    "    ode_sol_p = sympy.dsolve(y(x).diff(x) -f, ics=ics, n=6)\n",
    "    axes[1].plot(x_vec, sympy.lambdify(x, ode_sol_p.rhs.removeO())(x_vec), 'r', lw=2)\n",
    "\n",
    "# negative x\n",
    "for x0 in np.arange(1, 5, dx):\n",
    "    x_vec = np.linspace(-x0 -dx,-x0, 100)\n",
    "    ics = {y(-x0): ode_sol_m.rhs.removeO().subs(x,-x0)}\n",
    "    ode_sol_m = sympy.dsolve(y(x).diff(x) -f, ics=ics, n=6)\n",
    "    axes[1].plot(x_vec, sympy.lambdify(x, ode_sol_m.rhs.removeO())(x_vec), 'r', lw=2) "
   ]
  },
  {
   "cell_type": "markdown",
   "metadata": {
    "slideshow": {
     "slide_type": "slide"
    }
   },
   "source": [
    "In the left panel, we see that the approximate solution curve aligns well with the direction\n",
    "field lines near $x = 0$, but starts to deviate for $|x| \\geqslant 1$, suggesting that the approximate solution is no longer valid \n",
    "\n",
    "The solution curve shown in the right panel aligns better with the direction field throughout the plotted\n",
    "range. The blue curve segment is the original approximate solution, and the red curves are continuations\n",
    "obtained from resolving the ODE with an initial condition sequence that starts where the blue curves end"
   ]
  },
  {
   "cell_type": "markdown",
   "metadata": {
    "slideshow": {
     "slide_type": "fragment"
    }
   },
   "source": [
    "The following code generates the direction field graphs for $f(x,y(x))=y^2(x) +x$, $\\text{ }f(x,y(x))=-x/y(x)$, and $f(x,y(x))=y^2(x)/x$"
   ]
  },
  {
   "cell_type": "code",
   "execution_count": null,
   "metadata": {
    "slideshow": {
     "slide_type": "fragment"
    }
   },
   "outputs": [],
   "source": [
    "x = sympy.symbols(\"x\")\n",
    "y = sympy.Function(\"y\")\n",
    "\n",
    "fig, axes = plt.subplots(1, 3, figsize=(12, 4))\n",
    "\n",
    "plot_direction_field(x, y(x), y(x)**2 + x, ax=axes[0])\n",
    "plot_direction_field(x, y(x), -x / y(x), ax=axes[1])\n",
    "plot_direction_field(x, y(x), y(x)**2 / x, ax=axes[2]);"
   ]
  },
  {
   "cell_type": "markdown",
   "metadata": {
    "slideshow": {
     "slide_type": "subslide"
    }
   },
   "source": [
    "### Solving ODEs using Laplace Transformations"
   ]
  },
  {
   "cell_type": "markdown",
   "metadata": {
    "slideshow": {
     "slide_type": "fragment"
    }
   },
   "source": [
    "A technique that can be used to solve certain ODE problems is to Laplace transform the ODE, which for many problems results in an algebraic equation that is easier to solve. The solution to the algebraic equation can then be transformed back to the original domain with an inverse Laplace transform, to obtain the solution to the original problem. For example, consider the following differential equation for a driven harmonic oscillator:\n",
    "\n",
    "$$ \\frac{d^2 y}{dt^2} +2\\frac{dy}{dt} +10y =2\\sin 3t$$"
   ]
  },
  {
   "cell_type": "code",
   "execution_count": null,
   "metadata": {
    "slideshow": {
     "slide_type": "fragment"
    }
   },
   "outputs": [],
   "source": [
    "t = sympy.symbols(\"t\", positive=True)\n",
    "y = sympy.Function(\"y\")\n",
    "\n",
    "ode = y(t).diff(t, 2) +2 *y(t).diff(t) +10 *y(t) -2 *sympy.sin(3*t); ode "
   ]
  },
  {
   "cell_type": "code",
   "execution_count": null,
   "metadata": {
    "slideshow": {
     "slide_type": "subslide"
    }
   },
   "outputs": [],
   "source": [
    "s, Y = sympy.symbols(\"s, Y\", real=True)\n",
    "L_y = sympy.laplace_transform(y(t), t, s); L_y "
   ]
  },
  {
   "cell_type": "code",
   "execution_count": null,
   "metadata": {
    "slideshow": {
     "slide_type": "fragment"
    }
   },
   "outputs": [],
   "source": [
    "L_ode = sympy.laplace_transform(ode, t, s, noconds=True); L_ode"
   ]
  },
  {
   "cell_type": "markdown",
   "metadata": {
    "slideshow": {
     "slide_type": "fragment"
    }
   },
   "source": [
    "Applying `sympy.laplace_transform` on a derivative of $y(t)$, such as $\\frac{d}{dt}y(t)$, results in the unevaluated expression, \n",
    "$\\mathcal{L}_t \\left[ \\frac{d}{dt} y(t) \\right] (s)$. This is not the desired result, and we need to work\n",
    "around this issue to obtain the sought-after algebraic equation. For the $n$-th derivative of a function $y(t)$, the formula is\n",
    "\n",
    "$$\\mathcal{L}_t \\left[ \\frac{d^n}{dt^n} y(t) \\right] (s) = s^n \\mathcal{L}_t \\left[ y(t) \\right](s) - \\sum_{m=0}^{n-1} s^{n-m-1} \\left. \\frac{d^m}{dt^m} y(t) \\right|_{t=0}$$\n"
   ]
  },
  {
   "cell_type": "code",
   "execution_count": null,
   "metadata": {
    "slideshow": {
     "slide_type": "subslide"
    }
   },
   "outputs": [],
   "source": [
    "def laplace_transform_derivatives(e):\n",
    "    \"\"\"\n",
    "    Evaluate the laplace transforms of derivatives of functions\n",
    "    \"\"\"\n",
    "    if isinstance(e, sympy.LaplaceTransform):\n",
    "        if isinstance(e.args[0], sympy.Derivative):\n",
    "            d, t, s = e.args\n",
    "            \n",
    "            if d.args[1] == t:\n",
    "                n = 1\n",
    "            else:\n",
    "                n = d.args[1].args[1]\n",
    "            \n",
    "            return ((s**n) *sympy.LaplaceTransform(d.args[0], t, s)\n",
    "                   -sum([s**(n -i) *sympy.diff(d.args[0], t, i -1).subs(t, 0) for i in range(1, n +1)]))        \n",
    "        \n",
    "        \n",
    "    if isinstance(e, (sympy.Add, sympy.Mul)):\n",
    "        t = type(e)\n",
    "        return t(*[laplace_transform_derivatives(arg) for arg in e.args])\n",
    "    \n",
    "    return e"
   ]
  },
  {
   "cell_type": "code",
   "execution_count": null,
   "metadata": {
    "slideshow": {
     "slide_type": "subslide"
    }
   },
   "outputs": [],
   "source": [
    "L_ode_2 = laplace_transform_derivatives(L_ode); L_ode_2"
   ]
  },
  {
   "cell_type": "code",
   "execution_count": null,
   "metadata": {
    "slideshow": {
     "slide_type": "fragment"
    }
   },
   "outputs": [],
   "source": [
    "L_ode_3 = L_ode_2.subs(L_y, Y); L_ode_3"
   ]
  },
  {
   "cell_type": "markdown",
   "metadata": {
    "slideshow": {
     "slide_type": "fragment"
    }
   },
   "source": [
    "At this point, we need to specify the boundary conditions for the ODE problem. Here we use $y(0) = 1$\n",
    "and $y'(t) = 0$, and after creating dictionary that contains these boundary conditions, we use it to substitute\n",
    "the values into the Laplace-transformed ODE equation:"
   ]
  },
  {
   "cell_type": "code",
   "execution_count": null,
   "metadata": {
    "slideshow": {
     "slide_type": "fragment"
    }
   },
   "outputs": [],
   "source": [
    "ics = {y(0): 1, y(t).diff(t).subs(t, 0): 0}\n",
    "\n",
    "L_ode_4 = L_ode_3.subs(ics); L_ode_4"
   ]
  },
  {
   "cell_type": "markdown",
   "metadata": {
    "slideshow": {
     "slide_type": "subslide"
    }
   },
   "source": [
    "This is an algebraic equation that can be solved for $Y$"
   ]
  },
  {
   "cell_type": "code",
   "execution_count": null,
   "metadata": {
    "slideshow": {
     "slide_type": "fragment"
    }
   },
   "outputs": [],
   "source": [
    "Y_sol = sympy.solve(L_ode_4, Y); Y_sol"
   ]
  },
  {
   "cell_type": "markdown",
   "metadata": {
    "slideshow": {
     "slide_type": "fragment"
    }
   },
   "source": [
    "The result is a list of solutions, which in this case contains only one element. Performing the inverse\n",
    "Laplace transformation on this expression gives the solution to the original problem in the time domain:"
   ]
  },
  {
   "cell_type": "code",
   "execution_count": null,
   "metadata": {
    "slideshow": {
     "slide_type": "fragment"
    }
   },
   "outputs": [],
   "source": [
    "Yp = sympy.apart(Y_sol[0]); Yp"
   ]
  },
  {
   "cell_type": "code",
   "execution_count": null,
   "metadata": {
    "slideshow": {
     "slide_type": "fragment"
    }
   },
   "outputs": [],
   "source": [
    "y_sol = sympy.inverse_laplace_transform(Yp.args[0], s, t) +sympy.inverse_laplace_transform(Yp.args[1], s, t); y_sol"
   ]
  },
  {
   "cell_type": "code",
   "execution_count": null,
   "metadata": {
    "slideshow": {
     "slide_type": "subslide"
    }
   },
   "outputs": [],
   "source": [
    "y_t = sympy.lambdify(t, y_sol, modules=['numpy'])"
   ]
  },
  {
   "cell_type": "code",
   "execution_count": null,
   "metadata": {
    "slideshow": {
     "slide_type": "fragment"
    }
   },
   "outputs": [],
   "source": [
    "fig, ax = plt.subplots(figsize=(8, 4))\n",
    "\n",
    "tt = np.linspace(0, 10, 500)\n",
    "ax.plot(tt, y_t(tt))\n",
    "ax.set_xlabel(r\"$t$\", fontsize=16)\n",
    "ax.set_ylabel(r\"$y(t)$\", fontsize=16)\n",
    "fig.tight_layout()"
   ]
  },
  {
   "cell_type": "markdown",
   "metadata": {
    "slideshow": {
     "slide_type": "subslide"
    }
   },
   "source": [
    "## Numerical methods for solving ODEs"
   ]
  },
  {
   "cell_type": "markdown",
   "metadata": {
    "slideshow": {
     "slide_type": "fragment"
    }
   },
   "source": [
    "In practice, ODE problems are therefore mainly solved with numerical methods. There are many approaches to\n",
    "solving ODEs numerically, and most of them are designed for problems that are formulated as a system of\n",
    "first-order ODEs on the standard form:\n",
    "\n",
    "$$ \\frac{d\\mathbf{y}}{dx} = \\mathbf{f}(x, \\mathbf{y}(x))$$"
   ]
  },
  {
   "cell_type": "markdown",
   "metadata": {
    "slideshow": {
     "slide_type": "fragment"
    }
   },
   "source": [
    "The basic idea of many numerical methods for ODEs is captured in Euler's method. This method can,\n",
    "for example, be derived from a Taylor-series expansion of $y(x)$ around the point $x$:\n",
    "\n",
    "$$ y(x+h) = y(x) +\\frac{dy(x)}{dx}h +\\frac{d^2 y(x)}{dx^2} h^2 + \\cdots, $$\n",
    "\n",
    "where for notational simplicity we consider the case when $y(x)$ is a scalar function"
   ]
  },
  {
   "cell_type": "markdown",
   "metadata": {
    "slideshow": {
     "slide_type": "subslide"
    }
   },
   "source": [
    "By dropping terms of second order or higher, $~$we get the approximate equation\n",
    "\n",
    "$$ y(x+h) \\approx y(x) +\\frac{dy(x)}{dx}h, $$\n",
    "\n",
    "which is accurate to first order in the step size $h$. This equation can be turned into an iteration formula by discretizing the $x$ variable, $x_0$, $x_1$, $\\cdots$, $x_k$, $~$choosing the step size $h_k =x_{k+1} -x_{k}$, $~$and denoting $y_k = y(x_k)$. $~$The resulting iteration formula: \n",
    "\n",
    "$$y_{k+1} \\approx y_{k} +f(x_k, y_k) h_k,$$ \n",
    "\n",
    "is known as the *forward Euler method*, \n",
    "and it is said to be an *explicit form* because given the value of the $y_k$ we can directly compute $y_{k+1}$ using the formula"
   ]
  },
  {
   "cell_type": "markdown",
   "metadata": {
    "slideshow": {
     "slide_type": "fragment"
    }
   },
   "source": [
    "There are two types of errors involved in this approach: First, the truncation of\n",
    "the Taylor series gives error that limits the accuracy of the method. Second, using the approximation of $y_k$\n",
    "given by the previous iteration when computing $y_{k+1}$ gives an additional error that may accumulate over\n",
    "successive iterations, and that can affect the *stability* of the method."
   ]
  },
  {
   "cell_type": "markdown",
   "metadata": {
    "slideshow": {
     "slide_type": "subslide"
    }
   },
   "source": [
    "An alternative form, which can be derived in a similar manner, is the *backward Euler method*, $~$given by\n",
    "the iteration formula\n",
    "\n",
    "$$y_{k+1} \\approx y_{k} +f(x_{k+1}, y_{k+1}) h_k$$\n",
    "\n",
    "This is an example of a backward differentiation formula(BDF), which is *implicit*, $~$because $y_{k+1}$ occurs on both sides of the equation. $~$To compute $y_{k+1}$, $\\text{ }$we therefore need to solve an algebraic equation (for example using Newton’s method)"
   ]
  },
  {
   "cell_type": "markdown",
   "metadata": {
    "slideshow": {
     "slide_type": "fragment"
    }
   },
   "source": [
    "Implicit methods are more complicated to implement than explicit methods, and each iteration requires more computational work. However, the advantage is that implicit methods generally have *larger stability region* and *better accuracy*, which means that larger step size $h_k$ can be used while still obtaining an accurate and stable solution \n",
    "\n",
    "Implicit methods are often particularly useful for stiff problems, which loosely speaking are\n",
    "ODE problems that describe dynamics with multiple disparate time scales"
   ]
  },
  {
   "cell_type": "markdown",
   "metadata": {
    "slideshow": {
     "slide_type": "subslide"
    }
   },
   "source": [
    "There are several methods to improve upon the first-order Euler forward and backward methods.\n",
    "One strategy is to keep higher-order terms in the Taylor-series expansion of $y(x + h)$. \n",
    "$~$However, such methods require evaluating higher-order derivatives of $y(x)$, which may be a problem \n",
    "\n",
    "Ways around this problem include to approximate the higher-order derivatives using finite-difference approximations of the derivatives, or by sampling the function $f(x, y(x))$ at intermediary points in the interval $[x_k, x_{k+1}]$ \n",
    "\n",
    "An example of this type of method is the well-known *Runge-Kutta method*, which is a single-step method that uses additional evaluations of $f(x, y(x))$. The most well-known Runge-Kutta method is the 4th-order scheme:\n",
    "\n",
    "$$ y_{k+1} = y_k +\\frac{h_k}{6} (k_1 +2k_2 +2k_3 +k_4)$$\n",
    "\n",
    "where\n",
    "\n",
    "$$ \\scriptsize\n",
    " k_1 = f(t_k, \\,y_k),\\;\n",
    " k_2 = f\\left(t_k + \\frac{h_k}{2},\\, y_k +h_k \\frac{k_1}{2} \\right),\\; \n",
    " k_3 = f\\left(t_k + \\frac{h_k}{2},\\, y_k +h_k \\frac{k_2}{2} \\right),\\; \n",
    " k_4 = f(t_k +h_k, \\,y_k +h_k k_3)\n",
    "$$"
   ]
  },
  {
   "cell_type": "markdown",
   "metadata": {
    "slideshow": {
     "slide_type": "subslide"
    }
   },
   "source": [
    "Here, $k_1$ to $k_4$ are four different evaluations of the ODE function $f(x, y(x))$ that are used in the explicit\n",
    "formula for $y_{k+1}$ given above. The resulting estimate of $y_{k+1}$ is accurate to 4-th order, with an error of 5-th order.\n",
    "\n",
    "Higher-order schemes that use more function evaluations can also be constructed. By combining two\n",
    "methods of different order, it can be possible to also estimate the error in the approximation. \n",
    "\n",
    "A popular combination is the Runge-Kutta 4-th and 5-th order schemes, which results in a 4-th order accurate method with error estimates. It is known as *RK45* or the *Runge-Kutta-Fehlberg method*. The *Dormand-Prince\n",
    "method* is another example of a higher-order method, which additionally uses adaptive step size control. For\n",
    "example, the 8-5-3 method combines 3rd and 5-th order schemes to produce an 8-th order method"
   ]
  },
  {
   "cell_type": "markdown",
   "metadata": {
    "slideshow": {
     "slide_type": "subslide"
    }
   },
   "source": [
    "An alternative method is to use more than one previous value of $y_k$ to compute $y_{k+1}$. Such methods are\n",
    "known as *multistep methods*, and can in general be written on the form\n",
    "\n",
    "$$ y_{k + s} = \\sum_{n=0}^{s-1} a_n y_{k + n} + h \\sum_{n=0}^{s} b_n f(x_{k + n}, y_{k + n}).$$\n",
    "\n",
    "This formula means that to compute $y_{k+s}$, the previous $s$ values of $y_k$ and $f(x_k, y_k)$ are used (known as an $s$-step method). The choices of the coefficients $a_n$ and $b_n$ give rise to different multistep methods. Note that if $b_s = 0$, then the method is *explicit*, and if $b_s \\neq 0$ it is *implicit*"
   ]
  },
  {
   "cell_type": "markdown",
   "metadata": {
    "slideshow": {
     "slide_type": "fragment"
    }
   },
   "source": [
    "For example, $b_0 = b_1 = \\cdots = b_{s-1} = 0$ gives the general formula for an $s$-step BDF formula, where $a_n$ and $b_n$ are chosen to maximize the order of the accuracy. For example, the one-step BDF method with $b_1 = a_0 = 1$ reduces to the backward Euler method, and the two-step BDF method, \n",
    "\n",
    "$$y_{k+2} = a_0 y_k +a_1 y_{k+1} +hb_2 f(x_{k+2}, y_{k+2})$$\n",
    "\n",
    "when solved for the coefficients $(a_0, a_1, b_2)$ becomes $(-\\frac{1}{3},\\,\\frac{4}{3},\\,\\frac{2}{3})$"
   ]
  },
  {
   "cell_type": "markdown",
   "metadata": {
    "slideshow": {
     "slide_type": "subslide"
    }
   },
   "source": [
    "Another family of multistep methods are the Adams methods, which result from the choice \n",
    "\n",
    "$$a_0 = a_1 = \\cdots = a_{s-2} = 0, \\text{ and } a_{s-1}=1$$ \n",
    "\n",
    "where again the remaining unknown coefficients are chosen to maximize\n",
    "the order of the method\n",
    "\n",
    "Specifically, the explicit method with $b_s = 0$ are known as Adams-Bashforth\n",
    "methods, and the implicit methods with $b_s \\neq 0$ are known as Adams-Moulton methods. For example, the\n",
    "one-step Adams-Bashforth and Adams-Moulton methods reduce to the forward and backward Euler\n",
    "methods, respectively \n",
    "\n",
    "And the two-step methods are\n",
    "\n",
    "$$y_{k+2} = y_{k+1} + h \\left[ -\\frac{1}{2} f(x_{k}, y_{k}) + \\frac{3}{2} f(x_{k+1}, y_{k+1}) \\right]$$\n",
    "\n",
    "and\n",
    "\n",
    "$$y_{k+1} = y_{k} + \\frac{h}{2} \\left[ f(x_{k}, y_{k}) + f(x_{k+1}, y_{k+1}) \\right]$$"
   ]
  },
  {
   "cell_type": "markdown",
   "metadata": {
    "slideshow": {
     "slide_type": "subslide"
    }
   },
   "source": [
    "In general explicit methods are more convenient to implement and less computationally demanding to\n",
    "iterate than implicit methods, which in principle requires solving (a potentially nonlinear) equation in each\n",
    "iteration with an initial guess for the unknown $y_{k+1}$\n",
    "\n",
    "However, as mentioned earlier, implicit methods often are more accurate and have superior stability properties. A compromise that retain some of the advantages of both methods is to combine explicit and implicit methods in the following way:\n",
    "\n",
    "* First compute $y_{k+1}$ using an explicit method, \n",
    "\n",
    "* then use this $y_{k+1}$ as an initial guess for solving the equation for $y_{k+1}$ given by an implicit method.\n",
    "\n",
    "This equation does not need to be solved exactly, and since the initial guess from the explicit method should be quite good, a fixed number of iterations, using for example Newton's method, could be sufficient. Methods like these, where an explicit method is used to predict $y_{k+1}$ and an implicit method is used to correct the prediction, are called *predictor-corrector methods*"
   ]
  },
  {
   "cell_type": "markdown",
   "metadata": {
    "slideshow": {
     "slide_type": "subslide"
    }
   },
   "source": [
    "## Numerical integration of ODEs using scipy"
   ]
  },
  {
   "cell_type": "markdown",
   "metadata": {
    "slideshow": {
     "slide_type": "fragment"
    }
   },
   "source": [
    "The `integrate` module of Scipy provides the ODE solver interface: `integrate.solve_ivp`. This function numerically integrates a system of ordinary differential equations given an initial value:\n",
    "\n",
    "$$\\begin{align*}\n",
    " \\frac{d\\mathbf{y}}{dt}&= \\mathbf{f}(t, \\mathbf{y})\\\\ \n",
    " \\mathbf{y}(t_0)&= \\mathbf{y}_0 \n",
    "\\end{align*}$$"
   ]
  },
  {
   "cell_type": "markdown",
   "metadata": {
    "slideshow": {
     "slide_type": "fragment"
    }
   },
   "source": [
    "Explicit Runge-Kutta methods `('RK23','RK45','DOP853')` should be used for non-stiff problems and implicit methods `('Radau','BDF')` for stiff problems. Among Runge-Kutta methods, `'DOP853'` is recommended for solving with high precision (low values of `rtol` and `atol`)\n",
    "\n",
    "If not sure, first try to run `'RK45'`. If it makes unusually many iterations, diverges, or fails, your problem is likely to be stiff and you should use `'Radau'` or `'BDF'`. `'LSODA'` can also be a good universal choice, but it might be somewhat less convenient to work with as it wraps old Fortran code"
   ]
  },
  {
   "cell_type": "markdown",
   "metadata": {
    "slideshow": {
     "slide_type": "subslide"
    }
   },
   "source": [
    "For example, consider again the scalar ODE $\\text{ }y'(x) = f(x, y(x)) = x + y^2(x)$"
   ]
  },
  {
   "cell_type": "code",
   "execution_count": null,
   "metadata": {
    "slideshow": {
     "slide_type": "fragment"
    }
   },
   "outputs": [],
   "source": [
    "def dydx(x, y):   \n",
    "    return x +y*y\n",
    "\n",
    "y0 = [0]\n",
    "\n",
    "sol_p = integrate.solve_ivp(dydx, [0, 1.9], y0)\n",
    "sol_m = integrate.solve_ivp(dydx, [0, -5], y0)"
   ]
  },
  {
   "cell_type": "code",
   "execution_count": null,
   "metadata": {
    "slideshow": {
     "slide_type": "fragment"
    }
   },
   "outputs": [],
   "source": [
    "fig, ax = plt.subplots(1, 1, figsize=(6, 6))\n",
    "plot_direction_field(x, y(x), f, ax=ax)\n",
    "ax.plot(sol_p.t, sol_p.y.T, 'b', lw=2)\n",
    "ax.plot(sol_m.t, sol_m.y.T, 'r', lw=2);"
   ]
  },
  {
   "cell_type": "markdown",
   "metadata": {
    "slideshow": {
     "slide_type": "subslide"
    }
   },
   "source": [
    "In the previous example, we solved a scalar ODE problem. More often we are interested in vector-valued\n",
    "ODE problems (systems of ODEs). To see how we can solve that kind of problems using `solve_ivp`, consider the\n",
    "Lokta-Volterra equations for the dynamics of a population of predator and prey animals (a classic example of\n",
    "coupled ODEs). The equations are\n",
    "\n",
    "$$\n",
    "x'(t) = a x - b x y\n",
    "$$\n",
    "\n",
    "$$\n",
    "y'(t) = c x y - d y\n",
    "$$\n",
    "\n",
    "where $x(t)$ is the number of prey animals and $y(t)$ is the number of predator animals, and the coefficients $a$, $b$, $c$, and $d$ describe the rates of the processes in the model"
   ]
  },
  {
   "cell_type": "code",
   "execution_count": null,
   "metadata": {
    "slideshow": {
     "slide_type": "fragment"
    }
   },
   "outputs": [],
   "source": [
    "a, b, c, d = 0.4, 0.002, 0.001, 0.7\n",
    "def f(t, xy):\n",
    "    x, y = xy\n",
    "    return [a *x -b *x *y, c *x *y -d *y]"
   ]
  },
  {
   "cell_type": "code",
   "execution_count": null,
   "metadata": {
    "slideshow": {
     "slide_type": "fragment"
    }
   },
   "outputs": [],
   "source": [
    "xy0 = [600, 400]\n",
    "sol = integrate.solve_ivp(f, [0, 50], xy0, t_eval=np.linspace(0, 50, 400))\n",
    "\n",
    "t = sol.t\n",
    "xy_t = sol.y.T"
   ]
  },
  {
   "cell_type": "code",
   "execution_count": null,
   "metadata": {
    "slideshow": {
     "slide_type": "subslide"
    }
   },
   "outputs": [],
   "source": [
    "fig, axes = plt.subplots(1, 2, figsize=(12, 6))\n",
    "\n",
    "axes[0].plot(t, xy_t[:,0], 'r', label=\"Prey\")\n",
    "axes[0].plot(t, xy_t[:,1], 'b', label=\"Predator\")\n",
    "axes[0].set_xlabel(\"Time\")\n",
    "axes[0].set_ylabel(\"Number of animals\")\n",
    "axes[0].legend()\n",
    "axes[0].set_xlim(0, 50)\n",
    "axes[0].set_ylim(0, 1400)\n",
    "axes[0].tick_params(which='both', direction='in')\n",
    "\n",
    "axes[1].plot(xy_t[:,0], xy_t[:,1], 'k')\n",
    "axes[1].set_xlabel(\"Number of prey\")\n",
    "axes[1].set_ylabel(\"Number of predators\")\n",
    "axes[1].set_xlim(300, 1300)\n",
    "axes[1].set_ylim(50, 450)\n",
    "axes[1].tick_params(which='both', direction='in')"
   ]
  },
  {
   "cell_type": "markdown",
   "metadata": {
    "slideshow": {
     "slide_type": "subslide"
    }
   },
   "source": [
    "In the previous two examples, the function for the right-hand side of the ODE was implemented without\n",
    "additional arguments. Rather than using global variables, it is often convenient and elegant to implement the\n",
    "`f` function in such a way that it takes arguments for all its coefficient or parameters. To illustrate this point,\n",
    "let’s consider another famous ODE problem: the Lorenz equations, which is the following system of three\n",
    "coupled nonlinear ODEs,\n",
    "\n",
    "$$\n",
    "\\begin{align*}\n",
    "x'(t) &= \\sigma(y - x)\\\\ \n",
    "y'(t) &= x(\\rho - z) - y \\\\ \n",
    "z'(t) &= x y - \\beta z\n",
    "\\end{align*}\n",
    "$$\n"
   ]
  },
  {
   "cell_type": "code",
   "execution_count": null,
   "metadata": {
    "slideshow": {
     "slide_type": "fragment"
    }
   },
   "outputs": [],
   "source": [
    "rho, sigma, beta = 28, 8, 8/3.0\n",
    "def f(t, xyz, rho, sigma, beta):\n",
    "    x, y, z = xyz\n",
    "    return [sigma *(y -x), x *(rho -z) -y, x *y -beta *z]"
   ]
  },
  {
   "cell_type": "code",
   "execution_count": null,
   "metadata": {
    "slideshow": {
     "slide_type": "fragment"
    }
   },
   "outputs": [],
   "source": [
    "xyz0 = [1.0, 1.0, 1.0]\n",
    "\n",
    "t_span = [0, 25]\n",
    "t_eval = np.linspace(0, 25, 10000)\n",
    "\n",
    "sol1 = integrate.solve_ivp(f, t_span, xyz0, t_eval=t_eval, args=(rho, sigma, beta))\n",
    "sol2 = integrate.solve_ivp(f, t_span, xyz0, t_eval=t_eval, args=(rho, sigma, 0.6*beta))\n",
    "sol3 = integrate.solve_ivp(f, t_span, xyz0, t_eval=t_eval, args=(rho, 2*sigma, 0.6*beta))"
   ]
  },
  {
   "cell_type": "code",
   "execution_count": null,
   "metadata": {
    "slideshow": {
     "slide_type": "subslide"
    }
   },
   "outputs": [],
   "source": [
    "from mpl_toolkits.mplot3d.axes3d import Axes3D"
   ]
  },
  {
   "cell_type": "code",
   "execution_count": null,
   "metadata": {
    "slideshow": {
     "slide_type": "fragment"
    }
   },
   "outputs": [],
   "source": [
    "fig, (ax1, ax2, ax3) = plt.subplots(1, 3, figsize=(15, 5), subplot_kw={'projection': '3d'})\n",
    "\n",
    "xyz1 = sol1.y\n",
    "xyz2 = sol2.y\n",
    "xyz3 = sol3.y\n",
    "\n",
    "for ax, xyz, c in [(ax1, xyz1, 'r'), (ax2, xyz2, 'b'), (ax3, xyz3, 'g')]:\n",
    "    ax.plot(xyz[0,:], xyz[1,:], xyz[2,:], c, alpha=0.5)\n",
    "    ax.set_xlabel('$x$', fontsize=12)\n",
    "    ax.set_ylabel('$y$', fontsize=12)\n",
    "    ax.set_zlabel('$z$', fontsize=12)\n",
    "    ax.set_xticks([-15, 0, 15])\n",
    "    ax.set_yticks([-20, 0, 20])\n",
    "    ax.set_zticks([0, 20, 40])"
   ]
  },
  {
   "cell_type": "markdown",
   "metadata": {
    "slideshow": {
     "slide_type": "subslide"
    }
   },
   "source": [
    "To illustrate how to use the `integrate.ode` interface, we first look at the following sets of coupled second-order ODEs:\n",
    "\n",
    "\\begin{eqnarray}\n",
    "m_1 x_1''(t) + \\gamma_1 x_1'(t) + k_1 x_1(t) - k_2 (x_2(t) - x_1(t)) &=& 0\\\\\n",
    "m_2 x_2''(t) + \\gamma_2 x_2'(t) + k_2 (x_2(t) - x_1(t)) &=& 0\n",
    "\\end{eqnarray}\n",
    "\n",
    "These equations describe the dynamics of two coupled springs, where $x_1(t)$ and $x_2(t)$ are the\n",
    "displacement of two objects, with masses $m_1$ and $m_2$, from their equilibrium positions. The object at $x_1$ is connected to a fixed wall via a spring with spring constant $k_1$, and connected to the object at $x_2$ via a spring with spring constant $k_2$. Both objects are subject to damping forces characterized by $\\gamma_1$ and $\\gamma_2$, respectively"
   ]
  },
  {
   "cell_type": "markdown",
   "metadata": {
    "slideshow": {
     "slide_type": "subslide"
    }
   },
   "source": [
    "To solve this kind of problem with Scipy, we first have to write it in standard form, which we can do by\n",
    "introducing $y_0(t) =x_1(t)$, $\\text{ }y_1(t) =x_1'(t)$, $\\text{ }y_2(t) =x_2(t)$, $\\text{ }$and $\\text{ }y_3(t) =x_2'(t)$, which results in four coupled first-order equations:\n",
    "\n",
    "$$\n",
    "\\frac{d}{dt} \n",
    "\\begin{bmatrix}\n",
    "y_0(t)\\\\ \n",
    "y_1(t)\\\\ \n",
    "y_2(t)\\\\ \n",
    "y_3(t)\n",
    "\\end{bmatrix} =\n",
    "\\begin{bmatrix}\n",
    "y_1(t) \\\\\n",
    "\\left[-\\gamma_1 y_1(t) -k_1 y_0(t) -k_2 y_0(t) +k_2 y_2(t)\\right]/m_1 \\\\\n",
    "y_3(t) \\\\\n",
    "\\left[-\\gamma_2 y_3(t) -k_2 y_2(t) +k_2 y_0(t)\\right]/m_2 \n",
    "\\end{bmatrix} \n",
    "$$"
   ]
  },
  {
   "cell_type": "code",
   "execution_count": null,
   "metadata": {
    "slideshow": {
     "slide_type": "subslide"
    }
   },
   "outputs": [],
   "source": [
    "def f(t, y, args):\n",
    "    m1, k1, g1, m2, k2, g2 = args\n",
    "    \n",
    "    return [y[1], \n",
    "            - k1/m1 *y[0] +k2/m1 *(y[2] -y[0]) -g1/m1 *y[1], \n",
    "            y[3], \n",
    "            - k2/m2 *(y[2] -y[0]) -g2/m2 *y[3]]"
   ]
  },
  {
   "cell_type": "code",
   "execution_count": null,
   "metadata": {
    "slideshow": {
     "slide_type": "fragment"
    }
   },
   "outputs": [],
   "source": [
    "m1, k1, g1, m2, k2, g2 = 1.0, 10.0, 0.5, 2.0, 40.0, 0.25\n",
    "args = (m1, k1, g1, m2, k2, g2)\n",
    "\n",
    "y0 = [1.0, 0, 0.5, 0]\n",
    "t = np.linspace(0, 20, 1000)"
   ]
  },
  {
   "cell_type": "markdown",
   "metadata": {
    "slideshow": {
     "slide_type": "fragment"
    }
   },
   "source": [
    "Instead of calling the `solve_ivp` function, we now need to create an instance of the class `integrate.ode`,\n",
    "passing the ODE function $f$ as an argument:"
   ]
  },
  {
   "cell_type": "code",
   "execution_count": null,
   "metadata": {
    "slideshow": {
     "slide_type": "fragment"
    }
   },
   "outputs": [],
   "source": [
    "r = integrate.ode(f)"
   ]
  },
  {
   "cell_type": "code",
   "execution_count": null,
   "metadata": {
    "slideshow": {
     "slide_type": "subslide"
    }
   },
   "outputs": [],
   "source": [
    "r.set_integrator('lsoda') # the possible first argument: vode, zvode, lsoda, dopri5 and dop853\n",
    "r.set_initial_value(y0, t[0])\n",
    "r.set_f_params(args);"
   ]
  },
  {
   "cell_type": "code",
   "execution_count": null,
   "metadata": {
    "slideshow": {
     "slide_type": "fragment"
    }
   },
   "outputs": [],
   "source": [
    "dt = t[1] -t[0]\n",
    "y = np.zeros((len(t), len(y0)))\n",
    "idx = 0\n",
    "while r.successful() and r.t < t[-1]:\n",
    "    y[idx, :] = r.y\n",
    "    r.integrate(r.t +dt)\n",
    "    idx += 1"
   ]
  },
  {
   "cell_type": "markdown",
   "metadata": {
    "slideshow": {
     "slide_type": "fragment"
    }
   },
   "source": [
    "This is arguably not as convenient as simply calling the `solive_ivp`, but it offers extra flexibility that\n",
    "sometimes is exactly what is needed"
   ]
  },
  {
   "cell_type": "code",
   "execution_count": null,
   "metadata": {
    "slideshow": {
     "slide_type": "subslide"
    }
   },
   "outputs": [],
   "source": [
    "fig = plt.figure(figsize=(12, 5))\n",
    "\n",
    "ax1 = plt.subplot2grid((2, 5), (0, 0), colspan=3)\n",
    "ax2 = plt.subplot2grid((2, 5), (1, 0), colspan=3)\n",
    "ax3 = plt.subplot2grid((2, 5), (0, 3), colspan=2, rowspan=2)\n",
    "\n",
    "# x_1 vs time plot\n",
    "ax1.plot(t, y[:, 0], 'r')\n",
    "ax1.set_ylabel('$x_1$', fontsize=16)\n",
    "ax1.set_yticks([-1, -.5, 0, .5, 1])\n",
    "ax1.set_xlim(0, 20), ax1.set_ylim(-1.0, 1.0)\n",
    "ax1.tick_params(which='both', direction='in')\n",
    "\n",
    "# x2 vs time plot\n",
    "ax2.plot(t, y[:, 2], 'b')\n",
    "ax2.set_xlabel('$t$', fontsize=16)\n",
    "ax2.set_ylabel('$x_2$', fontsize=16)\n",
    "ax2.set_yticks([-1, -.5, 0, .5, 1])\n",
    "ax2.set_xlim(0, 20), ax2.set_ylim(-1.0, 1.0)\n",
    "ax2.tick_params(which='both', direction='in')\n",
    "\n",
    "# x1 and x2 phase space plot\n",
    "ax3.plot(y[:, 0], y[:, 2], 'k')\n",
    "ax3.set_xlabel('$x_1$', fontsize=16)\n",
    "ax3.set_ylabel('$x_2$', fontsize=16)\n",
    "ax3.set_xticks([-1, -.5, 0, .5, 1])\n",
    "ax3.set_yticks([-1, -.5, 0, .5, 1])\n",
    "ax3.set_xlim(-1.0, 1.00), ax3.set_ylim(-1.0, 1.0)\n",
    "ax3.tick_params(which='both', direction='in')\n",
    "\n",
    "fig.tight_layout()"
   ]
  },
  {
   "cell_type": "markdown",
   "metadata": {
    "slideshow": {
     "slide_type": "subslide"
    }
   },
   "source": [
    "Python functions for both $f(t, y(t))$ and its Jacobian can conveniently be generated using Sympy's\n",
    "`lambdify`, provided that the ODE problem first can be defined as a Sympy expression. This symbolic-numeric\n",
    "hybrid approach is a powerful method to solving ODE problems. To illustrate this approach,\n",
    "consider the rather complicated system of two coupled second-order and nonlinear ODEs for a double\n",
    "pendulum.\n",
    "\n",
    "$~$\n",
    "\n",
    "<center><img src=\"./figs/dimg270.gif\" width=\"300\"></center> \n",
    "\n",
    "$$\n",
    "(m_1+m_2) l_1\\theta_1'' + m_2l_2\\theta_2''\\cos(\\theta_1-\\theta_2)\n",
    "+ m_2l_2\\left(\\theta_2'\\right)^2\\sin(\\theta_1-\\theta_2)+g(m_1+m_2)\\sin(\\theta_1) = 0\n",
    "$$\n",
    "\n",
    "$$\n",
    "m_2l_2\\theta_2'' + m_2l_1\\theta_1''\\cos(\\theta_1-\\theta_2) - m_2l_1 \\left(\\theta_1'\\right)^2 \\sin(\\theta_1-\\theta_2)\n",
    "+m_2g\\sin(\\theta_2) = 0\n",
    "$$"
   ]
  },
  {
   "cell_type": "markdown",
   "metadata": {
    "slideshow": {
     "slide_type": "subslide"
    }
   },
   "source": [
    "We begin by defining Sympy symbols for the variables and the functions in the problem, and\n",
    "then construct the ode expressions:"
   ]
  },
  {
   "cell_type": "code",
   "execution_count": null,
   "metadata": {
    "slideshow": {
     "slide_type": "fragment"
    }
   },
   "outputs": [],
   "source": [
    "t, g, m1, l1, m2, l2 = sympy.symbols(\"t, g, m_1, l_1, m_2, l_2\")\n",
    "theta1, theta2 = sympy.symbols(\"theta_1, theta_2\", cls=sympy.Function)\n",
    "\n",
    "ode1 = sympy.Eq((m1 +m2) *l1 *theta1(t).diff(t,t) +\n",
    "                m2 *l2 *theta2(t).diff(t,t) *sympy.cos(theta1(t) -theta2(t)) +\n",
    "                m2 *l2 *theta2(t).diff(t)**2 *sympy.sin(theta1(t) -theta2(t)) + \n",
    "                g *(m1 +m2) *sympy.sin(theta1(t)), 0)\n",
    "ode1"
   ]
  },
  {
   "cell_type": "code",
   "execution_count": null,
   "metadata": {
    "slideshow": {
     "slide_type": "fragment"
    }
   },
   "outputs": [],
   "source": [
    "ode2 = sympy.Eq(m2 *l2 *theta2(t).diff(t,t) +\n",
    "                m2 *l1 *theta1(t).diff(t,t) *sympy.cos(theta1(t) -theta2(t)) -\n",
    "                m2 *l1 *theta1(t).diff(t)**2 *sympy.sin(theta1(t) -theta2(t)) +\n",
    "                m2 *g *sympy.sin(theta2(t)), 0)\n",
    "ode2"
   ]
  },
  {
   "cell_type": "markdown",
   "metadata": {
    "slideshow": {
     "slide_type": "subslide"
    }
   },
   "source": [
    "Now `ode1` and `ode2` are Sympy expressions for the two second-order ODE equations. We first have to write the system of two second-order ODEs as a system of four first-order ODEs on standard form. To this end we need to introduce new functions $\\text{ }y_1(t) = \\theta_1(t)$, $\\text{ }y_2(t) = \\theta_1'(t)$, $\\text{ }y_3(t) = \\theta_2(t)$, $\\text{ }y_4(t) = \\theta_2'(t)$, $\\text{ }$and rewrite the ODEs in terms of these functions"
   ]
  },
  {
   "cell_type": "code",
   "execution_count": null,
   "metadata": {
    "slideshow": {
     "slide_type": "fragment"
    }
   },
   "outputs": [],
   "source": [
    "y1, y2, y3, y4 = sympy.symbols(\"y_1, y_2, y_3, y_4\", cls=sympy.Function)\n",
    "\n",
    "varchange = {theta1(t).diff(t, t): y2(t).diff(t), \n",
    "             theta1(t): y1(t),\n",
    "             theta2(t).diff(t, t): y4(t).diff(t), \n",
    "             theta2(t): y3(t)}\n",
    "\n",
    "ode1_vc = ode1.subs(varchange)\n",
    "ode2_vc = ode2.subs(varchange)\n",
    "ode3 = y1(t).diff(t) - y2(t)\n",
    "ode4 = y3(t).diff(t) - y4(t)"
   ]
  },
  {
   "cell_type": "markdown",
   "metadata": {
    "slideshow": {
     "slide_type": "subslide"
    }
   },
   "source": [
    "At this point, we have four coupled first-order ODEs for the functions $y_1$ to $y_4$. It only remains to solve for the derivatives of these functions to obtain the ODEs in standard form"
   ]
  },
  {
   "cell_type": "code",
   "execution_count": null,
   "metadata": {
    "slideshow": {
     "slide_type": "fragment"
    }
   },
   "outputs": [],
   "source": [
    "y = sympy.Matrix([y1(t), y2(t), y3(t), y4(t)])\n",
    "vcsol = sympy.solve((ode1_vc, ode2_vc, ode3, ode4), y.diff(t), dict=True)\n",
    "f = y.diff(t).subs(vcsol[0])"
   ]
  },
  {
   "cell_type": "code",
   "execution_count": null,
   "metadata": {
    "slideshow": {
     "slide_type": "fragment"
    }
   },
   "outputs": [],
   "source": [
    "f"
   ]
  },
  {
   "cell_type": "markdown",
   "metadata": {
    "slideshow": {
     "slide_type": "subslide"
    }
   },
   "source": [
    "Now $f$ is Sympy expression for the ODE function $f(t, y(t))$. Also, since we have an symbolic representation of the problem so far, it is easy to also compute the Jacobian"
   ]
  },
  {
   "cell_type": "code",
   "execution_count": null,
   "metadata": {
    "slideshow": {
     "slide_type": "fragment"
    }
   },
   "outputs": [],
   "source": [
    "jac = sympy.Matrix([[fj.diff(yi) for yi in y] for fj in f])"
   ]
  },
  {
   "cell_type": "code",
   "execution_count": null,
   "metadata": {
    "slideshow": {
     "slide_type": "fragment"
    }
   },
   "outputs": [],
   "source": [
    "jac"
   ]
  },
  {
   "cell_type": "markdown",
   "metadata": {
    "slideshow": {
     "slide_type": "subslide"
    }
   },
   "source": [
    "The main purpose of constructing $f$ and it's Jacobian is to convert them to Numpy-aware functions that can be used with `integrate.solve_ivp` or `integrate.ode`."
   ]
  },
  {
   "cell_type": "code",
   "execution_count": null,
   "metadata": {
    "slideshow": {
     "slide_type": "fragment"
    }
   },
   "outputs": [],
   "source": [
    "params = {m1: 5.0, l1: 2.0, m2: 1.0, l2: 1.0, g: 9.8}\n",
    "\n",
    "f_np = sympy.lambdify((t, y), f.subs(params), 'numpy')\n",
    "jac_np = sympy.lambdify((t, y), jac.subs(params), 'numpy')"
   ]
  },
  {
   "cell_type": "markdown",
   "metadata": {
    "slideshow": {
     "slide_type": "fragment"
    }
   },
   "source": [
    "With the functions `f_np `and `jac_np`, we are now ready to solve the ODE using `integrate.ode` in the same manner as in the\n",
    "previous examples"
   ]
  },
  {
   "cell_type": "code",
   "execution_count": null,
   "metadata": {
    "slideshow": {
     "slide_type": "fragment"
    }
   },
   "outputs": [],
   "source": [
    "y0 = [2.0, 0, 0.0, 0]\n",
    "t = np.linspace(0, 20, 1000)\n",
    "r = integrate.ode(f_np, jac_np).set_initial_value(y0, t[0])"
   ]
  },
  {
   "cell_type": "code",
   "execution_count": null,
   "metadata": {
    "slideshow": {
     "slide_type": "fragment"
    }
   },
   "outputs": [],
   "source": [
    "dt = t[1] -t[0]\n",
    "y = np.zeros((len(t), len(y0)))\n",
    "idx = 0\n",
    "while r.successful() and r.t < t[-1]:\n",
    "    y[idx, :] = r.y\n",
    "    r.integrate(r.t +dt)\n",
    "    idx += 1"
   ]
  },
  {
   "cell_type": "markdown",
   "metadata": {
    "slideshow": {
     "slide_type": "subslide"
    }
   },
   "source": [
    "When visualizing this solution, it is more intuitive to plot the positions of the pendulums in the $x–y$ plane rather than their angular deflections"
   ]
  },
  {
   "cell_type": "code",
   "execution_count": null,
   "metadata": {
    "slideshow": {
     "slide_type": "fragment"
    }
   },
   "outputs": [],
   "source": [
    "theta1_np, theta2_np = y[:, 0], y[:, 2]\n",
    "\n",
    "x1 =  params[l1] *np.sin(theta1_np)\n",
    "y1 = -params[l1] *np.cos(theta1_np)\n",
    "x2 = x1 +params[l2] *np.sin(theta2_np)\n",
    "y2 = y1 -params[l2] *np.cos(theta2_np)"
   ]
  },
  {
   "cell_type": "code",
   "execution_count": null,
   "metadata": {
    "slideshow": {
     "slide_type": "subslide"
    }
   },
   "outputs": [],
   "source": [
    "fig = plt.figure(figsize=(12, 5))\n",
    "\n",
    "ax1 = plt.subplot2grid((2, 5), (0, 0), colspan=3)\n",
    "ax2 = plt.subplot2grid((2, 5), (1, 0), colspan=3)\n",
    "ax3 = plt.subplot2grid((2, 5), (0, 3), colspan=2, rowspan=2)\n",
    "\n",
    "ax1.plot(t, x1, 'r')\n",
    "ax1.plot(t, y1, 'b')\n",
    "ax1.set_ylabel('$x_1, y_1$', fontsize=16)\n",
    "ax1.set_yticks([-3, 0, 3])\n",
    "ax1.set_xlim(0, 20), ax1.set_ylim(-3, 3)\n",
    "ax1.tick_params(which='both', direction='in')\n",
    "\n",
    "ax2.plot(t, x2, 'r')\n",
    "ax2.plot(t, y2, 'b')\n",
    "ax2.set_xlabel('$t$', fontsize=16)\n",
    "ax2.set_ylabel('$x_2, y_2$', fontsize=16)\n",
    "ax2.set_yticks([-3, 0, 3])\n",
    "ax2.set_xlim(0, 20), ax2.set_ylim(-3, 3)\n",
    "ax2.tick_params(which='both', direction='in')\n",
    "\n",
    "ax3.plot(x1, y1, 'r')\n",
    "ax3.plot(x2, y2, 'b', lw=0.5)\n",
    "ax3.set_xlabel('$x$', fontsize=18)\n",
    "ax3.set_ylabel('$y$', fontsize=18)\n",
    "ax3.set_xticks([-3, 0, 3])\n",
    "ax3.set_yticks([-3, 0, 3])\n",
    "ax3.set_xlim(-3, 3)\n",
    "ax3.set_ylim(-3, 3)\n",
    "ax3.tick_params(which='both', direction='in')\n",
    "\n",
    "fig.tight_layout()"
   ]
  },
  {
   "cell_type": "markdown",
   "metadata": {
    "slideshow": {
     "slide_type": "slide"
    }
   },
   "source": [
    "## Versions"
   ]
  },
  {
   "cell_type": "code",
   "execution_count": null,
   "metadata": {
    "slideshow": {
     "slide_type": "fragment"
    }
   },
   "outputs": [],
   "source": [
    "from scipy import __version__\n",
    " \n",
    "print(\"numpy: \", np.__version__)\n",
    "print(\"sympy: \", sympy.__version__)\n",
    "print(\"scipy: \", __version__)\n",
    "print(\"matplotlib: \", mpl.__version__)"
   ]
  }
 ],
 "metadata": {
  "celltoolbar": "Slideshow",
  "kernelspec": {
   "display_name": "Python 3",
   "language": "python",
   "name": "python3"
  },
  "language_info": {
   "codemirror_mode": {
    "name": "ipython",
    "version": 3
   },
   "file_extension": ".py",
   "mimetype": "text/x-python",
   "name": "python",
   "nbconvert_exporter": "python",
   "pygments_lexer": "ipython3",
   "version": "3.8.5"
  }
 },
 "nbformat": 4,
 "nbformat_minor": 4
}
