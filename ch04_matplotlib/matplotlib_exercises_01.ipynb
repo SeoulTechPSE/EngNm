{
 "cells": [
  {
   "cell_type": "markdown",
   "metadata": {},
   "source": [
    "[![Open In Colab](https://colab.research.google.com/assets/colab-badge.svg)](https://colab.research.google.com/github/SeoulTechPSE/EngNm/blob/master/ch04_matplotlib/matplotlib_exercises_01.ipynb)"
   ]
  },
  {
   "cell_type": "markdown",
   "metadata": {},
   "source": [
    "# Matplotlib Exercises"
   ]
  },
  {
   "cell_type": "markdown",
   "metadata": {},
   "source": [
    "### 1. Write a Python program to create stack bar plot and add label to each section.\n",
    "\n",
    "> Sample data:\n",
    "\n",
    "```python\n",
    "people = ('G1', 'G2', 'G3', 'G4', 'G5', 'G6', 'G7', 'G8')\n",
    "\n",
    "# multi-dimensional data \n",
    "data = [[  3.40022085, 7.70632498,  6.4097905,  10.51648577,  7.5330039,   7.1123587,  12.77792868, 3.44773477],\n",
    "        [ 11.24811149, 5.03778215,  6.65808464, 12.32220677,  7.45964195,  6.79685302,  7.24578743, 3.69371847],\n",
    "        [ 3.94253354,  4.74763549, 11.73529246,  4.6465543,  12.9952182,   4.63832778, 11.16849999, 8.56883433],\n",
    "        [ 4.24409799, 12.71746612, 11.3772169,   9.00514257, 10.47084185, 10.97567589,  3.98287652, 8.80552122]]\n",
    "```\n",
    "\n",
    "> The code snippet gives the output shown in the following screenshot:\n",
    "\n",
    "![no_1_figure](ex01_matplotlib.png)"
   ]
  },
  {
   "cell_type": "markdown",
   "metadata": {},
   "source": [
    "### 2. Write a Python programming to create a pie chart with a title of the popularity of programming languages. \n",
    "\n",
    "```\n",
    "Sample data:\n",
    "    Programming languages: Java, Python, PHP, JavaScript, C#, C++\n",
    "Popularity: 22.2, 17.6, 8.8, 8, 7.7, 6.7\n",
    "```\n",
    "\n",
    "> The code snippet gives the output shown in the following screenshot:\n",
    "\n",
    "![no_2_figure](ex02_matplotlib.png)"
   ]
  }
 ],
 "metadata": {
  "kernelspec": {
   "display_name": "Python 3",
   "language": "python",
   "name": "python3"
  },
  "language_info": {
   "codemirror_mode": {
    "name": "ipython",
    "version": 3
   },
   "file_extension": ".py",
   "mimetype": "text/x-python",
   "name": "python",
   "nbconvert_exporter": "python",
   "pygments_lexer": "ipython3",
   "version": "3.8.8"
  }
 },
 "nbformat": 4,
 "nbformat_minor": 4
}
