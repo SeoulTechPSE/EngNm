{
 "cells": [
  {
   "cell_type": "markdown",
   "metadata": {},
   "source": [
    "## Story 18. 자료형 분류와 `set` & `frozenset`"
   ]
  },
  {
   "cell_type": "markdown",
   "metadata": {},
   "source": [
    "### 자료형 분류"
   ]
  },
  {
   "cell_type": "markdown",
   "metadata": {},
   "source": [
    "* 시퀀스 타입(Sequence Type) - 저장된 값의 순서 정보가 존재\n",
    "  \n",
    "> 리스트 - list 클래스 객체\n",
    "\n",
    "> 튜플 - tuple 클래스 객체\n",
    "\n",
    "> 레인지 - range 클래스 객체\n",
    "\n",
    "> 문자열 - str 클래스 객체"
   ]
  },
  {
   "cell_type": "markdown",
   "metadata": {},
   "source": [
    "* 시퀀스 타입의 두 가지 연산\n",
    "\n",
    "> 인덱싱 연산 - 특정 값 하나를 참조하는 연산, ex) `s[0], s[1]`\n",
    "\n",
    "> 슬라이싱 연산 - 사작과 끝을 정하여 이를 참조하는 연산, ex) `s[0:3], s[5:9]` "
   ]
  },
  {
   "cell_type": "markdown",
   "metadata": {},
   "source": [
    "* 매핑 타입(Mapping Type) - 본질적으로 저장된 값의 순서 또는 위치 정보를 기록하지 않는 자료형\n",
    "\n",
    "> 딕셔너리 - dict 클래스의 객체 (인덱싱이나 슬라이싱 연산 불가능)"
   ]
  },
  {
   "cell_type": "markdown",
   "metadata": {},
   "source": [
    "* 셋 타입(Set Type) - 수학의 `집합`을 표현한 자료형\n",
    "\n",
    "> 셋 - set 클래스의 객체\n",
    "\n",
    "> 프로즌셋 - frosenset 클래스의 객체"
   ]
  },
  {
   "cell_type": "markdown",
   "metadata": {},
   "source": [
    "* 셋 타입의 두가지 특징\n",
    "\n",
    "> 수학의 집합은 저장 순서를 유지하지 않는다\n",
    "\n",
    "> 수학의 집합은 중복된 값을 허용하지 않는다"
   ]
  },
  {
   "cell_type": "code",
   "execution_count": null,
   "metadata": {},
   "outputs": [],
   "source": []
  }
 ],
 "metadata": {
  "kernelspec": {
   "display_name": "Python 3",
   "language": "python",
   "name": "python3"
  },
  "language_info": {
   "codemirror_mode": {
    "name": "ipython",
    "version": 3
   },
   "file_extension": ".py",
   "mimetype": "text/x-python",
   "name": "python",
   "nbconvert_exporter": "python",
   "pygments_lexer": "ipython3",
   "version": "3.8.5"
  }
 },
 "nbformat": 4,
 "nbformat_minor": 4
}
