{
 "cells": [
  {
   "cell_type": "markdown",
   "metadata": {},
   "source": [
    "## Story 31. 네스티드 함수와 클로저"
   ]
  },
  {
   "cell_type": "markdown",
   "metadata": {},
   "source": [
    "### 함수를 만들어서 반환하는 함수"
   ]
  },
  {
   "cell_type": "code",
   "execution_count": 1,
   "metadata": {},
   "outputs": [],
   "source": [
    "def maker(m):\n",
    "    def inner(n):  # nested 함수\n",
    "        return m * n\n",
    "    return inner"
   ]
  },
  {
   "cell_type": "code",
   "execution_count": 2,
   "metadata": {},
   "outputs": [],
   "source": [
    "f1 = maker(2)\n",
    "f2 = maker(3)"
   ]
  },
  {
   "cell_type": "code",
   "execution_count": 3,
   "metadata": {},
   "outputs": [
    {
     "data": {
      "text/plain": [
       "14"
      ]
     },
     "execution_count": 3,
     "metadata": {},
     "output_type": "execute_result"
    }
   ],
   "source": [
    "f1(7)  # 실제 변수 m을 참조하게 되는 순간! maker 함수의 밖이다"
   ]
  },
  {
   "cell_type": "code",
   "execution_count": 4,
   "metadata": {},
   "outputs": [
    {
     "data": {
      "text/plain": [
       "21"
      ]
     },
     "execution_count": 4,
     "metadata": {},
     "output_type": "execute_result"
    }
   ],
   "source": [
    "f2(7)"
   ]
  },
  {
   "cell_type": "markdown",
   "metadata": {},
   "source": [
    "### 클로저(Closure)"
   ]
  },
  {
   "cell_type": "markdown",
   "metadata": {},
   "source": [
    "> 위의 예제에서 정의한 `inner` 함수가 변수 `m`의 값을 어딘가에 살짝 저장해 놓고 쓴다\n",
    "\n",
    "> 안쪽에 위치한 네스티드 함수가 자신이 필요한 변수의 값을 어딘가에 저장해 놓고 쓰는 테크닉을 가리켜 **클로져**라 한다"
   ]
  },
  {
   "cell_type": "markdown",
   "metadata": {},
   "source": [
    "### 저장된 위치 확인하기"
   ]
  },
  {
   "cell_type": "code",
   "execution_count": 5,
   "metadata": {},
   "outputs": [],
   "source": [
    "f1 = maker(101)\n",
    "f2 = maker(75)"
   ]
  },
  {
   "cell_type": "code",
   "execution_count": 6,
   "metadata": {},
   "outputs": [
    {
     "data": {
      "text/plain": [
       "101"
      ]
     },
     "execution_count": 6,
     "metadata": {},
     "output_type": "execute_result"
    }
   ],
   "source": [
    "f1.__closure__[0].cell_contents"
   ]
  },
  {
   "cell_type": "code",
   "execution_count": 7,
   "metadata": {},
   "outputs": [
    {
     "data": {
      "text/plain": [
       "75"
      ]
     },
     "execution_count": 7,
     "metadata": {},
     "output_type": "execute_result"
    }
   ],
   "source": [
    "f2.__closure__[0].cell_contents"
   ]
  },
  {
   "cell_type": "markdown",
   "metadata": {},
   "source": [
    "## Story 32. 테코레이터"
   ]
  },
  {
   "cell_type": "markdown",
   "metadata": {},
   "source": [
    "### 테코레이터에 대한 이해"
   ]
  },
  {
   "cell_type": "code",
   "execution_count": 8,
   "metadata": {},
   "outputs": [],
   "source": [
    "def smile():\n",
    "    print('^_^')\n",
    "    \n",
    "def confused():\n",
    "    print('@_@')"
   ]
  },
  {
   "cell_type": "code",
   "execution_count": 9,
   "metadata": {},
   "outputs": [
    {
     "name": "stdout",
     "output_type": "stream",
     "text": [
      "^_^\n"
     ]
    }
   ],
   "source": [
    "smile()"
   ]
  },
  {
   "cell_type": "code",
   "execution_count": 10,
   "metadata": {},
   "outputs": [
    {
     "name": "stdout",
     "output_type": "stream",
     "text": [
      "@_@\n"
     ]
    }
   ],
   "source": [
    "confused()"
   ]
  },
  {
   "cell_type": "code",
   "execution_count": 11,
   "metadata": {},
   "outputs": [],
   "source": [
    "def deco(func):\n",
    "    def df():\n",
    "        print('emoticon!')\n",
    "        func()\n",
    "        print('emoticon!')\n",
    "    return df"
   ]
  },
  {
   "cell_type": "code",
   "execution_count": 12,
   "metadata": {},
   "outputs": [
    {
     "name": "stdout",
     "output_type": "stream",
     "text": [
      "emoticon!\n",
      "^_^\n",
      "emoticon!\n"
     ]
    }
   ],
   "source": [
    "smile = deco(smile)\n",
    "\n",
    "smile()"
   ]
  },
  {
   "cell_type": "code",
   "execution_count": 13,
   "metadata": {},
   "outputs": [
    {
     "name": "stdout",
     "output_type": "stream",
     "text": [
      "emoticon!\n",
      "@_@\n",
      "emoticon!\n"
     ]
    }
   ],
   "source": [
    "confused = deco(confused)\n",
    "\n",
    "confused()"
   ]
  },
  {
   "cell_type": "markdown",
   "metadata": {},
   "source": [
    "> 기능이 추가된 새로운 함수를 만들고 이 함수를 반환한다"
   ]
  },
  {
   "cell_type": "markdown",
   "metadata": {},
   "source": [
    "### 전달 인자가 있는 함수 기반의 데코레이터"
   ]
  },
  {
   "cell_type": "code",
   "execution_count": 14,
   "metadata": {},
   "outputs": [],
   "source": [
    "def adder2(n1, n2):\n",
    "    return n1 + n2\n",
    "\n",
    "def adder3(n1, n2, n3):\n",
    "    return n1 + n2 + n3"
   ]
  },
  {
   "cell_type": "code",
   "execution_count": 15,
   "metadata": {},
   "outputs": [
    {
     "data": {
      "text/plain": [
       "7"
      ]
     },
     "execution_count": 15,
     "metadata": {},
     "output_type": "execute_result"
    }
   ],
   "source": [
    "adder2(3, 4)"
   ]
  },
  {
   "cell_type": "code",
   "execution_count": 16,
   "metadata": {},
   "outputs": [
    {
     "data": {
      "text/plain": [
       "15"
      ]
     },
     "execution_count": 16,
     "metadata": {},
     "output_type": "execute_result"
    }
   ],
   "source": [
    "adder3(3, 5, 7)"
   ]
  },
  {
   "cell_type": "markdown",
   "metadata": {},
   "source": [
    "---"
   ]
  },
  {
   "cell_type": "code",
   "execution_count": 17,
   "metadata": {},
   "outputs": [],
   "source": [
    "def adder_deco(func):\n",
    "    def ad(*args):  # 전달 인자를 튜플로 묶는다\n",
    "        print(*args, sep=' + ', end=' ')\n",
    "        print(f'= {func(*args)}')\n",
    "    return ad"
   ]
  },
  {
   "cell_type": "code",
   "execution_count": 18,
   "metadata": {},
   "outputs": [
    {
     "name": "stdout",
     "output_type": "stream",
     "text": [
      "3 + 4 = 7\n"
     ]
    }
   ],
   "source": [
    "adder2 = adder_deco(adder2)\n",
    "adder2(3, 4)"
   ]
  },
  {
   "cell_type": "code",
   "execution_count": 19,
   "metadata": {},
   "outputs": [
    {
     "name": "stdout",
     "output_type": "stream",
     "text": [
      "3 + 5 + 7 = 15\n"
     ]
    }
   ],
   "source": [
    "adder3 = adder_deco(adder3)\n",
    "adder3(3, 5, 7)"
   ]
  },
  {
   "cell_type": "markdown",
   "metadata": {},
   "source": [
    "### ``@` 기반으로"
   ]
  },
  {
   "cell_type": "markdown",
   "metadata": {},
   "source": [
    "```python\n",
    "def smile():\n",
    "    print('^_^')\n",
    "    \n",
    "smile = deco(smile)\n",
    "```\n",
    "\n",
    "> 위의 코드와 아래의 코드는 동일한 결과를 보인다:\n",
    "\n",
    "\n",
    "```python\n",
    "@deco\n",
    "def smile():\n",
    "    print('^_^')\n",
    "```"
   ]
  },
  {
   "cell_type": "code",
   "execution_count": 20,
   "metadata": {},
   "outputs": [],
   "source": [
    "def adder_deco(func):\n",
    "    def ad(*args):  # 전달 인자를 튜플로 묶는다\n",
    "        print(*args, sep=' + ', end=' ')\n",
    "        print(f'= {func(*args)}')\n",
    "    return ad\n",
    "\n",
    "@adder_deco\n",
    "def adder2(n1, n2):\n",
    "    return n1 + n2\n",
    "\n",
    "@adder_deco\n",
    "def adder3(n1, n2, n3):\n",
    "    return n1 + n2 + n3"
   ]
  },
  {
   "cell_type": "code",
   "execution_count": 21,
   "metadata": {},
   "outputs": [
    {
     "name": "stdout",
     "output_type": "stream",
     "text": [
      "3 + 4 = 7\n"
     ]
    }
   ],
   "source": [
    "adder2(3, 4)"
   ]
  },
  {
   "cell_type": "code",
   "execution_count": 22,
   "metadata": {},
   "outputs": [
    {
     "name": "stdout",
     "output_type": "stream",
     "text": [
      "3 + 4 + 7 = 14\n"
     ]
    }
   ],
   "source": [
    "adder3(3, 4, 7)"
   ]
  },
  {
   "cell_type": "markdown",
   "metadata": {},
   "source": [
    "### 데코레이터 함수 두 번 이상 통과하기"
   ]
  },
  {
   "cell_type": "markdown",
   "metadata": {},
   "source": [
    "```python\n",
    "@deco1\n",
    "@deco2\n",
    "def simple():\n",
    "    print('simple')\n",
    "```\n",
    "\n",
    "> 위의 코드와 아래의 코드는 완전히 동일하다:\n",
    "\n",
    "\n",
    "```python\n",
    "def simple():\n",
    "    print('simple')\n",
    "\n",
    "simple = deco1(deco2(simple))    \n",
    "```"
   ]
  },
  {
   "cell_type": "code",
   "execution_count": 24,
   "metadata": {},
   "outputs": [],
   "source": [
    "def deco1(func):  # 데코레이터 1\n",
    "    def inner():\n",
    "        print('deco1')\n",
    "        func()\n",
    "    return inner\n",
    "\n",
    "def deco2(func):  # 데코레이터 2\n",
    "    def inner():\n",
    "        print('deco2')\n",
    "        func()\n",
    "    return inner"
   ]
  },
  {
   "cell_type": "code",
   "execution_count": 25,
   "metadata": {},
   "outputs": [],
   "source": [
    "@deco1\n",
    "@deco2\n",
    "def simple():\n",
    "    print('simple')"
   ]
  },
  {
   "cell_type": "code",
   "execution_count": 26,
   "metadata": {},
   "outputs": [
    {
     "name": "stdout",
     "output_type": "stream",
     "text": [
      "deco1\n",
      "deco2\n",
      "simple\n"
     ]
    }
   ],
   "source": [
    "simple()"
   ]
  },
  {
   "cell_type": "markdown",
   "metadata": {},
   "source": [
    "## Story 33. 클래스 메소드와 static 메소드"
   ]
  },
  {
   "cell_type": "markdown",
   "metadata": {},
   "source": [
    "### 클래스 변수에 대한 이해"
   ]
  },
  {
   "cell_type": "code",
   "execution_count": 27,
   "metadata": {},
   "outputs": [],
   "source": [
    "class Simple:\n",
    "    \n",
    "    def __init__(self):\n",
    "        self.iv = 10  # iv는 인스턴스 변수, 객체 별로 존재하는 변수"
   ]
  },
  {
   "cell_type": "code",
   "execution_count": 28,
   "metadata": {},
   "outputs": [
    {
     "data": {
      "text/plain": [
       "10"
      ]
     },
     "execution_count": 28,
     "metadata": {},
     "output_type": "execute_result"
    }
   ],
   "source": [
    "s = Simple()\n",
    "s.iv  # 인스턴스 변수는 객체를 통해서 접근한다"
   ]
  },
  {
   "cell_type": "markdown",
   "metadata": {},
   "source": [
    "---"
   ]
  },
  {
   "cell_type": "code",
   "execution_count": 29,
   "metadata": {},
   "outputs": [],
   "source": [
    "class Simple:\n",
    "    \n",
    "    cv = 20  # cv는 클래스 변수, 클래스 Simple에 속하는 변수\n",
    "    \n",
    "    def __init__(self):\n",
    "        self.iv = 10"
   ]
  },
  {
   "cell_type": "code",
   "execution_count": 30,
   "metadata": {},
   "outputs": [
    {
     "data": {
      "text/plain": [
       "20"
      ]
     },
     "execution_count": 30,
     "metadata": {},
     "output_type": "execute_result"
    }
   ],
   "source": [
    "Simple.cv  # 클래스 변수는 클래스 이름으로 접근 가능"
   ]
  },
  {
   "cell_type": "code",
   "execution_count": 31,
   "metadata": {},
   "outputs": [
    {
     "data": {
      "text/plain": [
       "20"
      ]
     },
     "execution_count": 31,
     "metadata": {},
     "output_type": "execute_result"
    }
   ],
   "source": [
    "s = Simple()\n",
    "s.cv  # 클래스 변수는 객체를 통해서도 접근 가능"
   ]
  },
  {
   "cell_type": "markdown",
   "metadata": {},
   "source": [
    "---"
   ]
  },
  {
   "cell_type": "code",
   "execution_count": 32,
   "metadata": {},
   "outputs": [],
   "source": [
    "class Simple:\n",
    "    \n",
    "    count = 0  # 클래스 변수, 생성된 객체 수를 저장하는 것이 목적\n",
    "    \n",
    "    def __init__(self):\n",
    "        Simple.count += 1\n",
    "        \n",
    "    def get_count(self):\n",
    "        return Simple.count"
   ]
  },
  {
   "cell_type": "code",
   "execution_count": 34,
   "metadata": {},
   "outputs": [
    {
     "name": "stdout",
     "output_type": "stream",
     "text": [
      "4\n",
      "5\n",
      "6\n"
     ]
    }
   ],
   "source": [
    "s1 = Simple()\n",
    "print(s1.get_count())\n",
    "\n",
    "s2 = Simple()\n",
    "print(s1.get_count())\n",
    "\n",
    "s3 = Simple()\n",
    "print(s1.get_count())"
   ]
  },
  {
   "cell_type": "markdown",
   "metadata": {},
   "source": [
    "### static 메소드"
   ]
  },
  {
   "cell_type": "code",
   "execution_count": null,
   "metadata": {},
   "outputs": [],
   "source": []
  }
 ],
 "metadata": {
  "kernelspec": {
   "display_name": "Python 3",
   "language": "python",
   "name": "python3"
  },
  "language_info": {
   "codemirror_mode": {
    "name": "ipython",
    "version": 3
   },
   "file_extension": ".py",
   "mimetype": "text/x-python",
   "name": "python",
   "nbconvert_exporter": "python",
   "pygments_lexer": "ipython3",
   "version": "3.8.5"
  }
 },
 "nbformat": 4,
 "nbformat_minor": 4
}
