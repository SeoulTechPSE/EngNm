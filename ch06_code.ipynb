{
 "cells": [
  {
   "cell_type": "markdown",
   "metadata": {
    "cell_style": "center",
    "slideshow": {
     "slide_type": "skip"
    }
   },
   "source": [
    "[![Open In Colab](https://colab.research.google.com/assets/colab-badge.svg)](https://colab.research.google.com/github/SeoulTechPSE/EngNm/blob/master/ch06_code.ipynb)"
   ]
  },
  {
   "cell_type": "code",
   "execution_count": null,
   "metadata": {
    "slideshow": {
     "slide_type": "skip"
    }
   },
   "outputs": [],
   "source": [
    "# Rendering sympy equations requires MathJax to be available within each cell output. \n",
    "# The following is a function that will make this happen for Colab.\n",
    "\n",
    "if 'google.colab' in str(get_ipython()):\n",
    "    \n",
    "    from sympy import init_printing\n",
    "    from sympy.printing import latex\n",
    "\n",
    "    def colab_LaTeX_printer(exp, **options):  \n",
    "        from google.colab.output._publish import javascript \n",
    "\n",
    "        url_ = \"https://colab.research.google.com/static/mathjax/MathJax.js?\"\n",
    "        cfg_ = \"config=TeX-MML-AM_HTMLorMML\" # \"config=default\"\n",
    "\n",
    "        javascript(url=url_+cfg_)\n",
    "\n",
    "        return latex(exp, **options)\n",
    "\n",
    "    init_printing(use_latex=\"mathjax\", latex_printer=colab_LaTeX_printer) "
   ]
  },
  {
   "cell_type": "markdown",
   "metadata": {
    "slideshow": {
     "slide_type": "slide"
    }
   },
   "source": [
    "# Chapter 6: Optimization"
   ]
  },
  {
   "cell_type": "markdown",
   "metadata": {
    "slideshow": {
     "slide_type": "fragment"
    }
   },
   "source": [
    "Creator: Robert Johansson, Updator: Kee-Youn Yoo\n",
    "\n",
    "Updated source code listings for Numerical Python - A Practical Techniques Approach for Industry<p> (ISBN 978-1-484205-54-9)"
   ]
  },
  {
   "cell_type": "markdown",
   "metadata": {
    "slideshow": {
     "slide_type": "slide"
    }
   },
   "source": [
    "In this chapter, \n",
    "\n",
    "* We discuss using scipy's optimization module `optimize` for nonlinear optimization\n",
    "problems, \n",
    "\n",
    "* and we will briefly explore using the convex optimization library `cvxopt` for linear optimization\n",
    "problems with linear constraints. This library also has powerful solvers for quadratic programming problems"
   ]
  },
  {
   "cell_type": "markdown",
   "metadata": {
    "slideshow": {
     "slide_type": "fragment"
    }
   },
   "source": [
    "* The convex optimization library `cvxopt` provides solvers for linear and quadratic optimization\n",
    "problems. At the time of writing, the latest version is 1.2 (2021-04-08). $~$For more information, $~$see the project’s web site http://cvxopt.org. Here we use this library for constrained linear optimization\n",
    "\n",
    "```python\n",
    "    !conda install -c conda-forge cvxopt -y\n",
    "```\n",
    "```python\n",
    "    !pip install cvxopt\n",
    "```"
   ]
  },
  {
   "cell_type": "markdown",
   "metadata": {
    "slideshow": {
     "slide_type": "slide"
    }
   },
   "source": [
    "## Importing modules"
   ]
  },
  {
   "cell_type": "code",
   "execution_count": null,
   "metadata": {
    "slideshow": {
     "slide_type": "fragment"
    }
   },
   "outputs": [],
   "source": [
    "import numpy as np\n",
    "import sympy\n",
    "sympy.init_printing()\n",
    "from scipy import optimize\n",
    "import cvxopt\n",
    "\n",
    "import matplotlib as mpl\n",
    "import matplotlib.pyplot as plt\n"
   ]
  },
  {
   "cell_type": "markdown",
   "metadata": {
    "slideshow": {
     "slide_type": "slide"
    }
   },
   "source": [
    "## Classification of optimization problems"
   ]
  },
  {
   "cell_type": "markdown",
   "metadata": {
    "slideshow": {
     "slide_type": "fragment"
    }
   },
   "source": [
    "A general optimization problem considered here can be formulated as a minimization problem, $\\min_x f(x)$, $~$subject to sets of $m$ equality constraints $g(x) = 0$ and $p$ inequality constraints $h(x) \\leq 0$\n"
   ]
  },
  {
   "cell_type": "markdown",
   "metadata": {
    "slideshow": {
     "slide_type": "fragment"
    }
   },
   "source": [
    "Depending on the properties of the objective function $f(x)$ and the equality and inequality constraints\n",
    "$g(x)$ and $h(x)$, $~$this formulation includes a rich variety of problems\n",
    "\n",
    "* *univariate*(*one dimensional*) or *multivariate*(*multidimensional*)\n",
    "* *linear programming problem* or *nonlinear programming problem*\n",
    "* *unconstrained*, or *constrained*(*equality* and *inequality* constraints require different approaches)\n",
    "* *convex* or *non-convex*\n",
    "* *continuous*(*smooth*) or *discontinuous*  "
   ]
  },
  {
   "cell_type": "markdown",
   "metadata": {
    "slideshow": {
     "slide_type": "slide"
    }
   },
   "source": [
    "## Univariate optimization"
   ]
  },
  {
   "cell_type": "markdown",
   "metadata": {
    "slideshow": {
     "slide_type": "fragment"
    }
   },
   "source": [
    "As an example, consider the classic optimization problem: \n",
    "\n",
    "Minimize the area of a cylinder with unit volume. Here, suitable variables are the radius $r$ and height $h$ of the cylinder, and the objective function is \n",
    "\n",
    "> $f(r, h) = 2\\pi r^2 + 2\\pi r h$\n",
    "\n",
    "subject to the equality constraint \n",
    "\n",
    "> $g(r, h) = \\pi r^2 h -1 = 0$"
   ]
  },
  {
   "cell_type": "code",
   "execution_count": null,
   "metadata": {
    "slideshow": {
     "slide_type": "subslide"
    }
   },
   "outputs": [],
   "source": [
    "r, h = sympy.symbols(\"r, h\")\n",
    "Area = 2 *sympy.pi *r**2 + 2 *sympy.pi *r *h \n",
    "Volume = sympy.pi *r**2 *h\n"
   ]
  },
  {
   "cell_type": "code",
   "execution_count": null,
   "metadata": {
    "slideshow": {
     "slide_type": "fragment"
    }
   },
   "outputs": [],
   "source": [
    "h_r = sympy.solve(Volume -1)[0]; h_r\n"
   ]
  },
  {
   "cell_type": "code",
   "execution_count": null,
   "metadata": {
    "slideshow": {
     "slide_type": "fragment"
    }
   },
   "outputs": [],
   "source": [
    "Area_r = Area.subs(h_r); Area_r\n"
   ]
  },
  {
   "cell_type": "code",
   "execution_count": null,
   "metadata": {
    "slideshow": {
     "slide_type": "subslide"
    }
   },
   "outputs": [],
   "source": [
    "rsol = sympy.solve(Area_r.diff(r))[0]; rsol\n"
   ]
  },
  {
   "cell_type": "code",
   "execution_count": null,
   "metadata": {
    "slideshow": {
     "slide_type": "fragment"
    }
   },
   "outputs": [],
   "source": [
    "_.evalf()\n"
   ]
  },
  {
   "cell_type": "code",
   "execution_count": null,
   "metadata": {
    "slideshow": {
     "slide_type": "fragment"
    }
   },
   "outputs": [],
   "source": [
    "Area_r.diff(r, 2).subs(r, rsol)\n"
   ]
  },
  {
   "cell_type": "code",
   "execution_count": null,
   "metadata": {
    "slideshow": {
     "slide_type": "fragment"
    }
   },
   "outputs": [],
   "source": [
    "Area_r.subs(r, rsol)\n"
   ]
  },
  {
   "cell_type": "code",
   "execution_count": null,
   "metadata": {
    "slideshow": {
     "slide_type": "fragment"
    }
   },
   "outputs": [],
   "source": [
    "_.evalf()\n"
   ]
  },
  {
   "cell_type": "markdown",
   "metadata": {
    "slideshow": {
     "slide_type": "skip"
    }
   },
   "source": [
    "---"
   ]
  },
  {
   "cell_type": "code",
   "execution_count": null,
   "metadata": {
    "slideshow": {
     "slide_type": "slide"
    }
   },
   "outputs": [],
   "source": [
    "def f(r):\n",
    "    return 2 *np.pi *r**2 + 2 /r\n"
   ]
  },
  {
   "cell_type": "code",
   "execution_count": null,
   "metadata": {
    "slideshow": {
     "slide_type": "fragment"
    }
   },
   "outputs": [],
   "source": [
    "r_min = optimize.brent(f, brack=(0.1, 4)); r_min\n"
   ]
  },
  {
   "cell_type": "code",
   "execution_count": null,
   "metadata": {
    "slideshow": {
     "slide_type": "fragment"
    }
   },
   "outputs": [],
   "source": [
    "f(r_min)\n"
   ]
  },
  {
   "cell_type": "markdown",
   "metadata": {
    "slideshow": {
     "slide_type": "fragment"
    }
   },
   "source": [
    "---"
   ]
  },
  {
   "cell_type": "code",
   "execution_count": null,
   "metadata": {
    "slideshow": {
     "slide_type": "fragment"
    }
   },
   "outputs": [],
   "source": [
    "optimize.minimize_scalar(f, bracket=(0.1, 4))\n"
   ]
  },
  {
   "cell_type": "markdown",
   "metadata": {
    "slideshow": {
     "slide_type": "skip"
    }
   },
   "source": [
    "---"
   ]
  },
  {
   "cell_type": "code",
   "execution_count": null,
   "metadata": {
    "slideshow": {
     "slide_type": "subslide"
    }
   },
   "outputs": [],
   "source": [
    "r = np.linspace(1.e-2, 2, 100)\n",
    "\n",
    "fig, ax = plt.subplots(figsize=(8, 4))\n",
    "\n",
    "ax.plot(r, f(r), lw=2, color='b')\n",
    "ax.plot(r_min, f(r_min), 'ro', markersize=14)\n",
    "ax.set_title(r\"$f(r) = 2\\pi r^2 +2/r$\", fontsize=14)\n",
    "ax.set_xlabel(r\"$r$\", fontsize=14)\n",
    "ax.set_ylabel(r\"$A$\", fontsize=14)\n",
    "ax.set_xticks([0, 0.5, 1, 1.5, 2])\n",
    "ax.set_xlim(0, 2)\n",
    "ax.set_ylim(0, 30)\n",
    "ax.tick_params(which='both', direction='in')\n"
   ]
  },
  {
   "cell_type": "markdown",
   "metadata": {
    "slideshow": {
     "slide_type": "slide"
    }
   },
   "source": [
    "## Unconstrained multivariate optimization"
   ]
  },
  {
   "cell_type": "markdown",
   "metadata": {
    "slideshow": {
     "slide_type": "fragment"
    }
   },
   "source": [
    "We consider the following problem: $~$$min_x f(x)$, $~$where\n",
    "the objective function is \n",
    "\n",
    "> $f(x) = (x_1 - 1)^4 + 5(x_2 - 1)^2 - 2 x_1 x_2$"
   ]
  },
  {
   "cell_type": "code",
   "execution_count": null,
   "metadata": {
    "slideshow": {
     "slide_type": "fragment"
    }
   },
   "outputs": [],
   "source": [
    "x1, x2 = sympy.symbols(\"x_1, x_2\")\n",
    "f_sym = (x1 -1)**4 + 5 *(x2 -1)**2 -2 *x1 *x2\n",
    "fprime_sym = [f_sym.diff(x_) for x_ in (x1, x2)]\n",
    "fhess_sym = [[f_sym.diff(x1_, x2_) for x1_ in (x1, x2)] for x2_ in (x1, x2)]\n"
   ]
  },
  {
   "cell_type": "code",
   "execution_count": null,
   "metadata": {
    "slideshow": {
     "slide_type": "fragment"
    }
   },
   "outputs": [],
   "source": [
    "sympy.Matrix(fprime_sym)\n"
   ]
  },
  {
   "cell_type": "code",
   "execution_count": null,
   "metadata": {
    "slideshow": {
     "slide_type": "fragment"
    }
   },
   "outputs": [],
   "source": [
    "sympy.Matrix(fhess_sym)\n"
   ]
  },
  {
   "cell_type": "code",
   "execution_count": null,
   "metadata": {
    "slideshow": {
     "slide_type": "slide"
    }
   },
   "outputs": [],
   "source": [
    "f_lmbda = sympy.lambdify((x1, x2), f_sym, 'numpy')\n",
    "fprime_lmbda = sympy.lambdify((x1, x2), fprime_sym, 'numpy')\n",
    "fhess_lmbda = sympy.lambdify((x1, x2), fhess_sym, 'numpy')\n"
   ]
  },
  {
   "cell_type": "code",
   "execution_count": null,
   "metadata": {
    "slideshow": {
     "slide_type": "fragment"
    }
   },
   "outputs": [],
   "source": [
    "def func_XY_X_Y(f):\n",
    "    \"\"\"\n",
    "    Wrapper for f(X) -> f(X[0], X[1])\n",
    "    \"\"\"\n",
    "    return lambda X: np.array(f(X[0], X[1]))\n"
   ]
  },
  {
   "cell_type": "code",
   "execution_count": null,
   "metadata": {
    "slideshow": {
     "slide_type": "fragment"
    }
   },
   "outputs": [],
   "source": [
    "f = func_XY_X_Y(f_lmbda)\n",
    "fprime = func_XY_X_Y(fprime_lmbda)\n",
    "fhess = func_XY_X_Y(fhess_lmbda)\n"
   ]
  },
  {
   "cell_type": "markdown",
   "metadata": {
    "slideshow": {
     "slide_type": "subslide"
    }
   },
   "source": [
    "In scipy, $~$Newton conjugate gradient method is implemented in the function `optimize.fmin_ncg`. $~$This function takes the following arguments: $~$a python function for the objective function, a starting point, a python function for evaluating the gradient, and (optionally) a python function for evaluating the Hessian"
   ]
  },
  {
   "cell_type": "code",
   "execution_count": null,
   "metadata": {
    "slideshow": {
     "slide_type": "fragment"
    }
   },
   "outputs": [],
   "source": [
    "x_opt = optimize.fmin_ncg(f, (0, 0), fprime=fprime, fhess=fhess)\n"
   ]
  },
  {
   "cell_type": "code",
   "execution_count": null,
   "metadata": {
    "slideshow": {
     "slide_type": "fragment"
    }
   },
   "outputs": [],
   "source": [
    "x_opt\n"
   ]
  },
  {
   "cell_type": "code",
   "execution_count": null,
   "metadata": {
    "slideshow": {
     "slide_type": "subslide"
    }
   },
   "outputs": [],
   "source": [
    "x_ = y_ = np.linspace(-1, 4, 100)\n",
    "X, Y = np.meshgrid(x_, y_)\n",
    "\n",
    "fig, ax = plt.subplots(figsize=(8, 6))\n",
    "\n",
    "c = ax.contour(X, Y, f_lmbda(X, Y), 50)\n",
    "ax.plot(x_opt[0], x_opt[1], 'ro', markersize=14)\n",
    "ax.set_xlabel(r\"$x_1$\", fontsize=14)\n",
    "ax.set_ylabel(r\"$x_2$\", fontsize=14)\n",
    "ax.tick_params(which='both', direction='in')\n",
    "plt.colorbar(c, ax=ax);\n",
    "\n",
    "#fig.tight_layout()\n"
   ]
  },
  {
   "cell_type": "markdown",
   "metadata": {
    "slideshow": {
     "slide_type": "skip"
    }
   },
   "source": [
    "---"
   ]
  },
  {
   "cell_type": "markdown",
   "metadata": {
    "slideshow": {
     "slide_type": "slide"
    }
   },
   "source": [
    "* Methods that approximate the Hessian are known as *quasi-Newton methods*, and there are also\n",
    "alternative iterative methods that completely avoid using the Hessian \n",
    "\n",
    "* Two popular methods are the BFGS and the conjugate-gradient methods, which are implemented in `scipy` as the functions `optimize.fmin_bfgs` (the quasi-Newton method of Broyden, Fletcher, Goldfarb, and Shanno) and `optimize.fmin_cg` (the conjugate-gradient method of Polak and Ribiere)"
   ]
  },
  {
   "cell_type": "code",
   "execution_count": null,
   "metadata": {
    "slideshow": {
     "slide_type": "fragment"
    }
   },
   "outputs": [],
   "source": [
    "x_opt = optimize.fmin_bfgs(f, (0, 0), fprime=fprime); x_opt\n"
   ]
  },
  {
   "cell_type": "code",
   "execution_count": null,
   "metadata": {
    "slideshow": {
     "slide_type": "fragment"
    }
   },
   "outputs": [],
   "source": [
    "x_opt = optimize.fmin_cg(f, (0, 0), fprime=fprime); x_opt\n"
   ]
  },
  {
   "cell_type": "markdown",
   "metadata": {
    "slideshow": {
     "slide_type": "skip"
    }
   },
   "source": [
    "---"
   ]
  },
  {
   "cell_type": "code",
   "execution_count": null,
   "metadata": {
    "slideshow": {
     "slide_type": "subslide"
    }
   },
   "outputs": [],
   "source": [
    "x_opt = optimize.fmin_bfgs(f, (0, 0)); x_opt\n"
   ]
  },
  {
   "cell_type": "code",
   "execution_count": null,
   "metadata": {
    "slideshow": {
     "slide_type": "fragment"
    }
   },
   "outputs": [],
   "source": [
    "x_opt = optimize.fmin_cg(f, (0, 0)); x_opt\n"
   ]
  },
  {
   "cell_type": "markdown",
   "metadata": {
    "slideshow": {
     "slide_type": "slide"
    }
   },
   "source": [
    "### Brute force search for a global minimum"
   ]
  },
  {
   "cell_type": "markdown",
   "metadata": {
    "slideshow": {
     "slide_type": "fragment"
    }
   },
   "source": [
    "* The methods for multivariate optimization that we have discussed so far all converge to a local\n",
    "minimum in general. For problems with many local minima, this can easily lead to a situation when the\n",
    "solver easily gets stuck in a local minimum, even if a global minimum exists\n",
    "\n",
    "* Although there is no complete and general solution to this problem, a practical approach that can partially alleviate this problem is to use a brute force search over a coordinate grid to find a suitable starting point for an iterative solver. At least this gives a systematic approach to find a global minimum within given coordinate ranges\n",
    "\n",
    "* In `scipy`, the function `optimize.brute` can carry out such a systematic search"
   ]
  },
  {
   "cell_type": "markdown",
   "metadata": {
    "slideshow": {
     "slide_type": "subslide"
    }
   },
   "source": [
    "To illustrate this method, consider the problem of minimizing the function \n",
    "\n",
    "> $4\\sin(\\pi x) + 6\\sin (\\pi y) +(x -1)^2 +(y -1)^2$, \n",
    "\n",
    "which has a large number of local minima"
   ]
  },
  {
   "cell_type": "code",
   "execution_count": null,
   "metadata": {
    "slideshow": {
     "slide_type": "fragment"
    }
   },
   "outputs": [],
   "source": [
    "def f(X):\n",
    "    x, y = X\n",
    "    return 4*np.sin(np.pi *x) +6*np.sin(np.pi *y) +(x -1)**2 +(y -1)**2\n"
   ]
  },
  {
   "cell_type": "code",
   "execution_count": null,
   "metadata": {
    "slideshow": {
     "slide_type": "fragment"
    }
   },
   "outputs": [],
   "source": [
    "x_start = optimize.brute(f, (slice(-3, 5, 0.5), slice(-3, 5, 0.5)), finish=None); \n",
    "print('x_start = ', x_start, ', f(x_start) = ', f(x_start))\n"
   ]
  },
  {
   "cell_type": "code",
   "execution_count": null,
   "metadata": {
    "slideshow": {
     "slide_type": "fragment"
    }
   },
   "outputs": [],
   "source": [
    "x_opt = optimize.fmin_bfgs(f, x_start)\n"
   ]
  },
  {
   "cell_type": "code",
   "execution_count": null,
   "metadata": {
    "slideshow": {
     "slide_type": "fragment"
    }
   },
   "outputs": [],
   "source": [
    "print('x_opt = ', x_opt, ', f(x_opt) = ', f(x_opt))\n"
   ]
  },
  {
   "cell_type": "markdown",
   "metadata": {
    "slideshow": {
     "slide_type": "skip"
    }
   },
   "source": [
    "---"
   ]
  },
  {
   "cell_type": "code",
   "execution_count": null,
   "metadata": {
    "slideshow": {
     "slide_type": "subslide"
    }
   },
   "outputs": [],
   "source": [
    "result = optimize.minimize(f, x_start, method='BFGS'); result\n"
   ]
  },
  {
   "cell_type": "code",
   "execution_count": null,
   "metadata": {
    "slideshow": {
     "slide_type": "fragment"
    }
   },
   "outputs": [],
   "source": [
    "result.x\n"
   ]
  },
  {
   "cell_type": "code",
   "execution_count": null,
   "metadata": {
    "slideshow": {
     "slide_type": "fragment"
    }
   },
   "outputs": [],
   "source": [
    "result.fun\n"
   ]
  },
  {
   "cell_type": "code",
   "execution_count": null,
   "metadata": {
    "slideshow": {
     "slide_type": "subslide"
    }
   },
   "outputs": [],
   "source": [
    "def func_X_Y_to_XY(f, X, Y):\n",
    "    s = np.shape(X)\n",
    "    return f(np.vstack([X.ravel(), Y.ravel()])).reshape(*s)\n",
    "\n",
    "x_ = y_ = np.linspace(-3, 5, 100)\n",
    "X, Y = np.meshgrid(x_, y_)\n",
    "\n",
    "fig, ax = plt.subplots(figsize=(8, 6))\n",
    "\n",
    "c = ax.contour(X, Y, func_X_Y_to_XY(f, X, Y), 25)\n",
    "ax.plot(x_opt[0], x_opt[1], 'ro', markersize=14)\n",
    "ax.set_xlabel(r\"$x$\", fontsize=14)\n",
    "ax.set_ylabel(r\"$y$\", fontsize=14)\n",
    "plt.colorbar(c, ax=ax)\n",
    "ax.tick_params(which='both', direction='in')\n"
   ]
  },
  {
   "cell_type": "markdown",
   "metadata": {
    "slideshow": {
     "slide_type": "slide"
    }
   },
   "source": [
    "## Noninear least square problems"
   ]
  },
  {
   "cell_type": "markdown",
   "metadata": {
    "slideshow": {
     "slide_type": "fragment"
    }
   },
   "source": [
    "* In general, a least square problem can be viewed as an optimization problem with the\n",
    "objective function $g(\\boldsymbol{\\beta}) =\\sum_{i=0}^{m} r_i^2(\\boldsymbol{\\beta})$, $\\text{ }$with the residuals $r_i(\\boldsymbol{\\beta}) = y_i -f(x_i, \\boldsymbol{\\beta})\\text{ }$ for a set of $m$ obervations $(x_i, y_i)$. Here $\\boldsymbol{\\beta}$ is a vector with unknown parameters that specifies the function $f(x, \\boldsymbol{\\beta})$. If this problem is nonlinear in the parameters $\\boldsymbol{\\beta}$, it is known as a nonlinear least square problem"
   ]
  },
  {
   "cell_type": "markdown",
   "metadata": {
    "slideshow": {
     "slide_type": "fragment"
    }
   },
   "source": [
    "* In scipy, the function `optimize.leastsq` provides a nonlinear least square solver that uses the Levenberg-Marquardt method. To illustrate how this function can be used, consider a nonlinear model on the form $f(x,\\boldsymbol{\\beta}) = \\beta_1 + \\beta_2 \\exp(-\\beta_3 x^2 )$ and a set of observations $(x_i, y_i)$"
   ]
  },
  {
   "cell_type": "markdown",
   "metadata": {
    "slideshow": {
     "slide_type": "subslide"
    }
   },
   "source": [
    "Simulate the observations:"
   ]
  },
  {
   "cell_type": "code",
   "execution_count": null,
   "metadata": {
    "slideshow": {
     "slide_type": "fragment"
    }
   },
   "outputs": [],
   "source": [
    "beta = (0.25, 0.75, 0.5)\n",
    "def f(x, b0, b1, b2):\n",
    "    return b0 +b1 *np.exp(-b2 *x**2)\n"
   ]
  },
  {
   "cell_type": "code",
   "execution_count": null,
   "metadata": {
    "slideshow": {
     "slide_type": "fragment"
    }
   },
   "outputs": [],
   "source": [
    "xdata = np.linspace(0, 5, 50)\n",
    "y = f(xdata, *beta)\n",
    "ydata = y +0.05 *np.random.randn(len(xdata))\n"
   ]
  },
  {
   "cell_type": "markdown",
   "metadata": {
    "slideshow": {
     "slide_type": "subslide"
    }
   },
   "source": [
    "The first step is to define a function for the residuals given the data and the model\n",
    "function, which is specified in terms of the yet-to-be determined model parameters $\\boldsymbol{\\beta}$"
   ]
  },
  {
   "cell_type": "code",
   "execution_count": null,
   "metadata": {
    "slideshow": {
     "slide_type": "fragment"
    }
   },
   "outputs": [],
   "source": [
    "def g(beta):\n",
    "    return ydata -f(xdata, *beta)\n"
   ]
  },
  {
   "cell_type": "markdown",
   "metadata": {
    "slideshow": {
     "slide_type": "fragment"
    }
   },
   "source": [
    "Next we define an initial guess for the parameter vector and let the `optimize.leastsq` function solve for\n",
    "the best least square fit for the parameter vector:"
   ]
  },
  {
   "cell_type": "code",
   "execution_count": null,
   "metadata": {
    "slideshow": {
     "slide_type": "fragment"
    }
   },
   "outputs": [],
   "source": [
    "beta_start = (1, 1, 1)\n",
    "beta_opt, beta_cov = optimize.leastsq(g, beta_start)\n"
   ]
  },
  {
   "cell_type": "code",
   "execution_count": null,
   "metadata": {
    "slideshow": {
     "slide_type": "fragment"
    }
   },
   "outputs": [],
   "source": [
    "beta_opt\n"
   ]
  },
  {
   "cell_type": "markdown",
   "metadata": {
    "slideshow": {
     "slide_type": "skip"
    }
   },
   "source": [
    "---"
   ]
  },
  {
   "cell_type": "code",
   "execution_count": null,
   "metadata": {
    "slideshow": {
     "slide_type": "subslide"
    }
   },
   "outputs": [],
   "source": [
    "fig, ax = plt.subplots(figsize=(8, 6))\n",
    "\n",
    "ax.scatter(xdata, ydata)\n",
    "ax.plot(xdata, y, 'r', lw=2)\n",
    "ax.plot(xdata, f(xdata, *beta_opt), 'b', lw=2)\n",
    "ax.set_xlim(0, 5)\n",
    "ax.set_xlabel(r\"$x$\", fontsize=14)\n",
    "ax.set_ylabel(r\"$f(x, \\beta)$\", fontsize=14)\n",
    "ax.tick_params(which='both', direction='in')\n"
   ]
  },
  {
   "cell_type": "code",
   "execution_count": null,
   "metadata": {
    "slideshow": {
     "slide_type": "fragment"
    }
   },
   "outputs": [],
   "source": [
    "beta_opt, beta_cov = optimize.curve_fit(f, xdata, ydata); beta_opt # a convenience wrapper around optimize.leastsq\n"
   ]
  },
  {
   "cell_type": "markdown",
   "metadata": {
    "slideshow": {
     "slide_type": "slide"
    }
   },
   "source": [
    "## Constrained optimization"
   ]
  },
  {
   "cell_type": "markdown",
   "metadata": {
    "slideshow": {
     "slide_type": "fragment"
    }
   },
   "source": [
    "* A simple form of constrained optimization is the optimization where the coordinate variables\n",
    "are subject to some bounds. These constraints are simple\n",
    "because they only restrict the range of the coordinate without dependencies on the other variables"
   ]
  },
  {
   "cell_type": "markdown",
   "metadata": {
    "slideshow": {
     "slide_type": "fragment"
    }
   },
   "source": [
    "* This type of problem can be solved using the L-BFGS-B method in scipy, which is a variant of the BFGS method. This solver is available through the function `optimize.fmin_l_bgfs_b` or via `optimize.minimize` with the `method` argument set to `'L-BFGS-B'`. To define the coordinate boundaries, the `bounds` keyword argument must be used, and its value should be a list of tuples that contain the minimum and\n",
    "maximum value of each constrained variable"
   ]
  },
  {
   "cell_type": "markdown",
   "metadata": {
    "slideshow": {
     "slide_type": "subslide"
    }
   },
   "source": [
    "Consider minimizing the objective function \n",
    "\n",
    "> $f(x) = (x_1 - 1)^2 +(x_2 - 1)^2$ \n",
    "\n",
    "subject to the constraints \n",
    "\n",
    "> $2 \\leq x_1 \\leq 3\\text{ }$ and $\\text{ }0 \\leq x_2 \\leq 2$ ."
   ]
  },
  {
   "cell_type": "code",
   "execution_count": null,
   "metadata": {
    "slideshow": {
     "slide_type": "fragment"
    }
   },
   "outputs": [],
   "source": [
    "def f(X):\n",
    "    x_1, x_2 = X\n",
    "    return (x_1 -1)**2 +(x_2 -1)**2\n"
   ]
  },
  {
   "cell_type": "code",
   "execution_count": null,
   "metadata": {
    "slideshow": {
     "slide_type": "fragment"
    }
   },
   "outputs": [],
   "source": [
    "x_opt = optimize.minimize(f, (1, 1), method='BFGS').x; x_opt\n"
   ]
  },
  {
   "cell_type": "code",
   "execution_count": null,
   "metadata": {
    "slideshow": {
     "slide_type": "fragment"
    }
   },
   "outputs": [],
   "source": [
    "bnd_x1, bnd_x2 = (2, 3), (0, 2)\n",
    "x_cons_opt = optimize.minimize(f, (1, 1), method='L-BFGS-B', bounds=[bnd_x1, bnd_x2]).x; x_cons_opt\n"
   ]
  },
  {
   "cell_type": "code",
   "execution_count": null,
   "metadata": {
    "slideshow": {
     "slide_type": "subslide"
    }
   },
   "outputs": [],
   "source": [
    "x_ = y_ = np.linspace(-1, 3, 100)\n",
    "X, Y = np.meshgrid(x_, y_)\n",
    "\n",
    "fig, ax = plt.subplots(figsize=(8, 6))\n",
    "\n",
    "c = ax.contour(X, Y, func_X_Y_to_XY(f, X, Y), 50)\n",
    "ax.plot(x_opt[0], x_opt[1], 'b*', markersize=15)\n",
    "ax.plot(x_cons_opt[0], x_cons_opt[1], 'ro', markersize=14)\n",
    "bound_rect = plt.Rectangle((bnd_x1[0], bnd_x2[0]), \n",
    "                           bnd_x1[1] - bnd_x1[0], bnd_x2[1] - bnd_x2[0],\n",
    "                           facecolor=\"grey\")\n",
    "ax.add_patch(bound_rect)\n",
    "ax.set_xlabel(r\"$x_1$\", fontsize=14)\n",
    "ax.set_ylabel(r\"$x_2$\", fontsize=14)\n",
    "plt.colorbar(c, ax=ax)\n",
    "ax.tick_params(which='both', direction='in')\n"
   ]
  },
  {
   "cell_type": "markdown",
   "metadata": {
    "slideshow": {
     "slide_type": "skip"
    }
   },
   "source": [
    "---"
   ]
  },
  {
   "cell_type": "markdown",
   "metadata": {
    "slideshow": {
     "slide_type": "slide"
    }
   },
   "source": [
    "* Constraints that are defined by equalities or inequalities that include more than one variable are more\n",
    "complicated to deal with. However, using the Lagrange multipliers, it is possible to convert a constrained optimization problem to an unconstrained problem by introducing additional variables"
   ]
  },
  {
   "cell_type": "markdown",
   "metadata": {
    "slideshow": {
     "slide_type": "fragment"
    }
   },
   "source": [
    "* For example, consider the optimization problem $\\min_x f(x)$ subject to the equality constraint $g(x) = 0$. In an unconstrained optimization problem the gradient of $f(x)$ vanish at the optimal points, $\\nabla f(x) = 0$. It can be shown that the corresponding condition for constrained problems is that the negative gradient lies in the space supported by the constraint normal,\n",
    "$-\\nabla f(x) = \\lambda J_g^T(x)$. Here $J_g(x)$ is the Jacobian matrix of the constraint function $g(x)$ and $\\lambda$ is the vector of Lagrange multipliers (new variables). This condition is the gradient of the function $L(x, \\lambda) = f(x)+ \\lambda^T g(x)$,\n",
    "which is known as the Lagrangian function. Therefore, if both $f(x)$ and $g(x)$ have continuous and smooth, a stationary point $(x_0, \\lambda_0)$ of the $L(x, \\lambda)$ corresponds to an optimum of the original constrained optimization problem, $x_0$"
   ]
  },
  {
   "cell_type": "markdown",
   "metadata": {
    "slideshow": {
     "slide_type": "subslide"
    }
   },
   "source": [
    "* Consider the problem of maximizing the volume of a rectangle with\n",
    "sides of length $x_0$, $x_1$ and $x_2$, subject to the constraint that the total surface area should be unity:\n",
    "$g(x) = 2x_1 x_2 + 2x_0 x_2 + 2x_1 x_0 -1 = 0$. \n",
    "\n",
    "* To solve this optimization problem using Lagrange multipliers, we form the Lagrangian $L(x) = f(x)+ \\lambda g(x)$, and seek the stationary points for $L(x) = 0$"
   ]
  },
  {
   "cell_type": "code",
   "execution_count": null,
   "metadata": {
    "slideshow": {
     "slide_type": "fragment"
    }
   },
   "outputs": [],
   "source": [
    "x = x0, x1, x2, l = sympy.symbols(\"x_0, x_1, x_2, lambda\")\n",
    "f = x0 *x1 *x2\n",
    "g = 2 *(x0 *x1 +x1 *x2 +x2 *x0) -1\n",
    "L = f +l *g\n"
   ]
  },
  {
   "cell_type": "code",
   "execution_count": null,
   "metadata": {
    "slideshow": {
     "slide_type": "fragment"
    }
   },
   "outputs": [],
   "source": [
    "grad_L = [sympy.diff(L, x_) for x_ in x]\n",
    "sols = sympy.solve(grad_L); sols\n"
   ]
  },
  {
   "cell_type": "code",
   "execution_count": null,
   "metadata": {
    "slideshow": {
     "slide_type": "fragment"
    }
   },
   "outputs": [],
   "source": [
    "g.subs(sols[0])\n"
   ]
  },
  {
   "cell_type": "code",
   "execution_count": null,
   "metadata": {
    "slideshow": {
     "slide_type": "fragment"
    }
   },
   "outputs": [],
   "source": [
    "f.subs(sols[0])\n"
   ]
  },
  {
   "cell_type": "markdown",
   "metadata": {
    "slideshow": {
     "slide_type": "skip"
    }
   },
   "source": [
    "---"
   ]
  },
  {
   "cell_type": "markdown",
   "metadata": {
    "slideshow": {
     "slide_type": "slide"
    }
   },
   "source": [
    "* There exists various numerical methods of applying this approach. One example is the method known as sequential least squares programming, abbreviated as *SLSQP*, which is available in the scipy as the `optimize.fmin_slsqp` function and via `optimize.minimize` with `method='SLSQP'`. \n",
    "\n",
    "* The `optimize.minimize` function takes the keyword\n",
    "argument `constraints`, which should be a list of dictionaries that each specifies a constraint. The allowed\n",
    "keys (values) in this dictionary are `type` (`'eq'` or `'ineq'`), `fun` (constraint function), `jac` (Jacobian of the constraint function)"
   ]
  },
  {
   "cell_type": "code",
   "execution_count": null,
   "metadata": {
    "slideshow": {
     "slide_type": "fragment"
    }
   },
   "outputs": [],
   "source": [
    "def f(X):\n",
    "    return -X[0] *X[1] *X[2]\n",
    "\n",
    "def g(X):\n",
    "    return 2 *(X[0] *X[1] +X[1] *X[2] +X[2] *X[0]) -1\n"
   ]
  },
  {
   "cell_type": "code",
   "execution_count": null,
   "metadata": {
    "slideshow": {
     "slide_type": "fragment"
    }
   },
   "outputs": [],
   "source": [
    "constraints = [dict(type='eq', fun=g)]\n",
    "x_cons_opt = optimize.minimize(f, [0.5, 1, 1.5], method='SLSQP', constraints=constraints); x_cons_opt\n"
   ]
  },
  {
   "cell_type": "markdown",
   "metadata": {
    "slideshow": {
     "slide_type": "skip"
    }
   },
   "source": [
    "---"
   ]
  },
  {
   "cell_type": "markdown",
   "metadata": {
    "slideshow": {
     "slide_type": "subslide"
    }
   },
   "source": [
    "* To solve problems with inequality constraints, all we need to do is to set `type='ineq'` in the constraint\n",
    "dictionary and provide the corresponding inequality function. To demonstrate minimization of a nonlinear\n",
    "objective function with a nonlinear inequality constraint, we return to the quadratic problem considered\n",
    "previously, but in this case with inequality constraint $g(x) = x_1 -1.75 -(x_0 -0.75)^4 \\geq 0$"
   ]
  },
  {
   "cell_type": "code",
   "execution_count": null,
   "metadata": {
    "slideshow": {
     "slide_type": "fragment"
    }
   },
   "outputs": [],
   "source": [
    "def f(X):\n",
    "    return (X[0] -1)**2 + (X[1] -1)**2\n",
    "\n",
    "def g(X):\n",
    "    return X[1] -1.75 -(X[0] -0.75)**4\n"
   ]
  },
  {
   "cell_type": "code",
   "execution_count": null,
   "metadata": {
    "slideshow": {
     "slide_type": "fragment"
    }
   },
   "outputs": [],
   "source": [
    "x_opt = optimize.minimize(f, (0, 0), method='BFGS').x\n",
    "\n",
    "constraints = [dict(type='ineq', fun=g)]\n",
    "x_cons_opt = optimize.minimize(f, (0, 0), method='SLSQP', constraints=constraints).x; x_cons_opt\n"
   ]
  },
  {
   "cell_type": "code",
   "execution_count": null,
   "metadata": {
    "slideshow": {
     "slide_type": "subslide"
    }
   },
   "outputs": [],
   "source": [
    "x_ = y_ = np.linspace(-1, 3, 100)\n",
    "X, Y = np.meshgrid(x_, y_)\n",
    "\n",
    "fig, ax = plt.subplots(figsize=(8, 6))\n",
    "\n",
    "c = ax.contour(X, Y, func_X_Y_to_XY(f, X, Y), 50)\n",
    "ax.plot(x_opt[0], x_opt[1], 'bo', markersize=15)\n",
    "\n",
    "ax.plot(x_, 1.75 + (x_-0.75)**4, 'k-', lw=2)\n",
    "ax.fill_between(x_, 1.75 + (x_-0.75)**4, 3, color=\"grey\")\n",
    "ax.plot(x_cons_opt[0], x_cons_opt[1], 'ro', markersize=14)\n",
    "\n",
    "ax.set_ylim(-1, 3)\n",
    "ax.set_xlabel(r\"$x_0$\", fontsize=14)\n",
    "ax.set_ylabel(r\"$x_1$\", fontsize=14)\n",
    "plt.colorbar(c, ax=ax)\n",
    "ax.tick_params(which='both', direction='in')\n"
   ]
  },
  {
   "cell_type": "markdown",
   "metadata": {
    "slideshow": {
     "slide_type": "subslide"
    }
   },
   "source": [
    "* For optimization problems with only inequality constraints, $~$scipy provides an alternative solver using\n",
    "the constrained optimization by linear approximation (COBYLA) method. This solver is accessible either\n",
    "through `optimize.fmin_cobyla` or `optimize.minimize` with `method='COBYLA'`. The previous example could\n",
    "just as well have been solved with this solver, by replacing `method='SLSQP'` with `method='COBYLA'`"
   ]
  },
  {
   "cell_type": "markdown",
   "metadata": {
    "slideshow": {
     "slide_type": "slide"
    }
   },
   "source": [
    "### Linear programming"
   ]
  },
  {
   "cell_type": "markdown",
   "metadata": {
    "slideshow": {
     "slide_type": "fragment"
    }
   },
   "source": [
    "* The solution to linear optimization problem must necessarily lie on a constraint boundary,\n",
    "so it is sufficient to search the vertices of the intersections of the linear constraints functions. This can\n",
    "be done efficiently in practice. A popular algorithm for this type of problems is known as *simplex*, which\n",
    "systematically moves from one vertix to another until the optimal vertix has been reached\n",
    "\n",
    "* There are also more recent *interior point methods* that efficiently solve linear programming problems. With these methods, linear programming problems with thousands of variables and constraints are readily solvable"
   ]
  },
  {
   "cell_type": "markdown",
   "metadata": {
    "slideshow": {
     "slide_type": "subslide"
    }
   },
   "source": [
    "Linear programming problems are typically written in the so-called standard form: \n",
    "\n",
    "> $\\min_\\mathbf{x} \\mathbf{c}^T \\mathbf{x}$ \n",
    "\n",
    "where\n",
    "\n",
    "> $\\mathbf{A}\\mathbf{x} \\leq \\mathbf{b}\\text{ }$ and $\\text{ }\\mathbf{x} \\geq \\mathbf{0}$. \n",
    "\n",
    "Here $\\mathbf{c}$ and $\\mathbf{x}$ are vectors of length $n$, and $\\mathbf{A}$ is a $m \\times n$ matrix and $\\mathbf{b}$ a $m$-vector. "
   ]
  },
  {
   "cell_type": "markdown",
   "metadata": {
    "slideshow": {
     "slide_type": "subslide"
    }
   },
   "source": [
    "Consider the problem of minimizing the function \n",
    "\n",
    "> $f(x) = -x_0 + 2x_1 -3x_2$\n",
    "\n",
    "subject to the three inequality constraints \n",
    "\n",
    ">$x_0 +x_1 \\leq 1\\text{ }$, $ -x_0 + 3x_1 \\leq 2$, $\\text{ }$and $\\text{ }-x_1 +x_2 \\leq 3$. \n",
    "\n",
    "On the standard form,\n",
    "\n",
    ">$\\mathbf{c} = \\begin{pmatrix}\n",
    "-1\\\\ \n",
    "\\;\\;2\\\\ \n",
    "-3\n",
    "\\end{pmatrix}, \\:\\: \n",
    "\\mathbf{A} = \\begin{pmatrix}\n",
    "\\;\\;1 & \\;\\;1 & 0\\\\ \n",
    " -1& \\;\\;3 & 0\\\\ \n",
    "\\;\\;0 & -1 & 1\n",
    "\\end{pmatrix}\\:\\:\n",
    "\\mathbf{b} = \\begin{pmatrix}\n",
    "1\\\\ \n",
    "2\\\\\n",
    "3\n",
    "\\end{pmatrix}$"
   ]
  },
  {
   "cell_type": "markdown",
   "metadata": {
    "slideshow": {
     "slide_type": "subslide"
    }
   },
   "source": [
    "To solve this problem, here we use the `cvxopt` library, which provides the linear programming solver\n",
    "with the `cvxopt.solvers.lp` function\n"
   ]
  },
  {
   "cell_type": "code",
   "execution_count": null,
   "metadata": {
    "slideshow": {
     "slide_type": "fragment"
    }
   },
   "outputs": [],
   "source": [
    "c = cvxopt.matrix([-1.0, 2.0, -3.0])\n",
    "A = cvxopt.matrix([[ 1.0, 1.0, 0.0],\n",
    "                  [-1.0, 3.0, 0.0],\n",
    "                  [ 0.0, -1.0, 1.0]])\n",
    "b = cvxopt.matrix([1.0, 2.0, 3.0])\n"
   ]
  },
  {
   "cell_type": "code",
   "execution_count": null,
   "metadata": {
    "slideshow": {
     "slide_type": "fragment"
    }
   },
   "outputs": [],
   "source": [
    "sol = cvxopt.solvers.lp(c, A, b)\n"
   ]
  },
  {
   "cell_type": "code",
   "execution_count": null,
   "metadata": {
    "slideshow": {
     "slide_type": "subslide"
    }
   },
   "outputs": [],
   "source": [
    "x = np.array(sol['x']); x\n"
   ]
  },
  {
   "cell_type": "code",
   "execution_count": null,
   "metadata": {
    "slideshow": {
     "slide_type": "fragment"
    }
   },
   "outputs": [],
   "source": [
    "sol['primal objective']\n"
   ]
  },
  {
   "cell_type": "markdown",
   "metadata": {
    "slideshow": {
     "slide_type": "subslide"
    }
   },
   "source": [
    "### Quadratic programming"
   ]
  },
  {
   "cell_type": "markdown",
   "metadata": {
    "slideshow": {
     "slide_type": "fragment"
    }
   },
   "source": [
    "Quadratic programming problems are typically written in the so-called standard form:\n",
    "\n",
    ">$\\min_\\mathbf{x}\\frac{1}{2} \\mathbf{x}^T \\mathbf{Q} \\mathbf{x} +\\mathbf{p}^T\\mathbf{x}$\n",
    "\n",
    "subject to \n",
    "\n",
    ">$\\mathbf{G}\\mathbf{x} \\leq \\mathbf{h}\\text{ }$ and $\\text{ }\\mathbf{A}\\mathbf{x} = \\mathbf{b}$"
   ]
  },
  {
   "cell_type": "markdown",
   "metadata": {
    "slideshow": {
     "slide_type": "subslide"
    }
   },
   "source": [
    "Quadratic programs can be solved via the `cvxopt.solvers.qp()` function. \n",
    "\n",
    "As an example, consider the following QP: \n",
    "\n",
    ">$\\min_{x_1, x_2} 2x_1^2 +x_2^2 +x_1 x_2 + x_1 +x_2$ \n",
    "\n",
    "subject to \n",
    "\n",
    ">$x_1 \\geq 0$, $~$$x_2 \\geq 0\\text{ }$ and $\\text{ }x_1 +x_2 =1$"
   ]
  },
  {
   "cell_type": "code",
   "execution_count": null,
   "metadata": {
    "slideshow": {
     "slide_type": "fragment"
    }
   },
   "outputs": [],
   "source": [
    "Q = 2*cvxopt.matrix([[2, 0.5], [0.5, 1]])\n",
    "p = cvxopt.matrix([1.0, 1.0])\n",
    "G = cvxopt.matrix([[-1.0, 0.0], [0.0,-1.0]])\n",
    "h = cvxopt.matrix([0.0, 0.0])\n",
    "A = cvxopt.matrix([1.0, 1.0], (1, 2))\n",
    "b = cvxopt.matrix(1.0)\n",
    "sol = cvxopt.solvers.qp(Q, p, G, h, A, b)\n"
   ]
  },
  {
   "cell_type": "code",
   "execution_count": null,
   "metadata": {
    "slideshow": {
     "slide_type": "subslide"
    }
   },
   "outputs": [],
   "source": [
    "x = np.array(sol['x']); x\n"
   ]
  },
  {
   "cell_type": "code",
   "execution_count": null,
   "metadata": {
    "slideshow": {
     "slide_type": "fragment"
    }
   },
   "outputs": [],
   "source": [
    "sol['primal objective']\n"
   ]
  },
  {
   "cell_type": "markdown",
   "metadata": {
    "slideshow": {
     "slide_type": "subslide"
    }
   },
   "source": [
    "## Versions"
   ]
  },
  {
   "cell_type": "code",
   "execution_count": null,
   "metadata": {
    "slideshow": {
     "slide_type": "fragment"
    }
   },
   "outputs": [],
   "source": [
    "from scipy import __version__\n",
    "print(\"numpy: \", np.__version__)\n",
    "print(\"sympy: \", sympy.__version__)\n",
    "print(\"scipy: \", __version__)\n",
    "print(\"matplotlib: \", mpl.__version__)\n",
    "print(\"cvxopt: \", cvxopt.__version__)\n"
   ]
  }
 ],
 "metadata": {
  "celltoolbar": "Slideshow",
  "kernelspec": {
   "display_name": "Python 3",
   "language": "python",
   "name": "python3"
  },
  "language_info": {
   "codemirror_mode": {
    "name": "ipython",
    "version": 3
   },
   "file_extension": ".py",
   "mimetype": "text/x-python",
   "name": "python",
   "nbconvert_exporter": "python",
   "pygments_lexer": "ipython3",
   "version": "3.8.8"
  }
 },
 "nbformat": 4,
 "nbformat_minor": 4
}
