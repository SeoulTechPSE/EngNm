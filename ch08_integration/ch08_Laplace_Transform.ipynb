{
 "cells": [
  {
   "cell_type": "markdown",
   "metadata": {},
   "source": [
    "## Laplace Transform Expansion - Examples"
   ]
  },
  {
   "cell_type": "code",
   "execution_count": 1,
   "metadata": {},
   "outputs": [],
   "source": [
    "import sympy\n",
    "from sympy import laplace_transform, integrate\n",
    "sympy.init_printing()\n",
    "\n",
    "%run laplace_transform_expansion.ipynb"
   ]
  },
  {
   "cell_type": "code",
   "execution_count": 2,
   "metadata": {},
   "outputs": [],
   "source": [
    "a, b = sympy.symbols(\"a, b\", positive=True, constant=True)\n",
    "n, m = sympy.symbols(\"n, m\", positive=True, constant=True, integer=True)\n",
    "\n",
    "t, tau, tau1, tau2 = sympy.symbols(\"t, tau, tau1, tau2\", positive=True)\n",
    "\n",
    "y = sympy.Function(\"y\")\n",
    "f = sympy.Function(\"f\")\n",
    "g = sympy.Function(\"g\")\n",
    "\n",
    "s = sympy.symbols(\"s\")\n",
    "\n",
    "Y = sympy.Function(\"Y\")\n",
    "F = sympy.Function(\"F\")\n",
    "G = sympy.Function(\"G\")\n",
    "\n",
    "Ly = sympy.laplace_transform(y(t), t, s)\n",
    "Lf = sympy.laplace_transform(f(t), t, s)\n",
    "Lg = sympy.laplace_transform(g(t), t, s)"
   ]
  },
  {
   "cell_type": "markdown",
   "metadata": {},
   "source": [
    "**Laplace transforms of derivatives**"
   ]
  },
  {
   "cell_type": "code",
   "execution_count": 3,
   "metadata": {},
   "outputs": [
    {
     "data": {
      "image/png": "[encoded data removed]",
      "text/latex": [
       "$\\displaystyle 10 y{\\left(t \\right)} + 2 \\frac{d}{d t} y{\\left(t \\right)} + \\frac{d^{2}}{d t^{2}} y{\\left(t \\right)}$"
      ],
      "text/plain": [
       "                         2      \n",
       "            d           d       \n",
       "10⋅y(t) + 2⋅──(y(t)) + ───(y(t))\n",
       "            dt           2      \n",
       "                       dt       "
      ]
     },
     "execution_count": 3,
     "metadata": {},
     "output_type": "execute_result"
    }
   ],
   "source": [
    "expr1 = y(t).diff(t, 2) +2 *y(t).diff(t) +10 *y(t); expr1"
   ]
  },
  {
   "cell_type": "code",
   "execution_count": 4,
   "metadata": {},
   "outputs": [
    {
     "data": {
      "image/png": "[encoded data removed]",
      "text/latex": [
       "$\\displaystyle s^{2} Y{\\left(s \\right)} + 2 s Y{\\left(s \\right)} - s y{\\left(0 \\right)} + 10 Y{\\left(s \\right)} - 2 y{\\left(0 \\right)} - \\left. \\frac{d}{d t} y{\\left(t \\right)} \\right|_{\\substack{ t=0 }}$"
      ],
      "text/plain": [
       " 2                                               ⎛d       ⎞│   \n",
       "s ⋅Y(s) + 2⋅s⋅Y(s) - s⋅y(0) + 10⋅Y(s) - 2⋅y(0) - ⎜──(y(t))⎟│   \n",
       "                                                 ⎝dt      ⎠│t=0"
      ]
     },
     "execution_count": 4,
     "metadata": {},
     "output_type": "execute_result"
    }
   ],
   "source": [
    "Lexpr1 = laplace_transform_expansion(laplace_transform(expr1, t, s, noconds=True)).subs(Ly, Y(s)); Lexpr1"
   ]
  },
  {
   "cell_type": "code",
   "execution_count": 5,
   "metadata": {},
   "outputs": [
    {
     "data": {
      "image/png": "[encoded data removed]",
      "text/latex": [
       "$\\displaystyle s^{2} Y{\\left(s \\right)} + 2 s Y{\\left(s \\right)} - s + 10 Y{\\left(s \\right)} - 3$"
      ],
      "text/plain": [
       " 2                                  \n",
       "s ⋅Y(s) + 2⋅s⋅Y(s) - s + 10⋅Y(s) - 3"
      ]
     },
     "execution_count": 5,
     "metadata": {},
     "output_type": "execute_result"
    }
   ],
   "source": [
    "ics = {y(0): 1, y(t).diff(t).subs(t, 0): 1}\n",
    "\n",
    "Lexpr1 = Lexpr1.subs(ics); Lexpr1"
   ]
  },
  {
   "cell_type": "code",
   "execution_count": 6,
   "metadata": {},
   "outputs": [
    {
     "data": {
      "image/png": "[encoded data removed]",
      "text/latex": [
       "$\\displaystyle \\frac{s + 3}{s^{2} + 2 s + 10}$"
      ],
      "text/plain": [
       "    s + 3    \n",
       "─────────────\n",
       " 2           \n",
       "s  + 2⋅s + 10"
      ]
     },
     "execution_count": 6,
     "metadata": {},
     "output_type": "execute_result"
    }
   ],
   "source": [
    "sol = sympy.solve(Lexpr1, Y(s)); sol[0]"
   ]
  },
  {
   "cell_type": "markdown",
   "metadata": {},
   "source": [
    "**Laplace transforms of integrals**"
   ]
  },
  {
   "cell_type": "code",
   "execution_count": 7,
   "metadata": {},
   "outputs": [
    {
     "data": {
      "image/png": "[encoded data removed]",
      "text/latex": [
       "$\\displaystyle \\int\\limits_{0}^{t} f{\\left(\\tau \\right)} g{\\left(t - \\tau \\right)}\\, d\\tau + \\int\\limits_{0}^{t} f{\\left(t - \\tau \\right)} g{\\left(\\tau \\right)}\\, d\\tau + \\int\\limits_{0}^{t} g{\\left(\\tau_{1} \\right)}\\, d\\tau_{1} + \\int\\limits_{0}^{t}\\int\\limits_{0}^{\\tau_{1}} f{\\left(\\tau_{2} \\right)}\\, d\\tau_{2}\\, d\\tau_{1}$"
      ],
      "text/plain": [
       "t                    t                    t               t τ₁                \n",
       "⌠                    ⌠                    ⌠               ⌠ ⌠                 \n",
       "⎮ f(τ)⋅g(t - τ) dτ + ⎮ f(t - τ)⋅g(τ) dτ + ⎮ g(τ₁) d(τ₁) + ⎮ ⎮  f(τ₂) d(τ₂) d(τ\n",
       "⌡                    ⌡                    ⌡               ⌡ ⌡                 \n",
       "0                    0                    0               0 0                 \n",
       "\n",
       "  \n",
       "  \n",
       "₁)\n",
       "  \n",
       "  "
      ]
     },
     "execution_count": 7,
     "metadata": {},
     "output_type": "execute_result"
    }
   ],
   "source": [
    "expr2 = integrate(g(tau1), (tau1, 0, t)) +integrate(integrate(f(tau2), (tau2, 0, tau1)), (tau1, 0, t)) +integrate(f(tau)*g(t -tau), (tau, 0, t)) +integrate(f(t -tau)*g(tau), (tau, 0, t)); expr2"
   ]
  },
  {
   "cell_type": "code",
   "execution_count": 8,
   "metadata": {},
   "outputs": [
    {
     "data": {
      "image/png": "[encoded data removed]",
      "text/latex": [
       "$\\displaystyle 2 F{\\left(s \\right)} G{\\left(s \\right)} + \\frac{G{\\left(s \\right)}}{s} + \\frac{F{\\left(s \\right)}}{s^{2}}$"
      ],
      "text/plain": [
       "              G(s)   F(s)\n",
       "2⋅F(s)⋅G(s) + ──── + ────\n",
       "               s       2 \n",
       "                      s  "
      ]
     },
     "execution_count": 8,
     "metadata": {},
     "output_type": "execute_result"
    }
   ],
   "source": [
    "Lexpr2 = laplace_transform_expansion(laplace_transform(expr2, t, s, noconds=True)).subs(Lf, F(s)).subs(Lg, G(s)); Lexpr2"
   ]
  },
  {
   "cell_type": "markdown",
   "metadata": {},
   "source": [
    "---"
   ]
  },
  {
   "cell_type": "code",
   "execution_count": 9,
   "metadata": {},
   "outputs": [
    {
     "data": {
      "image/png": "[encoded data removed]",
      "text/latex": [
       "$\\displaystyle y{\\left(t \\right)} e^{2 t} e^{- 2 a t} e^{b t}$"
      ],
      "text/plain": [
       "      2⋅t  -2⋅a⋅t  b⋅t\n",
       "y(t)⋅ℯ   ⋅ℯ      ⋅ℯ   "
      ]
     },
     "execution_count": 9,
     "metadata": {},
     "output_type": "execute_result"
    }
   ],
   "source": [
    "expr3 = y(t) *sympy.exp(-2 *a *t) *sympy.exp(2 *t) *sympy.exp(b *t); expr3"
   ]
  },
  {
   "cell_type": "code",
   "execution_count": 10,
   "metadata": {},
   "outputs": [
    {
     "data": {
      "image/png": "[encoded data removed]",
      "text/latex": [
       "$\\displaystyle \\mathcal{L}_{t}\\left[y{\\left(t \\right)}\\right]\\left(2 a - b + s - 2\\right)$"
      ],
      "text/plain": [
       "LaplaceTransform(y(t), t, 2⋅a - b + s - 2)"
      ]
     },
     "execution_count": 10,
     "metadata": {},
     "output_type": "execute_result"
    }
   ],
   "source": [
    "Lexpr3 = laplace_transform_expansion(laplace_transform(expr3, t, s)); Lexpr3"
   ]
  },
  {
   "cell_type": "code",
   "execution_count": 11,
   "metadata": {},
   "outputs": [
    {
     "data": {
      "image/png": "[encoded data removed]",
      "text/latex": [
       "$\\displaystyle Y{\\left(2 a - b + s - 2 \\right)}$"
      ],
      "text/plain": [
       "Y(2⋅a - b + s - 2)"
      ]
     },
     "execution_count": 11,
     "metadata": {},
     "output_type": "execute_result"
    }
   ],
   "source": [
    "arg = Lexpr3.args[-1]\n",
    "Lexpr3 = Lexpr3.subs(arg, s).subs(Ly, Y(s)).subs(s, arg); Lexpr3"
   ]
  },
  {
   "cell_type": "markdown",
   "metadata": {},
   "source": [
    "---"
   ]
  },
  {
   "cell_type": "code",
   "execution_count": 12,
   "metadata": {},
   "outputs": [
    {
     "data": {
      "image/png": "[encoded data removed]",
      "text/latex": [
       "$\\displaystyle 3 t^{m} t^{n} f{\\left(t \\right)}$"
      ],
      "text/plain": [
       "   m  n     \n",
       "3⋅t ⋅t ⋅f(t)"
      ]
     },
     "execution_count": 12,
     "metadata": {},
     "output_type": "execute_result"
    }
   ],
   "source": [
    "expr4 = 3 *f(t) *t**m *t**n; expr4"
   ]
  },
  {
   "cell_type": "code",
   "execution_count": 13,
   "metadata": {},
   "outputs": [
    {
     "data": {
      "image/png": "[encoded data removed]",
      "text/latex": [
       "$\\displaystyle 3 \\left(-1\\right)^{m + n} \\frac{d^{m + n}}{d s^{m + n}} F{\\left(s \\right)}$"
      ],
      "text/plain": [
       "              m + n      \n",
       "      m + n  d           \n",
       "3⋅(-1)     ⋅───────(F(s))\n",
       "              m + n      \n",
       "            ds           "
      ]
     },
     "execution_count": 13,
     "metadata": {},
     "output_type": "execute_result"
    }
   ],
   "source": [
    "Lexpr4 = laplace_transform_expansion(laplace_transform(expr4, t, s)).subs(Lf, F(s)); Lexpr4"
   ]
  },
  {
   "cell_type": "markdown",
   "metadata": {},
   "source": [
    "---"
   ]
  },
  {
   "cell_type": "code",
   "execution_count": 14,
   "metadata": {},
   "outputs": [
    {
     "data": {
      "image/png": "[encoded data removed]",
      "text/latex": [
       "$\\displaystyle t^{m} t^{n} f{\\left(t \\right)} e^{- 2 t}$"
      ],
      "text/plain": [
       " m  n       -2⋅t\n",
       "t ⋅t ⋅f(t)⋅ℯ    "
      ]
     },
     "execution_count": 14,
     "metadata": {},
     "output_type": "execute_result"
    }
   ],
   "source": [
    "expr5 = f(t) *t**n *t**m *sympy.exp(-2*t); expr5"
   ]
  },
  {
   "cell_type": "code",
   "execution_count": 15,
   "metadata": {},
   "outputs": [
    {
     "data": {
      "image/png": "[encoded data removed]",
      "text/latex": [
       "$\\displaystyle \\left(-1\\right)^{m + n} \\left. \\frac{d^{m + n}}{d s^{m + n}} \\mathcal{L}_{t}\\left[f{\\left(t \\right)}\\right]\\left(s\\right) \\right|_{\\substack{ s=s + 2 }}$"
      ],
      "text/plain": [
       "          ⎛  m + n                              ⎞│       \n",
       "    m + n ⎜ d                                   ⎟│       \n",
       "(-1)     ⋅⎜───────(LaplaceTransform(f(t), t, s))⎟│       \n",
       "          ⎜  m + n                              ⎟│       \n",
       "          ⎝ds                                   ⎠│s=s + 2"
      ]
     },
     "execution_count": 15,
     "metadata": {},
     "output_type": "execute_result"
    }
   ],
   "source": [
    "Lexpr5 = laplace_transform_expansion(laplace_transform(expr5, t, s)); Lexpr5"
   ]
  },
  {
   "cell_type": "code",
   "execution_count": 16,
   "metadata": {},
   "outputs": [
    {
     "data": {
      "image/png": "[encoded data removed]",
      "text/latex": [
       "$\\displaystyle \\left(-1\\right)^{m + n} \\left. \\frac{d^{m + n}}{d s^{m + n}} F{\\left(s \\right)} \\right|_{\\substack{ s=s + 2 }}$"
      ],
      "text/plain": [
       "          ⎛  m + n      ⎞│       \n",
       "    m + n ⎜ d           ⎟│       \n",
       "(-1)     ⋅⎜───────(F(s))⎟│       \n",
       "          ⎜  m + n      ⎟│       \n",
       "          ⎝ds           ⎠│s=s + 2"
      ]
     },
     "execution_count": 16,
     "metadata": {},
     "output_type": "execute_result"
    }
   ],
   "source": [
    "Lexpr5 = Lexpr5.subs(Lf, F(s)); Lexpr5"
   ]
  },
  {
   "cell_type": "markdown",
   "metadata": {},
   "source": [
    "---"
   ]
  },
  {
   "cell_type": "code",
   "execution_count": 17,
   "metadata": {},
   "outputs": [
    {
     "data": {
      "image/png": "[encoded data removed]",
      "text/latex": [
       "$\\displaystyle f{\\left(- a + t \\right)} \\theta\\left(- a + t\\right)$"
      ],
      "text/plain": [
       "f(-a + t)⋅θ(-a + t)"
      ]
     },
     "execution_count": 17,
     "metadata": {},
     "output_type": "execute_result"
    }
   ],
   "source": [
    "expr6 = f(t -a) *sympy.Heaviside(t -a); expr6"
   ]
  },
  {
   "cell_type": "code",
   "execution_count": 18,
   "metadata": {},
   "outputs": [
    {
     "data": {
      "image/png": "[encoded data removed]",
      "text/latex": [
       "$\\displaystyle F{\\left(s \\right)} e^{- a s}$"
      ],
      "text/plain": [
       "      -a⋅s\n",
       "F(s)⋅ℯ    "
      ]
     },
     "execution_count": 18,
     "metadata": {},
     "output_type": "execute_result"
    }
   ],
   "source": [
    "Lexpr6 = laplace_transform_expansion(laplace_transform(expr6, t, s)).subs(Lf, F(s)); Lexpr6"
   ]
  },
  {
   "cell_type": "markdown",
   "metadata": {},
   "source": [
    "---"
   ]
  },
  {
   "cell_type": "code",
   "execution_count": 19,
   "metadata": {},
   "outputs": [
    {
     "data": {
      "image/png": "[encoded data removed]",
      "text/latex": [
       "$\\displaystyle f{\\left(t \\right)} \\theta\\left(- a + t\\right)$"
      ],
      "text/plain": [
       "f(t)⋅θ(-a + t)"
      ]
     },
     "execution_count": 19,
     "metadata": {},
     "output_type": "execute_result"
    }
   ],
   "source": [
    "expr7 = sympy.Heaviside(t -a)*f(t); expr7"
   ]
  },
  {
   "cell_type": "code",
   "execution_count": 20,
   "metadata": {},
   "outputs": [
    {
     "data": {
      "image/png": "[encoded data removed]",
      "text/latex": [
       "$\\displaystyle \\mathcal{L}_{t}\\left[f{\\left(a + t \\right)}\\right]\\left(s\\right) e^{- a s}$"
      ],
      "text/plain": [
       "                                  -a⋅s\n",
       "LaplaceTransform(f(a + t), t, s)⋅ℯ    "
      ]
     },
     "execution_count": 20,
     "metadata": {},
     "output_type": "execute_result"
    }
   ],
   "source": [
    "Lexpr7 = laplace_transform_expansion(laplace_transform(expr7, t, s)); Lexpr7"
   ]
  },
  {
   "cell_type": "markdown",
   "metadata": {},
   "source": [
    "---"
   ]
  },
  {
   "cell_type": "code",
   "execution_count": 21,
   "metadata": {},
   "outputs": [
    {
     "data": {
      "image/png": "[encoded data removed]",
      "text/latex": [
       "$\\displaystyle t^{n} \\frac{d^{2}}{d t^{2}} f{\\left(t \\right)}$"
      ],
      "text/plain": [
       "     2      \n",
       " n  d       \n",
       "t ⋅───(f(t))\n",
       "     2      \n",
       "   dt       "
      ]
     },
     "execution_count": 21,
     "metadata": {},
     "output_type": "execute_result"
    }
   ],
   "source": [
    "expr8 = t**n *sympy.diff(f(t), t, t); expr8"
   ]
  },
  {
   "cell_type": "code",
   "execution_count": 22,
   "metadata": {},
   "outputs": [
    {
     "data": {
      "image/png": "[encoded data removed]",
      "text/latex": [
       "$\\displaystyle \\left(-1\\right)^{n} \\frac{d^{n}}{d s^{n}} \\left(s^{2} F{\\left(s \\right)} - s f{\\left(0 \\right)} - \\left. \\frac{d}{d t} f{\\left(t \\right)} \\right|_{\\substack{ t=0 }}\\right)$"
      ],
      "text/plain": [
       "        n                                   \n",
       "    n  d ⎛ 2                 ⎛d       ⎞│   ⎞\n",
       "(-1) ⋅───⎜s ⋅F(s) - s⋅f(0) - ⎜──(f(t))⎟│   ⎟\n",
       "        n⎝                   ⎝dt      ⎠│t=0⎠\n",
       "      ds                                    "
      ]
     },
     "execution_count": 22,
     "metadata": {},
     "output_type": "execute_result"
    }
   ],
   "source": [
    "Lexpr8 = laplace_transform_expansion(laplace_transform(expr8, t, s)).subs(Lf, F(s)); Lexpr8"
   ]
  },
  {
   "cell_type": "markdown",
   "metadata": {},
   "source": [
    "---"
   ]
  },
  {
   "cell_type": "code",
   "execution_count": 23,
   "metadata": {},
   "outputs": [
    {
     "data": {
      "image/png": "[encoded data removed]",
      "text/latex": [
       "$\\displaystyle t \\int\\limits_{0}^{t} f{\\left(\\tau \\right)}\\, d\\tau$"
      ],
      "text/plain": [
       "  t        \n",
       "  ⌠        \n",
       "t⋅⎮ f(τ) dτ\n",
       "  ⌡        \n",
       "  0        "
      ]
     },
     "execution_count": 23,
     "metadata": {},
     "output_type": "execute_result"
    }
   ],
   "source": [
    "expr9 = t *sympy.integrate(f(tau), (tau, 0, t)); expr9"
   ]
  },
  {
   "cell_type": "code",
   "execution_count": 24,
   "metadata": {},
   "outputs": [
    {
     "data": {
      "image/png": "[encoded data removed]",
      "text/latex": [
       "$\\displaystyle - \\frac{\\frac{d}{d s} F{\\left(s \\right)}}{s} + \\frac{F{\\left(s \\right)}}{s^{2}}$"
      ],
      "text/plain": [
       "  d              \n",
       "  ──(F(s))       \n",
       "  ds         F(s)\n",
       "- ──────── + ────\n",
       "     s         2 \n",
       "              s  "
      ]
     },
     "execution_count": 24,
     "metadata": {},
     "output_type": "execute_result"
    }
   ],
   "source": [
    "Lexpr9 = laplace_transform_expansion(laplace_transform(expr9, t, s)).subs(Lf, F(s)); Lexpr9"
   ]
  },
  {
   "cell_type": "markdown",
   "metadata": {},
   "source": [
    "---"
   ]
  },
  {
   "cell_type": "code",
   "execution_count": 25,
   "metadata": {},
   "outputs": [
    {
     "data": {
      "image/png": "[encoded data removed]",
      "text/latex": [
       "$\\displaystyle t f{\\left(t \\right)} e^{- t}$"
      ],
      "text/plain": [
       "        -t\n",
       "t⋅f(t)⋅ℯ  "
      ]
     },
     "execution_count": 25,
     "metadata": {},
     "output_type": "execute_result"
    }
   ],
   "source": [
    "expr10 = t *f(t) *sympy.exp(-t); expr10"
   ]
  },
  {
   "cell_type": "code",
   "execution_count": 26,
   "metadata": {},
   "outputs": [
    {
     "data": {
      "image/png": "[encoded data removed]",
      "text/latex": [
       "$\\displaystyle - \\left. \\frac{d}{d s} F{\\left(s \\right)} \\right|_{\\substack{ s=s + 1 }}$"
      ],
      "text/plain": [
       " ⎛d       ⎞│       \n",
       "-⎜──(F(s))⎟│       \n",
       " ⎝ds      ⎠│s=s + 1"
      ]
     },
     "execution_count": 26,
     "metadata": {},
     "output_type": "execute_result"
    }
   ],
   "source": [
    "Lexpr10 = laplace_transform_expansion(laplace_transform(expr10, t, s)).subs(Lf, F(s)); Lexpr10"
   ]
  },
  {
   "cell_type": "markdown",
   "metadata": {},
   "source": [
    "---"
   ]
  },
  {
   "cell_type": "code",
   "execution_count": 27,
   "metadata": {},
   "outputs": [
    {
     "data": {
      "image/png": "[encoded data removed]",
      "text/latex": [
       "$\\displaystyle t^{2} f{\\left(t \\right)} e^{- t}$"
      ],
      "text/plain": [
       " 2       -t\n",
       "t ⋅f(t)⋅ℯ  "
      ]
     },
     "execution_count": 27,
     "metadata": {},
     "output_type": "execute_result"
    }
   ],
   "source": [
    "expr11 = t**2 *f(t) *sympy.exp(-t); expr11"
   ]
  },
  {
   "cell_type": "code",
   "execution_count": 28,
   "metadata": {},
   "outputs": [
    {
     "data": {
      "image/png": "[encoded data removed]",
      "text/latex": [
       "$\\displaystyle \\left. \\frac{d^{2}}{d s^{2}} F{\\left(s \\right)} \\right|_{\\substack{ s=s + 1 }}$"
      ],
      "text/plain": [
       "⎛  2      ⎞│       \n",
       "⎜ d       ⎟│       \n",
       "⎜───(F(s))⎟│       \n",
       "⎜  2      ⎟│       \n",
       "⎝ds       ⎠│s=s + 1"
      ]
     },
     "execution_count": 28,
     "metadata": {},
     "output_type": "execute_result"
    }
   ],
   "source": [
    "Lexpr11 = laplace_transform_expansion(laplace_transform(expr11, t, s)).subs(Lf, F(s)); Lexpr11"
   ]
  },
  {
   "cell_type": "markdown",
   "metadata": {},
   "source": [
    "---"
   ]
  },
  {
   "cell_type": "code",
   "execution_count": 29,
   "metadata": {},
   "outputs": [
    {
     "data": {
      "image/png": "[encoded data removed]",
      "text/latex": [
       "$\\displaystyle t e^{- 4 t} \\frac{d}{d t} f{\\left(t \\right)}$"
      ],
      "text/plain": [
       "   -4⋅t d       \n",
       "t⋅ℯ    ⋅──(f(t))\n",
       "        dt      "
      ]
     },
     "execution_count": 29,
     "metadata": {},
     "output_type": "execute_result"
    }
   ],
   "source": [
    "expr12 = t *sympy.diff(f(t), t) *sympy.exp(-4*t); expr12"
   ]
  },
  {
   "cell_type": "code",
   "execution_count": 30,
   "metadata": {},
   "outputs": [
    {
     "data": {
      "image/png": "[encoded data removed]",
      "text/latex": [
       "$\\displaystyle - \\left(s + 4\\right) \\left. \\frac{d}{d s} \\mathcal{L}_{t}\\left[f{\\left(t \\right)}\\right]\\left(s\\right) \\right|_{\\substack{ s=s + 4 }} - \\mathcal{L}_{t}\\left[f{\\left(t \\right)}\\right]\\left(s + 4\\right)$"
      ],
      "text/plain": [
       "          ⎛d                               ⎞│                                 \n",
       "- (s + 4)⋅⎜──(LaplaceTransform(f(t), t, s))⎟│        - LaplaceTransform(f(t), \n",
       "          ⎝ds                              ⎠│s=s + 4                          \n",
       "\n",
       "         \n",
       "t, s + 4)\n",
       "         "
      ]
     },
     "execution_count": 30,
     "metadata": {},
     "output_type": "execute_result"
    }
   ],
   "source": [
    "Lexpr12 = laplace_transform_expansion(laplace_transform(expr12, t, s)); Lexpr12"
   ]
  },
  {
   "cell_type": "code",
   "execution_count": 31,
   "metadata": {},
   "outputs": [
    {
     "data": {
      "image/png": "[encoded data removed]",
      "text/latex": [
       "$\\displaystyle - \\left(s + 4\\right) \\left. \\frac{d}{d s} F{\\left(s \\right)} \\right|_{\\substack{ s=s + 4 }} - F{\\left(s + 4 \\right)}$"
      ],
      "text/plain": [
       "          ⎛d       ⎞│                  \n",
       "- (s + 4)⋅⎜──(F(s))⎟│        - F(s + 4)\n",
       "          ⎝ds      ⎠│s=s + 4           "
      ]
     },
     "execution_count": 31,
     "metadata": {},
     "output_type": "execute_result"
    }
   ],
   "source": [
    "Lf_ = laplace_transform(f(t), t, s +4)\n",
    "Lexpr12 = Lexpr12.subs(Lf, F(s)).subs(Lf_, F(s +4)); Lexpr12"
   ]
  },
  {
   "cell_type": "markdown",
   "metadata": {},
   "source": [
    "---"
   ]
  },
  {
   "cell_type": "code",
   "execution_count": 32,
   "metadata": {},
   "outputs": [
    {
     "data": {
      "image/png": "[encoded data removed]",
      "text/latex": [
       "$\\displaystyle - t^{2} f{\\left(t \\right)} e^{- t} + t^{2} e^{- t} \\frac{d}{d t} f{\\left(t \\right)} + 2 t f{\\left(t \\right)} e^{- t}$"
      ],
      "text/plain": [
       "   2       -t    2  -t d                    -t\n",
       "- t ⋅f(t)⋅ℯ   + t ⋅ℯ  ⋅──(f(t)) + 2⋅t⋅f(t)⋅ℯ  \n",
       "                       dt                     "
      ]
     },
     "execution_count": 32,
     "metadata": {},
     "output_type": "execute_result"
    }
   ],
   "source": [
    "expr13 = sympy.diff(f(t) *t**2 *sympy.exp(-t), t); expr13"
   ]
  },
  {
   "cell_type": "code",
   "execution_count": 33,
   "metadata": {},
   "outputs": [
    {
     "data": {
      "image/png": "[encoded data removed]",
      "text/latex": [
       "$\\displaystyle \\left(s + 1\\right) \\left. \\frac{d^{2}}{d s^{2}} \\mathcal{L}_{t}\\left[f{\\left(t \\right)}\\right]\\left(s\\right) \\right|_{\\substack{ s=s + 1 }} - \\left. \\frac{d^{2}}{d s^{2}} \\mathcal{L}_{t}\\left[f{\\left(t \\right)}\\right]\\left(s\\right) \\right|_{\\substack{ s=s + 1 }}$"
      ],
      "text/plain": [
       "        ⎛  2                              ⎞│          ⎛  2                    \n",
       "        ⎜ d                               ⎟│          ⎜ d                     \n",
       "(s + 1)⋅⎜───(LaplaceTransform(f(t), t, s))⎟│        - ⎜───(LaplaceTransform(f(\n",
       "        ⎜  2                              ⎟│          ⎜  2                    \n",
       "        ⎝ds                               ⎠│s=s + 1   ⎝ds                     \n",
       "\n",
       "          ⎞│       \n",
       "          ⎟│       \n",
       "t), t, s))⎟│       \n",
       "          ⎟│       \n",
       "          ⎠│s=s + 1"
      ]
     },
     "execution_count": 33,
     "metadata": {},
     "output_type": "execute_result"
    }
   ],
   "source": [
    "Lexpr13 = laplace_transform_expansion(laplace_transform(expr13, t, s)); Lexpr13"
   ]
  },
  {
   "cell_type": "code",
   "execution_count": 34,
   "metadata": {},
   "outputs": [
    {
     "data": {
      "image/png": "[encoded data removed]",
      "text/latex": [
       "$\\displaystyle s \\left. \\frac{d^{2}}{d s^{2}} F{\\left(s \\right)} \\right|_{\\substack{ s=s + 1 }}$"
      ],
      "text/plain": [
       "  ⎛  2      ⎞│       \n",
       "  ⎜ d       ⎟│       \n",
       "s⋅⎜───(F(s))⎟│       \n",
       "  ⎜  2      ⎟│       \n",
       "  ⎝ds       ⎠│s=s + 1"
      ]
     },
     "execution_count": 34,
     "metadata": {},
     "output_type": "execute_result"
    }
   ],
   "source": [
    "Lexpr13 = Lexpr13.subs(Lf, F(s)); Lexpr13.simplify()"
   ]
  },
  {
   "cell_type": "markdown",
   "metadata": {},
   "source": [
    "---"
   ]
  },
  {
   "cell_type": "code",
   "execution_count": 35,
   "metadata": {},
   "outputs": [
    {
     "data": {
      "image/png": "[encoded data removed]",
      "text/latex": [
       "$\\displaystyle e^{- a t} \\frac{d^{2}}{d t^{2}} f{\\left(t \\right)}$"
      ],
      "text/plain": [
       "        2      \n",
       " -a⋅t  d       \n",
       "ℯ    ⋅───(f(t))\n",
       "        2      \n",
       "      dt       "
      ]
     },
     "execution_count": 35,
     "metadata": {},
     "output_type": "execute_result"
    }
   ],
   "source": [
    "expr14 = sympy.exp(-a*t) *sympy.diff(f(t), t, t); expr14"
   ]
  },
  {
   "cell_type": "code",
   "execution_count": 36,
   "metadata": {},
   "outputs": [
    {
     "data": {
      "image/png": "[encoded data removed]",
      "text/latex": [
       "$\\displaystyle \\left(a + s\\right)^{2} \\mathcal{L}_{t}\\left[f{\\left(t \\right)}\\right]\\left(a + s\\right) - \\left(a + s\\right) f{\\left(0 \\right)} - \\left. \\frac{d}{d t} f{\\left(t \\right)} \\right|_{\\substack{ t=0 }}$"
      ],
      "text/plain": [
       "       2                                                   ⎛d       ⎞│   \n",
       "(a + s) ⋅LaplaceTransform(f(t), t, a + s) - (a + s)⋅f(0) - ⎜──(f(t))⎟│   \n",
       "                                                           ⎝dt      ⎠│t=0"
      ]
     },
     "execution_count": 36,
     "metadata": {},
     "output_type": "execute_result"
    }
   ],
   "source": [
    "Lexpr14 = laplace_transform_expansion(laplace_transform(expr14, t, s)); Lexpr14"
   ]
  },
  {
   "cell_type": "code",
   "execution_count": 37,
   "metadata": {},
   "outputs": [
    {
     "data": {
      "image/png": "[encoded data removed]",
      "text/latex": [
       "$\\displaystyle \\left(a + s\\right)^{2} F{\\left(a + s \\right)} - \\left(a + s\\right) f{\\left(0 \\right)} - \\left. \\frac{d}{d t} f{\\left(t \\right)} \\right|_{\\substack{ t=0 }}$"
      ],
      "text/plain": [
       "       2                           ⎛d       ⎞│   \n",
       "(a + s) ⋅F(a + s) - (a + s)⋅f(0) - ⎜──(f(t))⎟│   \n",
       "                                   ⎝dt      ⎠│t=0"
      ]
     },
     "execution_count": 37,
     "metadata": {},
     "output_type": "execute_result"
    }
   ],
   "source": [
    "Lf_ = laplace_transform(f(t), t, s +a)\n",
    "Lexpr14 = Lexpr14.subs(Lf_, F(s +a)); Lexpr14"
   ]
  },
  {
   "cell_type": "markdown",
   "metadata": {},
   "source": [
    "---"
   ]
  },
  {
   "cell_type": "code",
   "execution_count": 38,
   "metadata": {},
   "outputs": [
    {
     "data": {
      "image/png": "[encoded data removed]",
      "text/latex": [
       "$\\displaystyle e^{- 4 t} \\int\\limits_{0}^{t} f{\\left(\\tau \\right)}\\, d\\tau$"
      ],
      "text/plain": [
       "      t        \n",
       " -4⋅t ⌠        \n",
       "ℯ    ⋅⎮ f(τ) dτ\n",
       "      ⌡        \n",
       "      0        "
      ]
     },
     "execution_count": 38,
     "metadata": {},
     "output_type": "execute_result"
    }
   ],
   "source": [
    "expr15 = sympy.exp(-4*t) *sympy.integrate(f(tau), (tau, 0, t)); expr15"
   ]
  },
  {
   "cell_type": "code",
   "execution_count": 39,
   "metadata": {},
   "outputs": [
    {
     "data": {
      "image/png": "[encoded data removed]",
      "text/latex": [
       "$\\displaystyle \\frac{\\mathcal{L}_{t}\\left[f{\\left(t \\right)}\\right]\\left(s + 4\\right)}{s + 4}$"
      ],
      "text/plain": [
       "LaplaceTransform(f(t), t, s + 4)\n",
       "────────────────────────────────\n",
       "             s + 4              "
      ]
     },
     "execution_count": 39,
     "metadata": {},
     "output_type": "execute_result"
    }
   ],
   "source": [
    "Lexpr15 = laplace_transform_expansion(laplace_transform(expr15, t, s)); Lexpr15"
   ]
  },
  {
   "cell_type": "code",
   "execution_count": 40,
   "metadata": {},
   "outputs": [
    {
     "data": {
      "image/png": "[encoded data removed]",
      "text/latex": [
       "$\\displaystyle \\frac{F{\\left(s + 4 \\right)}}{s + 4}$"
      ],
      "text/plain": [
       "F(s + 4)\n",
       "────────\n",
       " s + 4  "
      ]
     },
     "execution_count": 40,
     "metadata": {},
     "output_type": "execute_result"
    }
   ],
   "source": [
    "Lf_ = laplace_transform(f(t), t, s +4)\n",
    "Lexpr15 = Lexpr15.subs(Lf_, F(s +4)); Lexpr15"
   ]
  },
  {
   "cell_type": "markdown",
   "metadata": {},
   "source": [
    "---"
   ]
  },
  {
   "cell_type": "code",
   "execution_count": 41,
   "metadata": {},
   "outputs": [
    {
     "data": {
      "image/png": "[encoded data removed]",
      "text/latex": [
       "$\\displaystyle f{\\left(3 a t \\right)}$"
      ],
      "text/plain": [
       "f(3⋅a⋅t)"
      ]
     },
     "execution_count": 41,
     "metadata": {},
     "output_type": "execute_result"
    }
   ],
   "source": [
    "expr16 = f(3*a*t); expr16"
   ]
  },
  {
   "cell_type": "code",
   "execution_count": 42,
   "metadata": {},
   "outputs": [
    {
     "data": {
      "image/png": "[encoded data removed]",
      "text/latex": [
       "$\\displaystyle \\frac{\\mathcal{L}_{t}\\left[f{\\left(t \\right)}\\right]\\left(\\frac{s}{3 a}\\right)}{3 a}$"
      ],
      "text/plain": [
       "                ⎛          s ⎞\n",
       "LaplaceTransform⎜f(t), t, ───⎟\n",
       "                ⎝         3⋅a⎠\n",
       "──────────────────────────────\n",
       "             3⋅a              "
      ]
     },
     "execution_count": 42,
     "metadata": {},
     "output_type": "execute_result"
    }
   ],
   "source": [
    "Lexpr16 = laplace_transform_expansion(laplace_transform(expr16, t, s)); Lexpr16"
   ]
  },
  {
   "cell_type": "code",
   "execution_count": 43,
   "metadata": {},
   "outputs": [
    {
     "data": {
      "image/png": "[encoded data removed]",
      "text/latex": [
       "$\\displaystyle \\frac{F{\\left(\\frac{s}{3 a} \\right)}}{3 a}$"
      ],
      "text/plain": [
       " ⎛ s ⎞\n",
       "F⎜───⎟\n",
       " ⎝3⋅a⎠\n",
       "──────\n",
       " 3⋅a  "
      ]
     },
     "execution_count": 43,
     "metadata": {},
     "output_type": "execute_result"
    }
   ],
   "source": [
    "Lf_ = laplace_transform(f(t), t, s /(3*a))\n",
    "Lexpr16 = Lexpr16.subs(Lf_, F(s /(3*a))); Lexpr16"
   ]
  },
  {
   "cell_type": "markdown",
   "metadata": {},
   "source": [
    "---"
   ]
  }
 ],
 "metadata": {
  "kernelspec": {
   "display_name": "Python 3",
   "language": "python",
   "name": "python3"
  },
  "language_info": {
   "codemirror_mode": {
    "name": "ipython",
    "version": 3
   },
   "file_extension": ".py",
   "mimetype": "text/x-python",
   "name": "python",
   "nbconvert_exporter": "python",
   "pygments_lexer": "ipython3",
   "version": "3.8.5"
  }
 },
 "nbformat": 4,
 "nbformat_minor": 4
}
